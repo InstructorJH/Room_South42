{
 "cells": [
  {
   "cell_type": "code",
   "execution_count": null,
   "id": "ee8036cf",
   "metadata": {},
   "outputs": [],
   "source": [
    "#시험지 파일의 이름을 'python_program_test_자신이름' 을 바꾸시오\n",
    "#완성한 파일을 my.topservice@gmail.com 으로 업로드하시오"
   ]
  },
  {
   "cell_type": "code",
   "execution_count": null,
   "id": "9efdc7e9",
   "metadata": {},
   "outputs": [],
   "source": [
    "#n1~n2까지의 구구단을 출력하는 함수를 작성하시오(n2는 포함한다)"
   ]
  },
  {
   "cell_type": "code",
   "execution_count": null,
   "id": "e5463dcb",
   "metadata": {},
   "outputs": [],
   "source": [
    "#Abc1115.csv를 이용하여 정보처리기사 1번 문제를 푸는 함수를 작성하시오.\n",
    "#함수는 2개로 작성하시오\n",
    "#함수1은 파일을 읽어서 2차원 리스트로 만들어 리턴하는 내용\n",
    "#함수2는 2차원 리스트를 리턴받아 1번 문제를 풀고 파일에 저장하는 내용\n",
    "\n",
    "#함수1은 파일을 읽어서 2차원 리스트로 만들어 함수2에 전달하는 내용\n",
    "#함수2는 2차원 리스트를 매개변수로 받아 문제를 풀고 파일에 저장하는 내용"
   ]
  },
  {
   "cell_type": "code",
   "execution_count": null,
   "id": "07953b30",
   "metadata": {},
   "outputs": [],
   "source": [
    "#년과 월을 주어졌을 때 달력을 출력하는 함수를 작성하시오."
   ]
  },
  {
   "cell_type": "code",
   "execution_count": null,
   "id": "100f91ed",
   "metadata": {},
   "outputs": [],
   "source": [
    "#아래 함수들은 숫자 야구게임을 이루는 함수들이다.\n",
    "#playgame(),is_samenumber(number),generate_numbers(),check_judge(hidden_numbers,try_numbers)\n",
    "#1. is_samenumber(number) 함수를 구현하시오\n",
    "#2. check_judge(hidden_numbers,try_numbers) 함수를 구현하시오\n",
    "#3. playgame()을 호출했을때 발생하는 에러를 디버깅하시오\n",
    "#4. 게임이 정상적으로 동작하는 확인하시오"
   ]
  },
  {
   "cell_type": "code",
   "execution_count": 43,
   "id": "bc0a0f50",
   "metadata": {},
   "outputs": [],
   "source": [
    "def playgame():\n",
    "    is_stop = False\n",
    "    count = 0\n",
    "    while not is_stop:\n",
    "        print('{}번째 게임을 시작합니다'.format(count+1))\n",
    "\n",
    "        #-------------- 게임로직 start------------------------\n",
    "        #시스템이 중복없는 4자리 수 만들기\n",
    "        #반복시작: \n",
    "            #사용자가 중복없는 4자리 수 입력하기 \n",
    "            #시스템이 사용자의 입력값 판별하기\n",
    "            #판별값으로 게임종료조건 확인하기\n",
    "            #게임진행의사 확인하기\n",
    "            #반복끝\n",
    "        #--------------게임로직 end--------------------------\n",
    "        hidden_numbers = generate_numbers()\n",
    "        print('hidden_numbers : {}'.format(hidden_numbers))\n",
    "        try_count = 0\n",
    "        is_answer = False\n",
    "        while not is_answer:\n",
    "            print('{}번째 시도입니다.'.format(try_count+1))\n",
    "            #사용자입력\n",
    "            is_correct = False;\n",
    "            while not is_correct:\n",
    "                try_numbers = input('please, 4자리수를 입력하세요! >>> ')\n",
    "                flag = is_samenumber(try_numbers)\n",
    "                if not flag:\n",
    "                    is_correct = True\n",
    "                    pass\n",
    "                pass\n",
    "            #판별결과\n",
    "            (balls,strikes) = check_judge(hidden_numbers,try_numbers)\n",
    "            print('{} balls {} strikes'.format(balls,strikes))\n",
    "            #게임종료조건 확인\n",
    "            if strikes==4:\n",
    "                is_answer = True\n",
    "                print(\"정답입니다.\")\n",
    "                continue\n",
    "                pass\n",
    "            else:\n",
    "                try_count += 1\n",
    "            #게임의사 확인\n",
    "            give_up = input('게임을 중단하겠습니까?[Yes:y, No:n] >>> ')\n",
    "            if give_up == 'y':\n",
    "                is_answer = True\n",
    "                print(\"게임을 중단했습니다.\")\n",
    "                pass\n",
    "            pass\n",
    "\n",
    "        # 게임이 종료된 후 한게임 더 할것인지\n",
    "        command = input(\"one more Game? [Yes:y , No: n] >>> \")\n",
    "        if  command == 'n'   :\n",
    "            is_stop = True\n",
    "            print('Game을 종료합니다.')\n",
    "            pass\n",
    "        else :\n",
    "            count = count + 1\n",
    "\n",
    "        pass"
   ]
  },
  {
   "cell_type": "code",
   "execution_count": 40,
   "id": "79b3c349",
   "metadata": {},
   "outputs": [],
   "source": [
    "def is_samenumber(number): #number는 문자열이 들어옴\n",
    "    flag = False\n",
    "    for i in range(4):\n",
    "        temp = number.count(number[i])\n",
    "        if temp==2:\n",
    "            flag = True\n",
    "            #print(temp,flag,number[i])\n",
    "            break\n",
    "            pass\n",
    "        pass\n",
    "    return flag"
   ]
  },
  {
   "cell_type": "code",
   "execution_count": 47,
   "id": "541bb951",
   "metadata": {},
   "outputs": [],
   "source": [
    "import random\n",
    "def generate_numbers():\n",
    "    hidden_numbers = 0\n",
    "    is_stop = False\n",
    "    while not is_stop:\n",
    "        hidden_numbers = random.randrange(1000,10000)\n",
    "        flag = is_samenumber(str(hidden_numbers))\n",
    "        if not flag:\n",
    "            is_stop = True\n",
    "            pass\n",
    "        pass\n",
    "    \n",
    "    return str(hidden_numbers)"
   ]
  },
  {
   "cell_type": "code",
   "execution_count": 42,
   "id": "b1bbeb4b",
   "metadata": {},
   "outputs": [],
   "source": [
    "def check_judge(hidden_numbers,try_numbers): #매개변수는 문자열\n",
    "    balls = 0\n",
    "    strikes = 0\n",
    "    for i in range(4):\n",
    "        for j in range(4):\n",
    "            if hidden_numbers[i] == try_numbers[j]:\n",
    "                if i==j:\n",
    "                    strikes += 1\n",
    "                else :\n",
    "                    balls += 1\n",
    "                    pass\n",
    "                pass\n",
    "            pass\n",
    "        pass        \n",
    "    return (balls,strikes)"
   ]
  },
  {
   "cell_type": "code",
   "execution_count": 48,
   "id": "a2ce0ed4",
   "metadata": {},
   "outputs": [
    {
     "name": "stdout",
     "output_type": "stream",
     "text": [
      "1번째 게임을 시작합니다\n",
      "hidden_numbers : 4259\n",
      "1번째 시도입니다.\n",
      "please, 4자리수를 입력하세요! >>> 1234\n",
      "1 balls 1 strikes\n",
      "게임을 중단하겠습니까?[Yes:y, No:n] >>> 5678\n",
      "2번째 시도입니다.\n",
      "please, 4자리수를 입력하세요! >>> 5678\n",
      "1 balls 0 strikes\n",
      "게임을 중단하겠습니까?[Yes:y, No:n] >>> n\n",
      "3번째 시도입니다.\n",
      "please, 4자리수를 입력하세요! >>> 4259\n",
      "0 balls 4 strikes\n",
      "정답입니다.\n",
      "one more Game? [Yes:y , No: n] >>> n\n",
      "Game을 종료합니다.\n"
     ]
    }
   ],
   "source": [
    "playgame()"
   ]
  },
  {
   "cell_type": "code",
   "execution_count": 49,
   "id": "8fffc114",
   "metadata": {},
   "outputs": [],
   "source": [
    "def get_list():\n",
    "    m_list = [['a','b'],['c','d']]\n",
    "    return m_list"
   ]
  },
  {
   "cell_type": "code",
   "execution_count": 50,
   "id": "550da017",
   "metadata": {},
   "outputs": [],
   "source": [
    "def list_process():\n",
    "    r_list = get_list()\n",
    "    print(r_list)\n",
    "    pass"
   ]
  },
  {
   "cell_type": "code",
   "execution_count": 51,
   "id": "2f94adcb",
   "metadata": {},
   "outputs": [
    {
     "name": "stdout",
     "output_type": "stream",
     "text": [
      "[['a', 'b'], ['c', 'd']]\n"
     ]
    }
   ],
   "source": [
    "list_process()"
   ]
  },
  {
   "cell_type": "code",
   "execution_count": 54,
   "id": "92153701",
   "metadata": {},
   "outputs": [],
   "source": [
    "def get_list2():\n",
    "    m_list = [['a','b'],['c','d']]\n",
    "    list_process2(m_list)\n",
    "    pass"
   ]
  },
  {
   "cell_type": "code",
   "execution_count": 56,
   "id": "c6c35db8",
   "metadata": {},
   "outputs": [],
   "source": [
    "def list_process2(mlist):\n",
    "    print(mlist)\n",
    "    pass"
   ]
  },
  {
   "cell_type": "code",
   "execution_count": 57,
   "id": "7725a695",
   "metadata": {},
   "outputs": [
    {
     "name": "stdout",
     "output_type": "stream",
     "text": [
      "[['a', 'b'], ['c', 'd']]\n"
     ]
    }
   ],
   "source": [
    "get_list2()"
   ]
  },
  {
   "cell_type": "code",
   "execution_count": null,
   "id": "19532395",
   "metadata": {},
   "outputs": [],
   "source": []
  }
 ],
 "metadata": {
  "kernelspec": {
   "display_name": "Python 3 (ipykernel)",
   "language": "python",
   "name": "python3"
  },
  "language_info": {
   "codemirror_mode": {
    "name": "ipython",
    "version": 3
   },
   "file_extension": ".py",
   "mimetype": "text/x-python",
   "name": "python",
   "nbconvert_exporter": "python",
   "pygments_lexer": "ipython3",
   "version": "3.9.13"
  }
 },
 "nbformat": 4,
 "nbformat_minor": 5
}
