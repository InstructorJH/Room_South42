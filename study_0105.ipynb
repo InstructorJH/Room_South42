{
 "cells": [
  {
   "cell_type": "code",
   "execution_count": 3,
   "id": "413fa455",
   "metadata": {},
   "outputs": [],
   "source": [
    "file = open('./data/source/12/doctor_2019.csv','r',encoding='utf8')\n",
    "lines = file.readlines()\n",
    "file.close()"
   ]
  },
  {
   "cell_type": "code",
   "execution_count": 4,
   "id": "04f5598d",
   "metadata": {},
   "outputs": [
    {
     "data": {
      "text/plain": [
       "['지역,병원명,일반의 수,인턴 수,레지던트 수,전문의 수\\n',\n",
       " '인천,가톨릭대학교인천성모병원,1,22,68,201\\n',\n",
       " '서울,강북삼성병원,6,28,137,204\\n',\n",
       " '서울,건국대학교병원,1,37,164,225\\n',\n",
       " '대구,경북대학교병원,5,77,209,225\\n']"
      ]
     },
     "execution_count": 4,
     "metadata": {},
     "output_type": "execute_result"
    }
   ],
   "source": [
    "lines[:5]"
   ]
  },
  {
   "cell_type": "code",
   "execution_count": 7,
   "id": "64068e7f",
   "metadata": {},
   "outputs": [],
   "source": [
    "h_list = []\n",
    "for line in lines[1:]:\n",
    "    temp = line[:-1].split(',')\n",
    "    for idx in range(2,len(temp)):\n",
    "        temp[idx] = int(temp[idx])\n",
    "    h_list.append(temp)\n",
    "    pass"
   ]
  },
  {
   "cell_type": "code",
   "execution_count": 8,
   "id": "ea198a60",
   "metadata": {},
   "outputs": [
    {
     "data": {
      "text/plain": [
       "[['인천', '가톨릭대학교인천성모병원', 1, 22, 68, 201],\n",
       " ['서울', '강북삼성병원', 6, 28, 137, 204],\n",
       " ['서울', '건국대학교병원', 1, 37, 164, 225],\n",
       " ['대구', '경북대학교병원', 5, 77, 209, 225],\n",
       " ['경남', '경상대학교병원', 1, 35, 114, 182]]"
      ]
     },
     "execution_count": 8,
     "metadata": {},
     "output_type": "execute_result"
    }
   ],
   "source": [
    "h_list[:5]"
   ]
  },
  {
   "cell_type": "code",
   "execution_count": 9,
   "id": "f681636d",
   "metadata": {},
   "outputs": [],
   "source": [
    "doc_list = [['서울',0,0,0,0],['부산',0,0,0,0],['대구',0,0,0,0],\n",
    "            ['인천',0,0,0,0],['대전',0,0,0,0],['광주',0,0,0,0],\n",
    "            ['울산',0,0,0,0]]\n",
    "for h in h_list:\n",
    "    for doc in doc_list:\n",
    "        if doc[0]==h[0]:\n",
    "            for idx in range(1,5):\n",
    "                doc[idx] = doc[idx]+h[idx+1]\n",
    "                pass\n",
    "            pass\n",
    "        pass\n",
    "    pass"
   ]
  },
  {
   "cell_type": "code",
   "execution_count": 10,
   "id": "21d3247e",
   "metadata": {},
   "outputs": [
    {
     "data": {
      "text/plain": [
       "[['서울', 162, 1196, 4757, 9375],\n",
       " ['부산', 58, 197, 785, 2211],\n",
       " ['대구', 27, 215, 712, 1436],\n",
       " ['인천', 47, 138, 444, 1518],\n",
       " ['대전', 25, 142, 425, 1006],\n",
       " ['광주', 16, 102, 356, 1006],\n",
       " ['울산', 19, 23, 104, 467]]"
      ]
     },
     "execution_count": 10,
     "metadata": {},
     "output_type": "execute_result"
    }
   ],
   "source": [
    "doc_list"
   ]
  },
  {
   "cell_type": "code",
   "execution_count": 28,
   "id": "99653590",
   "metadata": {},
   "outputs": [
    {
     "name": "stdout",
     "output_type": "stream",
     "text": [
      "지역 일반의 수 인턴 수 레지던트 수 전문의 수\n",
      "서울 162 1196 4757 9375\n",
      "부산 58 197 785 2211\n",
      "대구 27 215 712 1436\n",
      "인천 47 138 444 1518\n",
      "대전 25 142 425 1006\n",
      "광주 16 102 356 1006\n",
      "울산 19 23 104 467\n"
     ]
    }
   ],
   "source": [
    "file = open('./data/docter_output.csv','w',encoding='utf8')\n",
    "for doc in doc_list:\n",
    "    print('{} {} {} {} {}'.format(doc[0],doc[1],doc[2],doc[3],doc[4]))\n",
    "    file.write('{},{},{},{},{}\\n'.format(doc[0],doc[1],doc[2],doc[3],doc[4]))\n",
    "file.close()"
   ]
  },
  {
   "cell_type": "code",
   "execution_count": 16,
   "id": "f2e69197",
   "metadata": {},
   "outputs": [],
   "source": [
    "temp = lines[0][:-1].split(',')\n",
    "temp = temp[1:]"
   ]
  },
  {
   "cell_type": "code",
   "execution_count": 18,
   "id": "62a0539b",
   "metadata": {},
   "outputs": [],
   "source": [
    "temp[0] = '지역'"
   ]
  },
  {
   "cell_type": "code",
   "execution_count": 19,
   "id": "f7ee0eaf",
   "metadata": {},
   "outputs": [
    {
     "data": {
      "text/plain": [
       "['지역', '일반의 수', '인턴 수', '레지던트 수', '전문의 수']"
      ]
     },
     "execution_count": 19,
     "metadata": {},
     "output_type": "execute_result"
    }
   ],
   "source": [
    "temp"
   ]
  },
  {
   "cell_type": "code",
   "execution_count": 20,
   "id": "922a4d24",
   "metadata": {},
   "outputs": [
    {
     "data": {
      "text/plain": [
       "[['서울', 162, 1196, 4757, 9375], ['부산', 58, 197, 785, 2211]]"
      ]
     },
     "execution_count": 20,
     "metadata": {},
     "output_type": "execute_result"
    }
   ],
   "source": [
    "doc_list[:2]"
   ]
  },
  {
   "cell_type": "code",
   "execution_count": 21,
   "id": "e202b906",
   "metadata": {},
   "outputs": [],
   "source": [
    "doc_list.insert(0,temp)"
   ]
  },
  {
   "cell_type": "code",
   "execution_count": 22,
   "id": "15b1ce3e",
   "metadata": {},
   "outputs": [
    {
     "data": {
      "text/plain": [
       "[['지역', '일반의 수', '인턴 수', '레지던트 수', '전문의 수'],\n",
       " ['서울', 162, 1196, 4757, 9375],\n",
       " ['부산', 58, 197, 785, 2211],\n",
       " ['대구', 27, 215, 712, 1436],\n",
       " ['인천', 47, 138, 444, 1518],\n",
       " ['대전', 25, 142, 425, 1006],\n",
       " ['광주', 16, 102, 356, 1006],\n",
       " ['울산', 19, 23, 104, 467]]"
      ]
     },
     "execution_count": 22,
     "metadata": {},
     "output_type": "execute_result"
    }
   ],
   "source": [
    "doc_list"
   ]
  },
  {
   "cell_type": "code",
   "execution_count": 30,
   "id": "be2db261",
   "metadata": {},
   "outputs": [],
   "source": [
    "file = open('./data/source/12/doctor2.csv','r',encoding='utf8')\n",
    "lines = file.readlines()\n",
    "file.close()"
   ]
  },
  {
   "cell_type": "code",
   "execution_count": 31,
   "id": "27d7c6ad",
   "metadata": {},
   "outputs": [
    {
     "data": {
      "text/plain": [
       "['지역,일반의 수,인턴 수,레지던트 수,전문의 수\\n',\n",
       " '서울,162,1196,4757,9375\\n',\n",
       " '부산,58,197,785,2211\\n',\n",
       " '대구,27,215,712,1436\\n',\n",
       " '인천,47,138,444,1518\\n']"
      ]
     },
     "execution_count": 31,
     "metadata": {},
     "output_type": "execute_result"
    }
   ],
   "source": [
    "lines[0:5]"
   ]
  },
  {
   "cell_type": "code",
   "execution_count": 34,
   "id": "14b67c9b",
   "metadata": {},
   "outputs": [],
   "source": [
    "d_list = []\n",
    "for line in lines[1:]:\n",
    "    temp = line[:-1].split(',')\n",
    "    for idx in range(1,len(temp)):\n",
    "        temp[idx] = int(temp[idx])\n",
    "    d_list.append(temp)\n",
    "    pass"
   ]
  },
  {
   "cell_type": "code",
   "execution_count": 35,
   "id": "c67bca35",
   "metadata": {},
   "outputs": [
    {
     "data": {
      "text/plain": [
       "[['서울', 162, 1196, 4757, 9375],\n",
       " ['부산', 58, 197, 785, 2211],\n",
       " ['대구', 27, 215, 712, 1436],\n",
       " ['인천', 47, 138, 444, 1518],\n",
       " ['대전', 25, 142, 425, 1006],\n",
       " ['광주', 16, 102, 356, 1006],\n",
       " ['울산', 19, 23, 104, 467]]"
      ]
     },
     "execution_count": 35,
     "metadata": {},
     "output_type": "execute_result"
    }
   ],
   "source": [
    "d_list"
   ]
  },
  {
   "cell_type": "code",
   "execution_count": 36,
   "id": "d8a8b7e1",
   "metadata": {},
   "outputs": [],
   "source": [
    "a = []\n",
    "g = []\n",
    "i = []\n",
    "r = []\n",
    "s = []\n",
    "for d in d_list:\n",
    "    a.append(d[0])\n",
    "    g.append(d[1])\n",
    "    i.append(d[2])\n",
    "    r.append(d[3])\n",
    "    s.append(d[4])\n",
    "    pass"
   ]
  },
  {
   "cell_type": "code",
   "execution_count": 38,
   "id": "93938d10",
   "metadata": {},
   "outputs": [
    {
     "name": "stdout",
     "output_type": "stream",
     "text": [
      "['서울', '부산', '대구', '인천', '대전', '광주', '울산']\n",
      "[162, 58, 27, 47, 25, 16, 19]\n",
      "[1196, 197, 215, 138, 142, 102, 23]\n",
      "[4757, 785, 712, 444, 425, 356, 104]\n",
      "[9375, 2211, 1436, 1518, 1006, 1006, 467]\n"
     ]
    }
   ],
   "source": [
    "print(a)\n",
    "print(g)\n",
    "print(i)\n",
    "print(r)\n",
    "print(s)"
   ]
  },
  {
   "cell_type": "code",
   "execution_count": 29,
   "id": "268e29fd",
   "metadata": {},
   "outputs": [],
   "source": [
    "import matplotlib.pyplot as plt\n",
    "from matplotlib import rc\n",
    "\n",
    "rc('font',family='Malgun Gothic')"
   ]
  },
  {
   "cell_type": "code",
   "execution_count": 39,
   "id": "336ae4e2",
   "metadata": {},
   "outputs": [
    {
     "data": {
      "image/png": "[encoded data removed]",
      "text/plain": [
       "<Figure size 640x480 with 1 Axes>"
      ]
     },
     "metadata": {},
     "output_type": "display_data"
    }
   ],
   "source": [
    "#x,y데이터 집합과 scatter 함수 사용\n",
    "x = a\n",
    "y = s\n",
    "plt.scatter(x,y)\n",
    "plt.show()"
   ]
  },
  {
   "cell_type": "code",
   "execution_count": 48,
   "id": "a2b05eb6",
   "metadata": {},
   "outputs": [
    {
     "data": {
      "image/png": "[encoded data removed]",
      "text/plain": [
       "<Figure size 640x480 with 1 Axes>"
      ]
     },
     "metadata": {},
     "output_type": "display_data"
    }
   ],
   "source": [
    "x = a\n",
    "y1 = g\n",
    "plt.plot(x,y1,label='일반의', linestyle='--', marker='*')\n",
    "plt.plot(x,i,label='인턴')\n",
    "plt.plot(x,r,label='레지던트')\n",
    "plt.plot(x,s,label='전문의')\n",
    "plt.legend(loc='best')\n",
    "plt.show()"
   ]
  },
  {
   "cell_type": "code",
   "execution_count": 49,
   "id": "47c88d1d",
   "metadata": {},
   "outputs": [],
   "source": [
    "import numpy as np"
   ]
  },
  {
   "cell_type": "code",
   "execution_count": 51,
   "id": "910556cd",
   "metadata": {},
   "outputs": [
    {
     "name": "stdout",
     "output_type": "stream",
     "text": [
      "[1 2 3 4 5]\n",
      "<class 'numpy.ndarray'>\n",
      "int32\n"
     ]
    }
   ],
   "source": [
    "data = np.array([1,2,3,4,5])\n",
    "print(data)\n",
    "print(type(data))\n",
    "print(data.dtype)"
   ]
  },
  {
   "cell_type": "code",
   "execution_count": 52,
   "id": "8f43ab9b",
   "metadata": {},
   "outputs": [],
   "source": [
    "data2 = np.random.randn(2,3)"
   ]
  },
  {
   "cell_type": "code",
   "execution_count": 54,
   "id": "e13feb7d",
   "metadata": {},
   "outputs": [
    {
     "name": "stdout",
     "output_type": "stream",
     "text": [
      "[[-0.46069353  0.04067165 -1.01710734]\n",
      " [-0.33190687  0.37917904 -1.03964903]]\n",
      "(2, 3)\n",
      "float64\n"
     ]
    }
   ],
   "source": [
    "print(data2)\n",
    "print(data2.shape)\n",
    "print(data2.dtype)"
   ]
  },
  {
   "cell_type": "code",
   "execution_count": 55,
   "id": "edef61e8",
   "metadata": {},
   "outputs": [
    {
     "name": "stdout",
     "output_type": "stream",
     "text": [
      "[1 2 3 4 5]\n",
      "(5,)\n",
      "int32\n"
     ]
    }
   ],
   "source": [
    "print(data)\n",
    "print(data.shape)\n",
    "print(data.dtype)"
   ]
  },
  {
   "cell_type": "code",
   "execution_count": 56,
   "id": "4a5f271c",
   "metadata": {},
   "outputs": [
    {
     "name": "stdout",
     "output_type": "stream",
     "text": [
      "[[1 1 1]\n",
      " [2 2 2]\n",
      " [3 3 3]]\n"
     ]
    }
   ],
   "source": [
    "x = np.array([[1,1,1],[2,2,2],[3,3,3]])\n",
    "print(x)"
   ]
  },
  {
   "cell_type": "code",
   "execution_count": 57,
   "id": "4dcd2900",
   "metadata": {},
   "outputs": [],
   "source": [
    "y=np.insert(x,1,10,axis=0)"
   ]
  },
  {
   "cell_type": "code",
   "execution_count": 58,
   "id": "3f10eb81",
   "metadata": {},
   "outputs": [
    {
     "data": {
      "text/plain": [
       "array([[ 1,  1,  1],\n",
       "       [10, 10, 10],\n",
       "       [ 2,  2,  2],\n",
       "       [ 3,  3,  3]])"
      ]
     },
     "execution_count": 58,
     "metadata": {},
     "output_type": "execute_result"
    }
   ],
   "source": [
    "y"
   ]
  },
  {
   "cell_type": "code",
   "execution_count": 59,
   "id": "b2dd005d",
   "metadata": {},
   "outputs": [],
   "source": [
    "z = np.insert(x,1,10,axis=1)"
   ]
  },
  {
   "cell_type": "code",
   "execution_count": 60,
   "id": "93cd406f",
   "metadata": {},
   "outputs": [
    {
     "data": {
      "text/plain": [
       "array([[ 1, 10,  1,  1],\n",
       "       [ 2, 10,  2,  2],\n",
       "       [ 3, 10,  3,  3]])"
      ]
     },
     "execution_count": 60,
     "metadata": {},
     "output_type": "execute_result"
    }
   ],
   "source": [
    "z"
   ]
  },
  {
   "cell_type": "code",
   "execution_count": 61,
   "id": "189840ef",
   "metadata": {},
   "outputs": [
    {
     "data": {
      "text/plain": [
       "[['서울', 162, 1196, 4757, 9375],\n",
       " ['부산', 58, 197, 785, 2211],\n",
       " ['대구', 27, 215, 712, 1436],\n",
       " ['인천', 47, 138, 444, 1518],\n",
       " ['대전', 25, 142, 425, 1006],\n",
       " ['광주', 16, 102, 356, 1006],\n",
       " ['울산', 19, 23, 104, 467]]"
      ]
     },
     "execution_count": 61,
     "metadata": {},
     "output_type": "execute_result"
    }
   ],
   "source": [
    "d_list"
   ]
  },
  {
   "cell_type": "code",
   "execution_count": 63,
   "id": "a0322941",
   "metadata": {},
   "outputs": [],
   "source": [
    "docters = np.zeros((7,4),dtype='int32')"
   ]
  },
  {
   "cell_type": "code",
   "execution_count": 64,
   "id": "05360f3c",
   "metadata": {},
   "outputs": [
    {
     "data": {
      "text/plain": [
       "array([[0, 0, 0, 0],\n",
       "       [0, 0, 0, 0],\n",
       "       [0, 0, 0, 0],\n",
       "       [0, 0, 0, 0],\n",
       "       [0, 0, 0, 0],\n",
       "       [0, 0, 0, 0],\n",
       "       [0, 0, 0, 0]])"
      ]
     },
     "execution_count": 64,
     "metadata": {},
     "output_type": "execute_result"
    }
   ],
   "source": [
    "docters"
   ]
  },
  {
   "cell_type": "code",
   "execution_count": 65,
   "id": "24fc262e",
   "metadata": {},
   "outputs": [],
   "source": [
    "for i in range(len(d_list)):\n",
    "    for j in range(1,len(d_list[i])):\n",
    "        docters[i][j-1] = d_list[i][j]\n",
    "        pass\n",
    "    pass"
   ]
  },
  {
   "cell_type": "code",
   "execution_count": 67,
   "id": "0af34fa8",
   "metadata": {},
   "outputs": [
    {
     "name": "stdout",
     "output_type": "stream",
     "text": [
      "[[ 162 1196 4757 9375]\n",
      " [  58  197  785 2211]\n",
      " [  27  215  712 1436]\n",
      " [  47  138  444 1518]\n",
      " [  25  142  425 1006]\n",
      " [  16  102  356 1006]\n",
      " [  19   23  104  467]]\n"
     ]
    }
   ],
   "source": [
    "print(docters)"
   ]
  },
  {
   "cell_type": "code",
   "execution_count": 69,
   "id": "42f4d543",
   "metadata": {},
   "outputs": [
    {
     "data": {
      "image/png": "[encoded data removed]",
      "text/plain": [
       "<Figure size 640x480 with 1 Axes>"
      ]
     },
     "metadata": {},
     "output_type": "display_data"
    }
   ],
   "source": [
    "x = ['a','b','c','d','e','f','g']\n",
    "y3 = docters[:,3]\n",
    "y2 = docters[:,2]\n",
    "y1 = docters[:,1]\n",
    "y0 = docters[:,0]\n",
    "plt.plot(x,y0)\n",
    "plt.plot(x,y1)\n",
    "plt.plot(x,y2)\n",
    "plt.plot(x,y3)\n",
    "plt.show()"
   ]
  },
  {
   "cell_type": "code",
   "execution_count": 70,
   "id": "0717b8a9",
   "metadata": {},
   "outputs": [],
   "source": [
    "import pandas as pd"
   ]
  },
  {
   "cell_type": "code",
   "execution_count": 71,
   "id": "ea6c8916",
   "metadata": {},
   "outputs": [
    {
     "name": "stdout",
     "output_type": "stream",
     "text": [
      "0    100\n",
      "1    200\n",
      "2    300\n",
      "3    400\n",
      "4    500\n",
      "dtype: int64\n"
     ]
    }
   ],
   "source": [
    "obj = pd.Series([10,20,30,40,50])\n",
    "print(obj*10)"
   ]
  },
  {
   "cell_type": "code",
   "execution_count": 72,
   "id": "fbe1b0d8",
   "metadata": {},
   "outputs": [
    {
     "name": "stdout",
     "output_type": "stream",
     "text": [
      "0    False\n",
      "1    False\n",
      "2     True\n",
      "3     True\n",
      "4     True\n",
      "dtype: bool\n"
     ]
    }
   ],
   "source": [
    "print(obj>25)"
   ]
  },
  {
   "cell_type": "code",
   "execution_count": 73,
   "id": "a61163b7",
   "metadata": {},
   "outputs": [
    {
     "name": "stdout",
     "output_type": "stream",
     "text": [
      "2    30\n",
      "3    40\n",
      "4    50\n",
      "dtype: int64\n"
     ]
    }
   ],
   "source": [
    "print(obj[obj>25])"
   ]
  },
  {
   "cell_type": "code",
   "execution_count": 76,
   "id": "7eeb282a",
   "metadata": {},
   "outputs": [],
   "source": [
    "gisa_df = pd.read_csv('./data/Abc1115.csv',header=None)"
   ]
  },
  {
   "cell_type": "code",
   "execution_count": 78,
   "id": "fb736963",
   "metadata": {},
   "outputs": [
    {
     "data": {
      "text/plain": [
       "pandas.core.frame.DataFrame"
      ]
     },
     "execution_count": 78,
     "metadata": {},
     "output_type": "execute_result"
    }
   ],
   "source": [
    "type(gisa_df)"
   ]
  },
  {
   "cell_type": "code",
   "execution_count": 82,
   "id": "7eaa160a",
   "metadata": {},
   "outputs": [
    {
     "data": {
      "text/html": [
       "<div>\n",
       "<style scoped>\n",
       "    .dataframe tbody tr th:only-of-type {\n",
       "        vertical-align: middle;\n",
       "    }\n",
       "\n",
       "    .dataframe tbody tr th {\n",
       "        vertical-align: top;\n",
       "    }\n",
       "\n",
       "    .dataframe thead th {\n",
       "        text-align: right;\n",
       "    }\n",
       "</style>\n",
       "<table border=\"1\" class=\"dataframe\">\n",
       "  <thead>\n",
       "    <tr style=\"text-align: right;\">\n",
       "      <th></th>\n",
       "      <th>0</th>\n",
       "      <th>1</th>\n",
       "      <th>2</th>\n",
       "      <th>3</th>\n",
       "      <th>4</th>\n",
       "      <th>5</th>\n",
       "      <th>6</th>\n",
       "      <th>7</th>\n",
       "      <th>8</th>\n",
       "      <th>9</th>\n",
       "      <th>10</th>\n",
       "    </tr>\n",
       "  </thead>\n",
       "  <tbody>\n",
       "    <tr>\n",
       "      <th>995</th>\n",
       "      <td>990996</td>\n",
       "      <td>seok</td>\n",
       "      <td>43</td>\n",
       "      <td>35</td>\n",
       "      <td>77</td>\n",
       "      <td>34</td>\n",
       "      <td>39</td>\n",
       "      <td>228</td>\n",
       "      <td>A</td>\n",
       "      <td>B</td>\n",
       "      <td>B</td>\n",
       "    </tr>\n",
       "    <tr>\n",
       "      <th>996</th>\n",
       "      <td>990997</td>\n",
       "      <td>smj2</td>\n",
       "      <td>3</td>\n",
       "      <td>59</td>\n",
       "      <td>28</td>\n",
       "      <td>53</td>\n",
       "      <td>23</td>\n",
       "      <td>166</td>\n",
       "      <td>A</td>\n",
       "      <td>C</td>\n",
       "      <td>B</td>\n",
       "    </tr>\n",
       "    <tr>\n",
       "      <th>997</th>\n",
       "      <td>990998</td>\n",
       "      <td>kcdp</td>\n",
       "      <td>34</td>\n",
       "      <td>46</td>\n",
       "      <td>95</td>\n",
       "      <td>37</td>\n",
       "      <td>11</td>\n",
       "      <td>223</td>\n",
       "      <td>B</td>\n",
       "      <td>A</td>\n",
       "      <td>A</td>\n",
       "    </tr>\n",
       "    <tr>\n",
       "      <th>998</th>\n",
       "      <td>990999</td>\n",
       "      <td>banj</td>\n",
       "      <td>12</td>\n",
       "      <td>36</td>\n",
       "      <td>10</td>\n",
       "      <td>62</td>\n",
       "      <td>28</td>\n",
       "      <td>148</td>\n",
       "      <td>C</td>\n",
       "      <td>A</td>\n",
       "      <td>C</td>\n",
       "    </tr>\n",
       "    <tr>\n",
       "      <th>999</th>\n",
       "      <td>991000</td>\n",
       "      <td>ccor</td>\n",
       "      <td>64</td>\n",
       "      <td>53</td>\n",
       "      <td>22</td>\n",
       "      <td>36</td>\n",
       "      <td>54</td>\n",
       "      <td>229</td>\n",
       "      <td>B</td>\n",
       "      <td>C</td>\n",
       "      <td>C</td>\n",
       "    </tr>\n",
       "  </tbody>\n",
       "</table>\n",
       "</div>"
      ],
      "text/plain": [
       "         0     1   2   3   4   5   6    7  8  9  10\n",
       "995  990996  seok  43  35  77  34  39  228  A  B  B\n",
       "996  990997  smj2   3  59  28  53  23  166  A  C  B\n",
       "997  990998  kcdp  34  46  95  37  11  223  B  A  A\n",
       "998  990999  banj  12  36  10  62  28  148  C  A  C\n",
       "999  991000  ccor  64  53  22  36  54  229  B  C  C"
      ]
     },
     "execution_count": 82,
     "metadata": {},
     "output_type": "execute_result"
    }
   ],
   "source": [
    "gisa_df.tail(5)"
   ]
  },
  {
   "cell_type": "code",
   "execution_count": 83,
   "id": "e91e4fb9",
   "metadata": {},
   "outputs": [
    {
     "data": {
      "text/plain": [
       "Int64Index([0, 1, 2, 3, 4, 5, 6, 7, 8, 9, 10], dtype='int64')"
      ]
     },
     "execution_count": 83,
     "metadata": {},
     "output_type": "execute_result"
    }
   ],
   "source": [
    "gisa_df.columns"
   ]
  },
  {
   "cell_type": "code",
   "execution_count": 84,
   "id": "51ce4ab0",
   "metadata": {},
   "outputs": [],
   "source": [
    "gisa_df.columns = ['std','email','kor','eng','math','sci','hist','total','magr_code','acc_code','loc_code']"
   ]
  },
  {
   "cell_type": "code",
   "execution_count": 85,
   "id": "b31b8456",
   "metadata": {},
   "outputs": [
    {
     "data": {
      "text/plain": [
       "Index(['std', 'email', 'kor', 'eng', 'math', 'sci', 'hist', 'total',\n",
       "       'magr_code', 'acc_code', 'loc_code'],\n",
       "      dtype='object')"
      ]
     },
     "execution_count": 85,
     "metadata": {},
     "output_type": "execute_result"
    }
   ],
   "source": [
    "gisa_df.columns"
   ]
  },
  {
   "cell_type": "code",
   "execution_count": 86,
   "id": "641e9dd7",
   "metadata": {},
   "outputs": [
    {
     "data": {
      "text/html": [
       "<div>\n",
       "<style scoped>\n",
       "    .dataframe tbody tr th:only-of-type {\n",
       "        vertical-align: middle;\n",
       "    }\n",
       "\n",
       "    .dataframe tbody tr th {\n",
       "        vertical-align: top;\n",
       "    }\n",
       "\n",
       "    .dataframe thead th {\n",
       "        text-align: right;\n",
       "    }\n",
       "</style>\n",
       "<table border=\"1\" class=\"dataframe\">\n",
       "  <thead>\n",
       "    <tr style=\"text-align: right;\">\n",
       "      <th></th>\n",
       "      <th>std</th>\n",
       "      <th>email</th>\n",
       "      <th>kor</th>\n",
       "      <th>eng</th>\n",
       "      <th>math</th>\n",
       "      <th>sci</th>\n",
       "      <th>hist</th>\n",
       "      <th>total</th>\n",
       "      <th>magr_code</th>\n",
       "      <th>acc_code</th>\n",
       "      <th>loc_code</th>\n",
       "    </tr>\n",
       "  </thead>\n",
       "  <tbody>\n",
       "    <tr>\n",
       "      <th>0</th>\n",
       "      <td>990001</td>\n",
       "      <td>addx</td>\n",
       "      <td>17</td>\n",
       "      <td>29</td>\n",
       "      <td>16</td>\n",
       "      <td>49</td>\n",
       "      <td>43</td>\n",
       "      <td>154</td>\n",
       "      <td>C</td>\n",
       "      <td>A</td>\n",
       "      <td>C</td>\n",
       "    </tr>\n",
       "    <tr>\n",
       "      <th>1</th>\n",
       "      <td>990002</td>\n",
       "      <td>stch</td>\n",
       "      <td>30</td>\n",
       "      <td>9</td>\n",
       "      <td>48</td>\n",
       "      <td>25</td>\n",
       "      <td>81</td>\n",
       "      <td>193</td>\n",
       "      <td>C</td>\n",
       "      <td>A</td>\n",
       "      <td>A</td>\n",
       "    </tr>\n",
       "    <tr>\n",
       "      <th>2</th>\n",
       "      <td>990003</td>\n",
       "      <td>gali</td>\n",
       "      <td>93</td>\n",
       "      <td>60</td>\n",
       "      <td>6</td>\n",
       "      <td>84</td>\n",
       "      <td>36</td>\n",
       "      <td>279</td>\n",
       "      <td>A</td>\n",
       "      <td>C</td>\n",
       "      <td>A</td>\n",
       "    </tr>\n",
       "    <tr>\n",
       "      <th>3</th>\n",
       "      <td>990004</td>\n",
       "      <td>miat</td>\n",
       "      <td>73</td>\n",
       "      <td>22</td>\n",
       "      <td>48</td>\n",
       "      <td>24</td>\n",
       "      <td>72</td>\n",
       "      <td>239</td>\n",
       "      <td>B</td>\n",
       "      <td>C</td>\n",
       "      <td>C</td>\n",
       "    </tr>\n",
       "    <tr>\n",
       "      <th>4</th>\n",
       "      <td>990005</td>\n",
       "      <td>oran</td>\n",
       "      <td>33</td>\n",
       "      <td>38</td>\n",
       "      <td>59</td>\n",
       "      <td>58</td>\n",
       "      <td>28</td>\n",
       "      <td>216</td>\n",
       "      <td>C</td>\n",
       "      <td>B</td>\n",
       "      <td>A</td>\n",
       "    </tr>\n",
       "  </tbody>\n",
       "</table>\n",
       "</div>"
      ],
      "text/plain": [
       "      std email  kor  eng  math  sci  hist  total magr_code acc_code loc_code\n",
       "0  990001  addx   17   29    16   49    43    154         C        A        C\n",
       "1  990002  stch   30    9    48   25    81    193         C        A        A\n",
       "2  990003  gali   93   60     6   84    36    279         A        C        A\n",
       "3  990004  miat   73   22    48   24    72    239         B        C        C\n",
       "4  990005  oran   33   38    59   58    28    216         C        B        A"
      ]
     },
     "execution_count": 86,
     "metadata": {},
     "output_type": "execute_result"
    }
   ],
   "source": [
    "gisa_df.head()"
   ]
  },
  {
   "cell_type": "code",
   "execution_count": 87,
   "id": "953e8487",
   "metadata": {},
   "outputs": [
    {
     "name": "stdout",
     "output_type": "stream",
     "text": [
      "<class 'pandas.core.frame.DataFrame'>\n",
      "RangeIndex: 1000 entries, 0 to 999\n",
      "Data columns (total 11 columns):\n",
      " #   Column     Non-Null Count  Dtype \n",
      "---  ------     --------------  ----- \n",
      " 0   std        1000 non-null   int64 \n",
      " 1   email      1000 non-null   object\n",
      " 2   kor        1000 non-null   int64 \n",
      " 3   eng        1000 non-null   int64 \n",
      " 4   math       1000 non-null   int64 \n",
      " 5   sci        1000 non-null   int64 \n",
      " 6   hist       1000 non-null   int64 \n",
      " 7   total      1000 non-null   int64 \n",
      " 8   magr_code  1000 non-null   object\n",
      " 9   acc_code   1000 non-null   object\n",
      " 10  loc_code   1000 non-null   object\n",
      "dtypes: int64(7), object(4)\n",
      "memory usage: 86.1+ KB\n"
     ]
    }
   ],
   "source": [
    "gisa_df.info()"
   ]
  },
  {
   "cell_type": "code",
   "execution_count": 88,
   "id": "0ed7020c",
   "metadata": {},
   "outputs": [
    {
     "data": {
      "text/plain": [
       "(1000, 11)"
      ]
     },
     "execution_count": 88,
     "metadata": {},
     "output_type": "execute_result"
    }
   ],
   "source": [
    "gisa_df.shape"
   ]
  },
  {
   "cell_type": "code",
   "execution_count": 89,
   "id": "5ff4573e",
   "metadata": {},
   "outputs": [
    {
     "data": {
      "text/html": [
       "<div>\n",
       "<style scoped>\n",
       "    .dataframe tbody tr th:only-of-type {\n",
       "        vertical-align: middle;\n",
       "    }\n",
       "\n",
       "    .dataframe tbody tr th {\n",
       "        vertical-align: top;\n",
       "    }\n",
       "\n",
       "    .dataframe thead th {\n",
       "        text-align: right;\n",
       "    }\n",
       "</style>\n",
       "<table border=\"1\" class=\"dataframe\">\n",
       "  <thead>\n",
       "    <tr style=\"text-align: right;\">\n",
       "      <th></th>\n",
       "      <th>std</th>\n",
       "      <th>kor</th>\n",
       "      <th>eng</th>\n",
       "      <th>math</th>\n",
       "      <th>sci</th>\n",
       "      <th>hist</th>\n",
       "      <th>total</th>\n",
       "    </tr>\n",
       "  </thead>\n",
       "  <tbody>\n",
       "    <tr>\n",
       "      <th>count</th>\n",
       "      <td>1000.000000</td>\n",
       "      <td>1000.000000</td>\n",
       "      <td>1000.000000</td>\n",
       "      <td>1000.000000</td>\n",
       "      <td>1000.000000</td>\n",
       "      <td>1000.000000</td>\n",
       "      <td>1000.000000</td>\n",
       "    </tr>\n",
       "    <tr>\n",
       "      <th>mean</th>\n",
       "      <td>990500.500000</td>\n",
       "      <td>50.026000</td>\n",
       "      <td>49.543000</td>\n",
       "      <td>50.920000</td>\n",
       "      <td>51.275000</td>\n",
       "      <td>50.915000</td>\n",
       "      <td>252.679000</td>\n",
       "    </tr>\n",
       "    <tr>\n",
       "      <th>std</th>\n",
       "      <td>288.819436</td>\n",
       "      <td>28.498904</td>\n",
       "      <td>29.046684</td>\n",
       "      <td>29.288178</td>\n",
       "      <td>28.770664</td>\n",
       "      <td>28.434456</td>\n",
       "      <td>65.199179</td>\n",
       "    </tr>\n",
       "    <tr>\n",
       "      <th>min</th>\n",
       "      <td>990001.000000</td>\n",
       "      <td>1.000000</td>\n",
       "      <td>1.000000</td>\n",
       "      <td>1.000000</td>\n",
       "      <td>1.000000</td>\n",
       "      <td>1.000000</td>\n",
       "      <td>67.000000</td>\n",
       "    </tr>\n",
       "    <tr>\n",
       "      <th>25%</th>\n",
       "      <td>990250.750000</td>\n",
       "      <td>26.000000</td>\n",
       "      <td>25.000000</td>\n",
       "      <td>25.000000</td>\n",
       "      <td>26.000000</td>\n",
       "      <td>25.000000</td>\n",
       "      <td>207.000000</td>\n",
       "    </tr>\n",
       "    <tr>\n",
       "      <th>50%</th>\n",
       "      <td>990500.500000</td>\n",
       "      <td>48.000000</td>\n",
       "      <td>49.000000</td>\n",
       "      <td>50.000000</td>\n",
       "      <td>52.000000</td>\n",
       "      <td>52.000000</td>\n",
       "      <td>251.000000</td>\n",
       "    </tr>\n",
       "    <tr>\n",
       "      <th>75%</th>\n",
       "      <td>990750.250000</td>\n",
       "      <td>75.000000</td>\n",
       "      <td>74.000000</td>\n",
       "      <td>76.000000</td>\n",
       "      <td>76.000000</td>\n",
       "      <td>75.000000</td>\n",
       "      <td>298.000000</td>\n",
       "    </tr>\n",
       "    <tr>\n",
       "      <th>max</th>\n",
       "      <td>991000.000000</td>\n",
       "      <td>100.000000</td>\n",
       "      <td>100.000000</td>\n",
       "      <td>100.000000</td>\n",
       "      <td>100.000000</td>\n",
       "      <td>100.000000</td>\n",
       "      <td>434.000000</td>\n",
       "    </tr>\n",
       "  </tbody>\n",
       "</table>\n",
       "</div>"
      ],
      "text/plain": [
       "                 std          kor          eng         math          sci  \\\n",
       "count    1000.000000  1000.000000  1000.000000  1000.000000  1000.000000   \n",
       "mean   990500.500000    50.026000    49.543000    50.920000    51.275000   \n",
       "std       288.819436    28.498904    29.046684    29.288178    28.770664   \n",
       "min    990001.000000     1.000000     1.000000     1.000000     1.000000   \n",
       "25%    990250.750000    26.000000    25.000000    25.000000    26.000000   \n",
       "50%    990500.500000    48.000000    49.000000    50.000000    52.000000   \n",
       "75%    990750.250000    75.000000    74.000000    76.000000    76.000000   \n",
       "max    991000.000000   100.000000   100.000000   100.000000   100.000000   \n",
       "\n",
       "              hist        total  \n",
       "count  1000.000000  1000.000000  \n",
       "mean     50.915000   252.679000  \n",
       "std      28.434456    65.199179  \n",
       "min       1.000000    67.000000  \n",
       "25%      25.000000   207.000000  \n",
       "50%      52.000000   251.000000  \n",
       "75%      75.000000   298.000000  \n",
       "max     100.000000   434.000000  "
      ]
     },
     "execution_count": 89,
     "metadata": {},
     "output_type": "execute_result"
    }
   ],
   "source": [
    "gisa_df.describe()"
   ]
  },
  {
   "cell_type": "code",
   "execution_count": 99,
   "id": "0c268b45",
   "metadata": {},
   "outputs": [],
   "source": [
    "a = gisa_df[:5]['eng']"
   ]
  },
  {
   "cell_type": "code",
   "execution_count": 96,
   "id": "f32209f6",
   "metadata": {},
   "outputs": [
    {
     "data": {
      "text/plain": [
       "pandas.core.series.Series"
      ]
     },
     "execution_count": 96,
     "metadata": {},
     "output_type": "execute_result"
    }
   ],
   "source": [
    "type(a)"
   ]
  },
  {
   "cell_type": "code",
   "execution_count": 100,
   "id": "5e4f4595",
   "metadata": {},
   "outputs": [
    {
     "data": {
      "text/plain": [
       "0    29\n",
       "1     9\n",
       "2    60\n",
       "3    22\n",
       "4    38\n",
       "Name: eng, dtype: int64"
      ]
     },
     "execution_count": 100,
     "metadata": {},
     "output_type": "execute_result"
    }
   ],
   "source": [
    "a"
   ]
  },
  {
   "cell_type": "code",
   "execution_count": 101,
   "id": "125d5e3c",
   "metadata": {},
   "outputs": [
    {
     "data": {
      "text/html": [
       "<div>\n",
       "<style scoped>\n",
       "    .dataframe tbody tr th:only-of-type {\n",
       "        vertical-align: middle;\n",
       "    }\n",
       "\n",
       "    .dataframe tbody tr th {\n",
       "        vertical-align: top;\n",
       "    }\n",
       "\n",
       "    .dataframe thead th {\n",
       "        text-align: right;\n",
       "    }\n",
       "</style>\n",
       "<table border=\"1\" class=\"dataframe\">\n",
       "  <thead>\n",
       "    <tr style=\"text-align: right;\">\n",
       "      <th></th>\n",
       "      <th>kor</th>\n",
       "      <th>eng</th>\n",
       "      <th>math</th>\n",
       "    </tr>\n",
       "  </thead>\n",
       "  <tbody>\n",
       "    <tr>\n",
       "      <th>0</th>\n",
       "      <td>17</td>\n",
       "      <td>29</td>\n",
       "      <td>16</td>\n",
       "    </tr>\n",
       "    <tr>\n",
       "      <th>1</th>\n",
       "      <td>30</td>\n",
       "      <td>9</td>\n",
       "      <td>48</td>\n",
       "    </tr>\n",
       "    <tr>\n",
       "      <th>2</th>\n",
       "      <td>93</td>\n",
       "      <td>60</td>\n",
       "      <td>6</td>\n",
       "    </tr>\n",
       "    <tr>\n",
       "      <th>3</th>\n",
       "      <td>73</td>\n",
       "      <td>22</td>\n",
       "      <td>48</td>\n",
       "    </tr>\n",
       "    <tr>\n",
       "      <th>4</th>\n",
       "      <td>33</td>\n",
       "      <td>38</td>\n",
       "      <td>59</td>\n",
       "    </tr>\n",
       "    <tr>\n",
       "      <th>5</th>\n",
       "      <td>27</td>\n",
       "      <td>65</td>\n",
       "      <td>54</td>\n",
       "    </tr>\n",
       "  </tbody>\n",
       "</table>\n",
       "</div>"
      ],
      "text/plain": [
       "   kor  eng  math\n",
       "0   17   29    16\n",
       "1   30    9    48\n",
       "2   93   60     6\n",
       "3   73   22    48\n",
       "4   33   38    59\n",
       "5   27   65    54"
      ]
     },
     "execution_count": 101,
     "metadata": {},
     "output_type": "execute_result"
    }
   ],
   "source": [
    "gisa_df.loc[:5,['kor','eng','math']]"
   ]
  },
  {
   "cell_type": "code",
   "execution_count": 102,
   "id": "4a54872f",
   "metadata": {},
   "outputs": [
    {
     "data": {
      "text/html": [
       "<div>\n",
       "<style scoped>\n",
       "    .dataframe tbody tr th:only-of-type {\n",
       "        vertical-align: middle;\n",
       "    }\n",
       "\n",
       "    .dataframe tbody tr th {\n",
       "        vertical-align: top;\n",
       "    }\n",
       "\n",
       "    .dataframe thead th {\n",
       "        text-align: right;\n",
       "    }\n",
       "</style>\n",
       "<table border=\"1\" class=\"dataframe\">\n",
       "  <thead>\n",
       "    <tr style=\"text-align: right;\">\n",
       "      <th></th>\n",
       "      <th>std</th>\n",
       "      <th>email</th>\n",
       "      <th>kor</th>\n",
       "      <th>eng</th>\n",
       "      <th>math</th>\n",
       "      <th>sci</th>\n",
       "      <th>hist</th>\n",
       "      <th>total</th>\n",
       "      <th>magr_code</th>\n",
       "      <th>acc_code</th>\n",
       "      <th>loc_code</th>\n",
       "    </tr>\n",
       "  </thead>\n",
       "  <tbody>\n",
       "    <tr>\n",
       "      <th>0</th>\n",
       "      <td>990001</td>\n",
       "      <td>addx</td>\n",
       "      <td>17</td>\n",
       "      <td>29</td>\n",
       "      <td>16</td>\n",
       "      <td>49</td>\n",
       "      <td>43</td>\n",
       "      <td>154</td>\n",
       "      <td>C</td>\n",
       "      <td>A</td>\n",
       "      <td>C</td>\n",
       "    </tr>\n",
       "    <tr>\n",
       "      <th>1</th>\n",
       "      <td>990002</td>\n",
       "      <td>stch</td>\n",
       "      <td>30</td>\n",
       "      <td>9</td>\n",
       "      <td>48</td>\n",
       "      <td>25</td>\n",
       "      <td>81</td>\n",
       "      <td>193</td>\n",
       "      <td>C</td>\n",
       "      <td>A</td>\n",
       "      <td>A</td>\n",
       "    </tr>\n",
       "    <tr>\n",
       "      <th>2</th>\n",
       "      <td>990003</td>\n",
       "      <td>gali</td>\n",
       "      <td>93</td>\n",
       "      <td>60</td>\n",
       "      <td>6</td>\n",
       "      <td>84</td>\n",
       "      <td>36</td>\n",
       "      <td>279</td>\n",
       "      <td>A</td>\n",
       "      <td>C</td>\n",
       "      <td>A</td>\n",
       "    </tr>\n",
       "    <tr>\n",
       "      <th>3</th>\n",
       "      <td>990004</td>\n",
       "      <td>miat</td>\n",
       "      <td>73</td>\n",
       "      <td>22</td>\n",
       "      <td>48</td>\n",
       "      <td>24</td>\n",
       "      <td>72</td>\n",
       "      <td>239</td>\n",
       "      <td>B</td>\n",
       "      <td>C</td>\n",
       "      <td>C</td>\n",
       "    </tr>\n",
       "    <tr>\n",
       "      <th>4</th>\n",
       "      <td>990005</td>\n",
       "      <td>oran</td>\n",
       "      <td>33</td>\n",
       "      <td>38</td>\n",
       "      <td>59</td>\n",
       "      <td>58</td>\n",
       "      <td>28</td>\n",
       "      <td>216</td>\n",
       "      <td>C</td>\n",
       "      <td>B</td>\n",
       "      <td>A</td>\n",
       "    </tr>\n",
       "  </tbody>\n",
       "</table>\n",
       "</div>"
      ],
      "text/plain": [
       "      std email  kor  eng  math  sci  hist  total magr_code acc_code loc_code\n",
       "0  990001  addx   17   29    16   49    43    154         C        A        C\n",
       "1  990002  stch   30    9    48   25    81    193         C        A        A\n",
       "2  990003  gali   93   60     6   84    36    279         A        C        A\n",
       "3  990004  miat   73   22    48   24    72    239         B        C        C\n",
       "4  990005  oran   33   38    59   58    28    216         C        B        A"
      ]
     },
     "execution_count": 102,
     "metadata": {},
     "output_type": "execute_result"
    }
   ],
   "source": [
    "gisa_df.iloc[:5,:]"
   ]
  },
  {
   "cell_type": "code",
   "execution_count": 105,
   "id": "1c31317e",
   "metadata": {},
   "outputs": [],
   "source": [
    "q1_df = gisa_df[gisa_df['loc_code']=='B']"
   ]
  },
  {
   "cell_type": "code",
   "execution_count": 107,
   "id": "a106c0a4",
   "metadata": {},
   "outputs": [
    {
     "data": {
      "text/html": [
       "<div>\n",
       "<style scoped>\n",
       "    .dataframe tbody tr th:only-of-type {\n",
       "        vertical-align: middle;\n",
       "    }\n",
       "\n",
       "    .dataframe tbody tr th {\n",
       "        vertical-align: top;\n",
       "    }\n",
       "\n",
       "    .dataframe thead th {\n",
       "        text-align: right;\n",
       "    }\n",
       "</style>\n",
       "<table border=\"1\" class=\"dataframe\">\n",
       "  <thead>\n",
       "    <tr style=\"text-align: right;\">\n",
       "      <th></th>\n",
       "      <th>std</th>\n",
       "      <th>email</th>\n",
       "      <th>kor</th>\n",
       "      <th>eng</th>\n",
       "      <th>math</th>\n",
       "      <th>sci</th>\n",
       "      <th>hist</th>\n",
       "      <th>total</th>\n",
       "      <th>magr_code</th>\n",
       "      <th>acc_code</th>\n",
       "      <th>loc_code</th>\n",
       "    </tr>\n",
       "  </thead>\n",
       "  <tbody>\n",
       "    <tr>\n",
       "      <th>20</th>\n",
       "      <td>990021</td>\n",
       "      <td>equi</td>\n",
       "      <td>13</td>\n",
       "      <td>95</td>\n",
       "      <td>56</td>\n",
       "      <td>93</td>\n",
       "      <td>88</td>\n",
       "      <td>345</td>\n",
       "      <td>B</td>\n",
       "      <td>C</td>\n",
       "      <td>B</td>\n",
       "    </tr>\n",
       "    <tr>\n",
       "      <th>22</th>\n",
       "      <td>990023</td>\n",
       "      <td>tess</td>\n",
       "      <td>86</td>\n",
       "      <td>71</td>\n",
       "      <td>87</td>\n",
       "      <td>6</td>\n",
       "      <td>15</td>\n",
       "      <td>265</td>\n",
       "      <td>B</td>\n",
       "      <td>C</td>\n",
       "      <td>B</td>\n",
       "    </tr>\n",
       "    <tr>\n",
       "      <th>24</th>\n",
       "      <td>990025</td>\n",
       "      <td>lyj2</td>\n",
       "      <td>24</td>\n",
       "      <td>90</td>\n",
       "      <td>72</td>\n",
       "      <td>29</td>\n",
       "      <td>52</td>\n",
       "      <td>267</td>\n",
       "      <td>B</td>\n",
       "      <td>A</td>\n",
       "      <td>B</td>\n",
       "    </tr>\n",
       "    <tr>\n",
       "      <th>25</th>\n",
       "      <td>990026</td>\n",
       "      <td>netm</td>\n",
       "      <td>65</td>\n",
       "      <td>4</td>\n",
       "      <td>4</td>\n",
       "      <td>23</td>\n",
       "      <td>45</td>\n",
       "      <td>141</td>\n",
       "      <td>B</td>\n",
       "      <td>C</td>\n",
       "      <td>B</td>\n",
       "    </tr>\n",
       "    <tr>\n",
       "      <th>28</th>\n",
       "      <td>990029</td>\n",
       "      <td>minh</td>\n",
       "      <td>3</td>\n",
       "      <td>11</td>\n",
       "      <td>89</td>\n",
       "      <td>71</td>\n",
       "      <td>88</td>\n",
       "      <td>262</td>\n",
       "      <td>B</td>\n",
       "      <td>C</td>\n",
       "      <td>B</td>\n",
       "    </tr>\n",
       "  </tbody>\n",
       "</table>\n",
       "</div>"
      ],
      "text/plain": [
       "       std email  kor  eng  math  sci  hist  total magr_code acc_code loc_code\n",
       "20  990021  equi   13   95    56   93    88    345         B        C        B\n",
       "22  990023  tess   86   71    87    6    15    265         B        C        B\n",
       "24  990025  lyj2   24   90    72   29    52    267         B        A        B\n",
       "25  990026  netm   65    4     4   23    45    141         B        C        B\n",
       "28  990029  minh    3   11    89   71    88    262         B        C        B"
      ]
     },
     "execution_count": 107,
     "metadata": {},
     "output_type": "execute_result"
    }
   ],
   "source": [
    "q1_df.head()"
   ]
  },
  {
   "cell_type": "code",
   "execution_count": 113,
   "id": "b036569d",
   "metadata": {},
   "outputs": [
    {
     "name": "stderr",
     "output_type": "stream",
     "text": [
      "C:\\Users\\BIT\\AppData\\Local\\Temp\\ipykernel_9808\\3102031395.py:1: SettingWithCopyWarning: \n",
      "A value is trying to be set on a copy of a slice from a DataFrame.\n",
      "Try using .loc[row_indexer,col_indexer] = value instead\n",
      "\n",
      "See the caveats in the documentation: https://pandas.pydata.org/pandas-docs/stable/user_guide/indexing.html#returning-a-view-versus-a-copy\n",
      "  q1_df['data_1'] = q1_df['kor'] + q1_df['eng']\n"
     ]
    }
   ],
   "source": [
    "q1_df['data_1'] = q1_df['kor'] + q1_df['eng']"
   ]
  },
  {
   "cell_type": "code",
   "execution_count": 114,
   "id": "db1609d7",
   "metadata": {},
   "outputs": [
    {
     "data": {
      "text/html": [
       "<div>\n",
       "<style scoped>\n",
       "    .dataframe tbody tr th:only-of-type {\n",
       "        vertical-align: middle;\n",
       "    }\n",
       "\n",
       "    .dataframe tbody tr th {\n",
       "        vertical-align: top;\n",
       "    }\n",
       "\n",
       "    .dataframe thead th {\n",
       "        text-align: right;\n",
       "    }\n",
       "</style>\n",
       "<table border=\"1\" class=\"dataframe\">\n",
       "  <thead>\n",
       "    <tr style=\"text-align: right;\">\n",
       "      <th></th>\n",
       "      <th>std</th>\n",
       "      <th>email</th>\n",
       "      <th>kor</th>\n",
       "      <th>eng</th>\n",
       "      <th>math</th>\n",
       "      <th>sci</th>\n",
       "      <th>hist</th>\n",
       "      <th>total</th>\n",
       "      <th>magr_code</th>\n",
       "      <th>acc_code</th>\n",
       "      <th>loc_code</th>\n",
       "      <th>data_1</th>\n",
       "    </tr>\n",
       "  </thead>\n",
       "  <tbody>\n",
       "    <tr>\n",
       "      <th>20</th>\n",
       "      <td>990021</td>\n",
       "      <td>equi</td>\n",
       "      <td>13</td>\n",
       "      <td>95</td>\n",
       "      <td>56</td>\n",
       "      <td>93</td>\n",
       "      <td>88</td>\n",
       "      <td>345</td>\n",
       "      <td>B</td>\n",
       "      <td>C</td>\n",
       "      <td>B</td>\n",
       "      <td>108</td>\n",
       "    </tr>\n",
       "    <tr>\n",
       "      <th>22</th>\n",
       "      <td>990023</td>\n",
       "      <td>tess</td>\n",
       "      <td>86</td>\n",
       "      <td>71</td>\n",
       "      <td>87</td>\n",
       "      <td>6</td>\n",
       "      <td>15</td>\n",
       "      <td>265</td>\n",
       "      <td>B</td>\n",
       "      <td>C</td>\n",
       "      <td>B</td>\n",
       "      <td>157</td>\n",
       "    </tr>\n",
       "    <tr>\n",
       "      <th>24</th>\n",
       "      <td>990025</td>\n",
       "      <td>lyj2</td>\n",
       "      <td>24</td>\n",
       "      <td>90</td>\n",
       "      <td>72</td>\n",
       "      <td>29</td>\n",
       "      <td>52</td>\n",
       "      <td>267</td>\n",
       "      <td>B</td>\n",
       "      <td>A</td>\n",
       "      <td>B</td>\n",
       "      <td>114</td>\n",
       "    </tr>\n",
       "    <tr>\n",
       "      <th>25</th>\n",
       "      <td>990026</td>\n",
       "      <td>netm</td>\n",
       "      <td>65</td>\n",
       "      <td>4</td>\n",
       "      <td>4</td>\n",
       "      <td>23</td>\n",
       "      <td>45</td>\n",
       "      <td>141</td>\n",
       "      <td>B</td>\n",
       "      <td>C</td>\n",
       "      <td>B</td>\n",
       "      <td>69</td>\n",
       "    </tr>\n",
       "    <tr>\n",
       "      <th>28</th>\n",
       "      <td>990029</td>\n",
       "      <td>minh</td>\n",
       "      <td>3</td>\n",
       "      <td>11</td>\n",
       "      <td>89</td>\n",
       "      <td>71</td>\n",
       "      <td>88</td>\n",
       "      <td>262</td>\n",
       "      <td>B</td>\n",
       "      <td>C</td>\n",
       "      <td>B</td>\n",
       "      <td>14</td>\n",
       "    </tr>\n",
       "  </tbody>\n",
       "</table>\n",
       "</div>"
      ],
      "text/plain": [
       "       std email  kor  eng  math  sci  hist  total magr_code acc_code  \\\n",
       "20  990021  equi   13   95    56   93    88    345         B        C   \n",
       "22  990023  tess   86   71    87    6    15    265         B        C   \n",
       "24  990025  lyj2   24   90    72   29    52    267         B        A   \n",
       "25  990026  netm   65    4     4   23    45    141         B        C   \n",
       "28  990029  minh    3   11    89   71    88    262         B        C   \n",
       "\n",
       "   loc_code  data_1  \n",
       "20        B     108  \n",
       "22        B     157  \n",
       "24        B     114  \n",
       "25        B      69  \n",
       "28        B      14  "
      ]
     },
     "execution_count": 114,
     "metadata": {},
     "output_type": "execute_result"
    }
   ],
   "source": [
    "q1_df.head()"
   ]
  },
  {
   "cell_type": "code",
   "execution_count": 121,
   "id": "ca553c62",
   "metadata": {},
   "outputs": [],
   "source": [
    "q1_ans = q1_df.sort_values(by=['data_1','std'],ascending=[False,True])"
   ]
  },
  {
   "cell_type": "code",
   "execution_count": 122,
   "id": "8a840b4e",
   "metadata": {},
   "outputs": [
    {
     "data": {
      "text/html": [
       "<div>\n",
       "<style scoped>\n",
       "    .dataframe tbody tr th:only-of-type {\n",
       "        vertical-align: middle;\n",
       "    }\n",
       "\n",
       "    .dataframe tbody tr th {\n",
       "        vertical-align: top;\n",
       "    }\n",
       "\n",
       "    .dataframe thead th {\n",
       "        text-align: right;\n",
       "    }\n",
       "</style>\n",
       "<table border=\"1\" class=\"dataframe\">\n",
       "  <thead>\n",
       "    <tr style=\"text-align: right;\">\n",
       "      <th></th>\n",
       "      <th>std</th>\n",
       "      <th>email</th>\n",
       "      <th>kor</th>\n",
       "      <th>eng</th>\n",
       "      <th>math</th>\n",
       "      <th>sci</th>\n",
       "      <th>hist</th>\n",
       "      <th>total</th>\n",
       "      <th>magr_code</th>\n",
       "      <th>acc_code</th>\n",
       "      <th>loc_code</th>\n",
       "      <th>data_1</th>\n",
       "    </tr>\n",
       "  </thead>\n",
       "  <tbody>\n",
       "    <tr>\n",
       "      <th>948</th>\n",
       "      <td>990949</td>\n",
       "      <td>saji</td>\n",
       "      <td>97</td>\n",
       "      <td>95</td>\n",
       "      <td>6</td>\n",
       "      <td>21</td>\n",
       "      <td>59</td>\n",
       "      <td>278</td>\n",
       "      <td>C</td>\n",
       "      <td>A</td>\n",
       "      <td>B</td>\n",
       "      <td>192</td>\n",
       "    </tr>\n",
       "    <tr>\n",
       "      <th>421</th>\n",
       "      <td>990422</td>\n",
       "      <td>itkz</td>\n",
       "      <td>93</td>\n",
       "      <td>97</td>\n",
       "      <td>74</td>\n",
       "      <td>69</td>\n",
       "      <td>80</td>\n",
       "      <td>413</td>\n",
       "      <td>C</td>\n",
       "      <td>B</td>\n",
       "      <td>B</td>\n",
       "      <td>190</td>\n",
       "    </tr>\n",
       "    <tr>\n",
       "      <th>937</th>\n",
       "      <td>990938</td>\n",
       "      <td>drea</td>\n",
       "      <td>100</td>\n",
       "      <td>87</td>\n",
       "      <td>1</td>\n",
       "      <td>21</td>\n",
       "      <td>34</td>\n",
       "      <td>243</td>\n",
       "      <td>B</td>\n",
       "      <td>C</td>\n",
       "      <td>B</td>\n",
       "      <td>187</td>\n",
       "    </tr>\n",
       "    <tr>\n",
       "      <th>490</th>\n",
       "      <td>990491</td>\n",
       "      <td>youo</td>\n",
       "      <td>84</td>\n",
       "      <td>100</td>\n",
       "      <td>97</td>\n",
       "      <td>82</td>\n",
       "      <td>1</td>\n",
       "      <td>364</td>\n",
       "      <td>A</td>\n",
       "      <td>B</td>\n",
       "      <td>B</td>\n",
       "      <td>184</td>\n",
       "    </tr>\n",
       "    <tr>\n",
       "      <th>489</th>\n",
       "      <td>990490</td>\n",
       "      <td>head</td>\n",
       "      <td>84</td>\n",
       "      <td>96</td>\n",
       "      <td>93</td>\n",
       "      <td>51</td>\n",
       "      <td>19</td>\n",
       "      <td>343</td>\n",
       "      <td>A</td>\n",
       "      <td>B</td>\n",
       "      <td>B</td>\n",
       "      <td>180</td>\n",
       "    </tr>\n",
       "  </tbody>\n",
       "</table>\n",
       "</div>"
      ],
      "text/plain": [
       "        std email  kor  eng  math  sci  hist  total magr_code acc_code  \\\n",
       "948  990949  saji   97   95     6   21    59    278         C        A   \n",
       "421  990422  itkz   93   97    74   69    80    413         C        B   \n",
       "937  990938  drea  100   87     1   21    34    243         B        C   \n",
       "490  990491  youo   84  100    97   82     1    364         A        B   \n",
       "489  990490  head   84   96    93   51    19    343         A        B   \n",
       "\n",
       "    loc_code  data_1  \n",
       "948        B     192  \n",
       "421        B     190  \n",
       "937        B     187  \n",
       "490        B     184  \n",
       "489        B     180  "
      ]
     },
     "execution_count": 122,
     "metadata": {},
     "output_type": "execute_result"
    }
   ],
   "source": [
    "q1_ans.head()"
   ]
  },
  {
   "cell_type": "code",
   "execution_count": 126,
   "id": "df5b0b0e",
   "metadata": {},
   "outputs": [
    {
     "data": {
      "text/plain": [
       "990490"
      ]
     },
     "execution_count": 126,
     "metadata": {},
     "output_type": "execute_result"
    }
   ],
   "source": [
    "q1_ans[4:5]['std'].values[0]"
   ]
  },
  {
   "cell_type": "code",
   "execution_count": 128,
   "id": "9345f35e",
   "metadata": {},
   "outputs": [
    {
     "data": {
      "text/plain": [
       "990490"
      ]
     },
     "execution_count": 128,
     "metadata": {},
     "output_type": "execute_result"
    }
   ],
   "source": [
    "q1_ans.iloc[4,0]"
   ]
  },
  {
   "cell_type": "code",
   "execution_count": null,
   "id": "9ee04906",
   "metadata": {},
   "outputs": [],
   "source": []
  }
 ],
 "metadata": {
  "kernelspec": {
   "display_name": "Python 3 (ipykernel)",
   "language": "python",
   "name": "python3"
  },
  "language_info": {
   "codemirror_mode": {
    "name": "ipython",
    "version": 3
   },
   "file_extension": ".py",
   "mimetype": "text/x-python",
   "name": "python",
   "nbconvert_exporter": "python",
   "pygments_lexer": "ipython3",
   "version": "3.9.13"
  }
 },
 "nbformat": 4,
 "nbformat_minor": 5
}
