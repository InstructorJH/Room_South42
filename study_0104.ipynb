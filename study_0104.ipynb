{
 "cells": [
  {
   "cell_type": "code",
   "execution_count": 13,
   "id": "0da083c4",
   "metadata": {},
   "outputs": [],
   "source": [
    "import random\n",
    "m_list = []\n",
    "for _ in range(5):\n",
    "    rnd = random.randrange(1,101)\n",
    "    m_list.append(rnd)\n",
    "    pass"
   ]
  },
  {
   "cell_type": "code",
   "execution_count": 14,
   "id": "b76c600f",
   "metadata": {},
   "outputs": [
    {
     "data": {
      "text/plain": [
       "[13, 50, 14, 92, 49]"
      ]
     },
     "execution_count": 14,
     "metadata": {},
     "output_type": "execute_result"
    }
   ],
   "source": [
    "m_list"
   ]
  },
  {
   "cell_type": "code",
   "execution_count": 26,
   "id": "b6ef0176",
   "metadata": {},
   "outputs": [],
   "source": [
    "#오름차순\n",
    "for k in range(len(m_list)-1): # 정렬 대상의 위치(자리)\n",
    "    for i in range(k+1,len(m_list)): # 비교하는 수의 자리\n",
    "        #print(i)\n",
    "        if m_list[k] < m_list[i]:\n",
    "            temp = m_list[k]\n",
    "            m_list[k] = m_list[i]\n",
    "            m_list[i] = temp\n",
    "            pass\n",
    "        pass  "
   ]
  },
  {
   "cell_type": "code",
   "execution_count": 27,
   "id": "606a83c2",
   "metadata": {},
   "outputs": [
    {
     "data": {
      "text/plain": [
       "[92, 50, 49, 14, 13]"
      ]
     },
     "execution_count": 27,
     "metadata": {},
     "output_type": "execute_result"
    }
   ],
   "source": [
    "m_list"
   ]
  },
  {
   "cell_type": "code",
   "execution_count": 28,
   "id": "1c948c9c",
   "metadata": {},
   "outputs": [],
   "source": [
    "#Abc1115.csv을 읽어서 2중 리스트로 만든 다음에 정렬하기\n",
    "file = open('./data/Abc1115.csv','r')\n",
    "lines = file.readlines()\n",
    "file.close()"
   ]
  },
  {
   "cell_type": "code",
   "execution_count": 29,
   "id": "fe0e8a03",
   "metadata": {},
   "outputs": [
    {
     "data": {
      "text/plain": [
       "['990001,addx, 17, 29, 16, 49, 43,154,C,A,C\\n',\n",
       " '990002,stch, 30,  9, 48, 25, 81,193,C,A,A\\n',\n",
       " '990003,gali, 93, 60,  6, 84, 36,279,A,C,A\\n',\n",
       " '990004,miat, 73, 22, 48, 24, 72,239,B,C,C\\n',\n",
       " '990005,oran, 33, 38, 59, 58, 28,216,C,B,A\\n']"
      ]
     },
     "execution_count": 29,
     "metadata": {},
     "output_type": "execute_result"
    }
   ],
   "source": [
    "lines[:5]"
   ]
  },
  {
   "cell_type": "code",
   "execution_count": 37,
   "id": "ca04187a",
   "metadata": {},
   "outputs": [],
   "source": [
    "students = []\n",
    "for line in lines:\n",
    "    temp = line[:-1].split(',')\n",
    "    #print(temp)\n",
    "    for idx in range(8):\n",
    "        if idx != 1:\n",
    "            temp[idx] = int(temp[idx])\n",
    "            pass\n",
    "        pass\n",
    "    #temp.append(temp[2]+temp[3])\n",
    "    students.append(temp)\n",
    "    pass\n"
   ]
  },
  {
   "cell_type": "code",
   "execution_count": 38,
   "id": "a12e59b4",
   "metadata": {},
   "outputs": [
    {
     "data": {
      "text/plain": [
       "[[990001, 'addx', 17, 29, 16, 49, 43, 154, 'C', 'A', 'C'],\n",
       " [990002, 'stch', 30, 9, 48, 25, 81, 193, 'C', 'A', 'A'],\n",
       " [990003, 'gali', 93, 60, 6, 84, 36, 279, 'A', 'C', 'A'],\n",
       " [990004, 'miat', 73, 22, 48, 24, 72, 239, 'B', 'C', 'C'],\n",
       " [990005, 'oran', 33, 38, 59, 58, 28, 216, 'C', 'B', 'A']]"
      ]
     },
     "execution_count": 38,
     "metadata": {},
     "output_type": "execute_result"
    }
   ],
   "source": [
    "students[:5]"
   ]
  },
  {
   "cell_type": "code",
   "execution_count": 39,
   "id": "1b1d8312",
   "metadata": {},
   "outputs": [],
   "source": [
    "quiz_1 = []\n",
    "for student in students:\n",
    "    if student[-1]=='B':\n",
    "        student.append(student[2]+student[3])\n",
    "        quiz_1.append(student)\n",
    "        pass\n",
    "    pass"
   ]
  },
  {
   "cell_type": "code",
   "execution_count": 40,
   "id": "f0534fa6",
   "metadata": {},
   "outputs": [
    {
     "data": {
      "text/plain": [
       "[[990021, 'equi', 13, 95, 56, 93, 88, 345, 'B', 'C', 'B', 108],\n",
       " [990023, 'tess', 86, 71, 87, 6, 15, 265, 'B', 'C', 'B', 157],\n",
       " [990025, 'lyj2', 24, 90, 72, 29, 52, 267, 'B', 'A', 'B', 114],\n",
       " [990026, 'netm', 65, 4, 4, 23, 45, 141, 'B', 'C', 'B', 69],\n",
       " [990029, 'minh', 3, 11, 89, 71, 88, 262, 'B', 'C', 'B', 14]]"
      ]
     },
     "execution_count": 40,
     "metadata": {},
     "output_type": "execute_result"
    }
   ],
   "source": [
    "quiz_1[:5]"
   ]
  },
  {
   "cell_type": "code",
   "execution_count": 42,
   "id": "e6c54f01",
   "metadata": {},
   "outputs": [],
   "source": [
    "for i in range(len(quiz_1)-1):\n",
    "    for j in range(i+1,len(quiz_1)):\n",
    "        if quiz_1[i][-1] < quiz_1[j][-1]: # 비교 대상\n",
    "            #교환\n",
    "            temp = quiz_1[i] # 비교 대상을 가진 리스트\n",
    "            quiz_1[i] = quiz_1[j]\n",
    "            quiz_1[j] = temp\n",
    "            pass\n",
    "        pass\n",
    "    pass"
   ]
  },
  {
   "cell_type": "code",
   "execution_count": 43,
   "id": "17db6409",
   "metadata": {},
   "outputs": [
    {
     "data": {
      "text/plain": [
       "300"
      ]
     },
     "execution_count": 43,
     "metadata": {},
     "output_type": "execute_result"
    }
   ],
   "source": [
    "len(quiz_1)"
   ]
  },
  {
   "cell_type": "code",
   "execution_count": 48,
   "id": "be26875a",
   "metadata": {},
   "outputs": [
    {
     "data": {
      "text/plain": [
       "[[990949, 'saji', 97, 95, 6, 21, 59, 278, 'C', 'A', 'B', 192],\n",
       " [990422, 'itkz', 93, 97, 74, 69, 80, 413, 'C', 'B', 'B', 190],\n",
       " [990938, 'drea', 100, 87, 1, 21, 34, 243, 'B', 'C', 'B', 187],\n",
       " [990491, 'youo', 84, 100, 97, 82, 1, 364, 'A', 'B', 'B', 184],\n",
       " [990490, 'head', 84, 96, 93, 51, 19, 343, 'A', 'B', 'B', 180],\n",
       " [990066, 'simo', 88, 87, 23, 78, 58, 334, 'C', 'B', 'B', 175],\n",
       " [990710, 'kleo', 85, 87, 49, 76, 98, 395, 'B', 'C', 'B', 172],\n",
       " [990852, 'psku', 96, 76, 46, 57, 52, 327, 'C', 'A', 'B', 172],\n",
       " [990595, 'jjpa', 99, 70, 76, 15, 32, 292, 'A', 'C', 'B', 169],\n",
       " [990907, 'lyj2', 71, 95, 59, 82, 28, 335, 'B', 'A', 'B', 166],\n",
       " [990631, 'jude', 91, 73, 43, 82, 87, 376, 'B', 'C', 'B', 164],\n",
       " [990891, 'kimd', 99, 64, 70, 84, 30, 347, 'A', 'C', 'B', 163],\n",
       " [990747, 'teak', 67, 96, 84, 50, 47, 344, 'C', 'B', 'B', 163],\n",
       " [990935, 'miss', 94, 67, 24, 33, 38, 256, 'C', 'B', 'B', 161],\n",
       " [990350, 'hjoo', 76, 83, 46, 98, 7, 310, 'B', 'C', 'B', 159]]"
      ]
     },
     "execution_count": 48,
     "metadata": {},
     "output_type": "execute_result"
    }
   ],
   "source": [
    "quiz_1[:15]"
   ]
  },
  {
   "cell_type": "code",
   "execution_count": 46,
   "id": "16e46eb2",
   "metadata": {},
   "outputs": [
    {
     "data": {
      "text/plain": [
       "990490"
      ]
     },
     "execution_count": 46,
     "metadata": {},
     "output_type": "execute_result"
    }
   ],
   "source": [
    "quiz_1[4][0]"
   ]
  },
  {
   "cell_type": "code",
   "execution_count": 47,
   "id": "8f466b17",
   "metadata": {},
   "outputs": [],
   "source": [
    "file = open('./data/Ans1.txt','w')\n",
    "file.write(str(quiz_1[4][0]))\n",
    "file.close()"
   ]
  },
  {
   "cell_type": "code",
   "execution_count": 49,
   "id": "a4445ba0",
   "metadata": {},
   "outputs": [],
   "source": [
    "file = open('./data/hospital_2019.csv','r',encoding='utf8')\n",
    "lines = file.readlines()\n",
    "file.close()"
   ]
  },
  {
   "cell_type": "code",
   "execution_count": 50,
   "id": "04926065",
   "metadata": {},
   "outputs": [
    {
     "data": {
      "text/plain": [
       "72315"
      ]
     },
     "execution_count": 50,
     "metadata": {},
     "output_type": "execute_result"
    }
   ],
   "source": [
    "len(lines)"
   ]
  },
  {
   "cell_type": "code",
   "execution_count": 53,
   "id": "3477d198",
   "metadata": {},
   "outputs": [
    {
     "data": {
      "text/plain": [
       "'병원명,종류,지역,주소,전화번호,개설일자,총의사수\\n'"
      ]
     },
     "execution_count": 53,
     "metadata": {},
     "output_type": "execute_result"
    }
   ],
   "source": [
    "lines[0]"
   ]
  },
  {
   "cell_type": "code",
   "execution_count": 57,
   "id": "14ce8ab3",
   "metadata": {},
   "outputs": [],
   "source": [
    "h_list = []\n",
    "for line in lines[1:]:\n",
    "    temp = line[:-1].split(',')\n",
    "    h_list.append(temp)\n",
    "    pass"
   ]
  },
  {
   "cell_type": "code",
   "execution_count": 59,
   "id": "ea06a369",
   "metadata": {},
   "outputs": [],
   "source": [
    "gn = []\n",
    "for h in h_list:\n",
    "    if h[2]=='전남':\n",
    "        gn.append(h)\n",
    "        pass\n",
    "    pass"
   ]
  },
  {
   "cell_type": "code",
   "execution_count": 60,
   "id": "ef0b3d7e",
   "metadata": {},
   "outputs": [
    {
     "data": {
      "text/plain": [
       "2588"
      ]
     },
     "execution_count": 60,
     "metadata": {},
     "output_type": "execute_result"
    }
   ],
   "source": [
    "len(gn)"
   ]
  },
  {
   "cell_type": "code",
   "execution_count": 63,
   "id": "33421436",
   "metadata": {},
   "outputs": [
    {
     "name": "stdout",
     "output_type": "stream",
     "text": [
      "국군함평치과병원/전라남도 함평군 해보면 신해로 1027 ()/3\n",
      "그랜드치과병원/전라남도 여수시 시청로 48  (학동)/3\n",
      "모아치과병원/전라남도 여수시 소호로 618  (학동)/8\n",
      "미르치과병원/전라남도 목포시 백년대로 319  (상동)/17\n",
      "순천미르치과병원/전라남도 순천시 연향번영길 118  (연향동)/5\n",
      "신우치과병원/전라남도 무안군 삼향읍 남악3로 50 ()/9\n",
      "예닮치과병원/전라남도 목포시 비파로 91 91/11\n"
     ]
    }
   ],
   "source": [
    "for h in gn:\n",
    "    if h[1] == '치과병원':\n",
    "        print('{}/{}/{}'.format(h[0],h[3],h[-1]))\n",
    "        pass"
   ]
  },
  {
   "cell_type": "code",
   "execution_count": 64,
   "id": "9ff78a83",
   "metadata": {},
   "outputs": [
    {
     "name": "stdout",
     "output_type": "stream",
     "text": [
      "국군함평치과병원/전라남도 함평군 해보면 신해로 1027 ()/3\n",
      "그랜드치과병원/전라남도 여수시 시청로 48  (학동)/3\n",
      "모아치과병원/전라남도 여수시 소호로 618  (학동)/8\n",
      "미르치과병원/전라남도 목포시 백년대로 319  (상동)/17\n",
      "순천미르치과병원/전라남도 순천시 연향번영길 118  (연향동)/5\n",
      "신우치과병원/전라남도 무안군 삼향읍 남악3로 50 ()/9\n",
      "예닮치과병원/전라남도 목포시 비파로 91 91/11\n"
     ]
    }
   ],
   "source": [
    "for h in h_list:\n",
    "    if h[2]=='전남' and h[1] == '치과병원':\n",
    "        print('{}/{}/{}'.format(h[0],h[3],h[-1]))\n",
    "        pass\n",
    "    pass"
   ]
  },
  {
   "cell_type": "code",
   "execution_count": 65,
   "id": "c14a82e0",
   "metadata": {},
   "outputs": [],
   "source": [
    "#지역의 이름을 중복없이 리스트에 저장하고 출력해 보세요 -- index =2\n",
    "area_name = []\n",
    "for h in h_list:\n",
    "    if h[2] not in area_name:\n",
    "        area_name.append(h[2])\n",
    "        pass\n",
    "    pass"
   ]
  },
  {
   "cell_type": "code",
   "execution_count": 67,
   "id": "979b4052",
   "metadata": {},
   "outputs": [
    {
     "name": "stdout",
     "output_type": "stream",
     "text": [
      "['인천', '서울', '대구', '경남', '경기', '부산', '충남', '강원', '전북', '광주', '대전', '충북', '전남', '경북', '울산', '세종시', '제주', '의원', '치과의원', '한의원']"
     ]
    }
   ],
   "source": [
    "print(area_name,end='')"
   ]
  },
  {
   "cell_type": "code",
   "execution_count": 108,
   "id": "529a460a",
   "metadata": {},
   "outputs": [
    {
     "name": "stdout",
     "output_type": "stream",
     "text": [
      "제주 / 20180123\n",
      "제주 / 20161223\n",
      "제주 / 20161118\n",
      "제주 / 20160308\n",
      "제주 / 20160708\n",
      "제주 / 20170327\n",
      "제주 / 20170331\n",
      "제주 / 20170109\n",
      "제주 / 20170206\n",
      "제주 / 20170804\n",
      "제주 / 20181211\n",
      "제주 / 20171207\n",
      "제주 / 20180726\n",
      "제주 / 20180105\n",
      "제주 / 20170619\n",
      "제주 / 20180308\n",
      "제주 / 20160427\n",
      "제주 / 20171201\n",
      "제주 / 20180822\n",
      "제주 / 20170925\n",
      "제주 / 20160819\n",
      "제주 / 20160725\n",
      "제주 / 20160211\n",
      "제주 / 20171011\n",
      "제주 / 20180910\n",
      "제주 / 20180515\n",
      "제주 / 20171116\n",
      "제주 / 20180814\n",
      "제주 / 20180531\n",
      "제주 / 20160302\n",
      "제주 / 20170410\n",
      "제주 / 20170622\n",
      "제주 / 20180619\n",
      "제주 / 20170531\n",
      "제주 / 20171213\n",
      "제주 / 20171011\n",
      "제주 / 20171215\n",
      "제주 / 20180628\n",
      "제주 / 20160104\n",
      "제주 / 20160427\n",
      "제주 / 20161025\n",
      "제주 / 20160725\n",
      "제주 / 20171229\n",
      "제주 / 20171228\n",
      "제주 / 20180814\n",
      "제주 / 20170918\n",
      "제주 / 20180703\n",
      "제주 / 20180307\n",
      "제주 / 20180905\n",
      "제주 / 20170807\n",
      "제주 / 20180105\n",
      "제주 / 20180105\n",
      "제주 / 20161114\n",
      "제주 / 20160527\n",
      "제주 / 20161021\n",
      "제주 / 20160222\n",
      "제주 / 20170421\n",
      "제주 / 20170302\n",
      "제주 / 20161130\n",
      "제주 / 20181114\n",
      "제주 / 20171016\n",
      "제주 / 20170228\n",
      "제주 / 20160229\n",
      "제주 / 20171011\n",
      "제주 / 20180315\n",
      "제주 / 20161206\n",
      "제주 / 20170925\n",
      "제주 / 20180717\n",
      "제주 / 20181106\n",
      "제주 / 20160708\n",
      "제주 / 20170608\n",
      "제주 / 20160517\n",
      "제주 / 20180712\n",
      "제주 / 20171207\n",
      "제주 / 20180307\n",
      "제주 / 20170502\n",
      "제주 / 20160229\n",
      "제주 / 20170501\n",
      "제주 / 20160513\n",
      "제주 / 20160617\n",
      "제주 / 20170728\n",
      "제주 / 20160608\n",
      "제주 / 20160712\n",
      "제주 / 20180306\n",
      "제주 / 20170317\n",
      "제주 / 20180731\n",
      "제주 / 20160811\n",
      "제주 / 20180226\n",
      "제주 / 20160617\n",
      "제주 / 20180104\n",
      "제주 / 20160706\n",
      "제주 / 20180405\n",
      "제주 / 20180326\n",
      "제주 / 20160811\n",
      "제주 / 20160328\n",
      "제주 / 20170810\n",
      "제주 / 20171023\n",
      "제주 / 20170921\n",
      "제주 / 20160419\n",
      "제주 / 20170309\n",
      "제주 / 20160222\n",
      "제주 / 20170906\n",
      "제주 / 20181120\n",
      "제주 / 20170717\n",
      "제주 / 20180502\n",
      "제주 / 20181112\n",
      "제주 / 20161227\n",
      "제주 / 20161107\n",
      "제주 / 20160627\n",
      "제주 / 20170118\n",
      "제주 / 20170612\n",
      "제주 / 20160523\n",
      "제주 / 20160623\n",
      "제주 / 20160226\n",
      "제주 / 20160610\n",
      "제주 / 20160704\n",
      "제주 / 20171229\n",
      "제주 / 20170113\n",
      "제주 / 20171214\n",
      "제주 / 20160713\n",
      "제주 / 20171213\n",
      "제주 / 20170502\n",
      "제주 / 20161109\n",
      "제주 / 20180904\n",
      "제주 / 20170404\n",
      "제주 / 20160316\n",
      "제주 / 20161107\n",
      "제주 / 20180327\n",
      "제주 / 20161109\n",
      "제주 / 20161026\n",
      "제주 / 20181031\n",
      "제주 / 20160307\n",
      "제주 / 20161013\n",
      "제주 / 20170824\n",
      "제주 / 20180105\n",
      "제주 / 20160601\n",
      "제주 / 20180418\n",
      "제주 / 20171113\n",
      "제주 / 20180611\n",
      "제주 / 20160307\n",
      "제주 / 20161208\n",
      "제주 / 20160713\n",
      "제주 / 20170517\n",
      "제주 / 20170508\n",
      "제주 / 20170420\n",
      "제주 / 20181017\n",
      "제주 / 20161018\n",
      "제주 / 20161111\n",
      "제주 / 20170125\n",
      "제주 / 20180219\n",
      "제주 / 20161017\n",
      "제주 / 20180621\n",
      "제주 / 20161212\n",
      "제주 / 20170823\n",
      "제주 / 20170210\n",
      "제주 / 20161010\n",
      "제주 / 20170302\n",
      "제주 / 20170119\n",
      "제주 / 20180719\n",
      "제주 / 20180430\n",
      "제주 / 20170515\n",
      "제주 / 20180509\n",
      "제주 / 20161227\n",
      "제주 / 20170510\n",
      "제주 / 20171020\n",
      "제주 / 20180905\n",
      "제주 / 20160718\n",
      "제주 / 20180531\n",
      "제주 / 20170718\n",
      "제주 / 20170911\n",
      "제주 / 20170306\n",
      "제주 / 20161227\n",
      "제주 / 20180813\n",
      "제주 / 20161219\n",
      "제주 / 20161212\n",
      "제주 / 20160905\n",
      "제주 / 20170213\n",
      "제주 / 20170424\n",
      "제주 / 20161109\n",
      "제주 / 20180411\n",
      "제주 / 20180413\n",
      "제주 / 20170630\n"
     ]
    }
   ],
   "source": [
    "count = 0\n",
    "for h in h_list:\n",
    "    if h[2]=='제주' and h[-2][:4] in ['2016','2017','2018']:\n",
    "        count += 1\n",
    "        print('{} / {}'.format(h[2],h[-2]))"
   ]
  },
  {
   "cell_type": "code",
   "execution_count": 106,
   "id": "1bf94080",
   "metadata": {},
   "outputs": [
    {
     "data": {
      "text/plain": [
       "182"
      ]
     },
     "execution_count": 106,
     "metadata": {},
     "output_type": "execute_result"
    }
   ],
   "source": [
    "count"
   ]
  },
  {
   "cell_type": "markdown",
   "id": "854a53d4",
   "metadata": {},
   "source": [
    "count = 0\n",
    "for h in h_list:\n",
    "    if len(h) > 15:\n",
    "        count = count +1\n",
    "        print(h)\n",
    "    pass\n",
    "print(count)"
   ]
  },
  {
   "cell_type": "code",
   "execution_count": 114,
   "id": "69501837",
   "metadata": {},
   "outputs": [
    {
     "data": {
      "text/plain": [
       "'병원명,종류,지역,주소,전화번호,개설일자,총의사수\\n'"
      ]
     },
     "execution_count": 114,
     "metadata": {},
     "output_type": "execute_result"
    }
   ],
   "source": [
    "lines[0]"
   ]
  },
  {
   "cell_type": "code",
   "execution_count": 120,
   "id": "11e4ae31",
   "metadata": {},
   "outputs": [
    {
     "name": "stdout",
     "output_type": "stream",
     "text": [
      "['서울 힐링 치과의원', '치과의원', '경기', '\"경기도 안양시 동안구 귀인로 216 (평촌동', ' 청구빌딩)\"', '031-381-2929', '20160307', '1']\n",
      "['호성한의원', '한의원', '경기', '\"경기도 안양시 동안구 귀인로 216 2층 (평촌동', ' 청구빌딩)\"', '031-384-1075', '20090219', '1']\n"
     ]
    }
   ],
   "source": [
    "for h in h_list:\n",
    "    addr = ''\n",
    "    if len(h)>7:\n",
    "        for part in h[3:-3]:\n",
    "                addr += part+','\n",
    "    if h[2]=='경기' and ('안양' in addr) and ('청구빌딩' in addr):\n",
    "        print(h)\n",
    "    pass"
   ]
  },
  {
   "cell_type": "code",
   "execution_count": 125,
   "id": "20f0a068",
   "metadata": {},
   "outputs": [
    {
     "name": "stdout",
     "output_type": "stream",
     "text": [
      "주소(addr) : \"경기도 성남시 분당구 야탑로75번길 5 (야탑동, 지1,1, 2, 3, 4, 5층, 야탑로69번길2,지1,2,3,4층)\",, 지1,1, 2, 3, 4, 5층, 야탑로69번길2,지1,2,3,4층)\",, 지1,1, 2, 3, 4, 5층, 야탑로69번길2,지1,2,3,4층)\",, 지1,1, 2, 3, 4, 5층, 야탑로69번길2,지1,2,3,4층)\",, 지1,1, 2, 3, 4, 5층, 야탑로69번길2,지1,2,3,4층)\"\n",
      "['바른세상병원', '병원', '경기', '\"경기도 성남시 분당구 야탑로75번길 5 (야탑동, 지1,1, 2, 3, 4, 5층, 야탑로69번길2,지1,2,3,4층)\",, 지1,1, 2, 3, 4, 5층, 야탑로69번길2,지1,2,3,4층)\",, 지1,1, 2, 3, 4, 5층, 야탑로69번길2,지1,2,3,4층)\",, 지1,1, 2, 3, 4, 5층, 야탑로69번길2,지1,2,3,4층)\",, 지1,1, 2, 3, 4, 5층, 야탑로69번길2,지1,2,3,4층)\",', ' 지1', '1', ' 2', ' 3', ' 4', ' 5층', ' 야탑로69번길2', '지1', '2', '3', '4층)\"', '703-5575', '20060201', '24']\n"
     ]
    }
   ],
   "source": [
    "for h in h_list:\n",
    "    addr = ''\n",
    "    if len(h) > 16:\n",
    "        for part in h[3:-3]:\n",
    "            addr += part+','\n",
    "            pass\n",
    "        h[3] = addr[:-1]\n",
    "        print('주소(addr) : {}'.format(addr[:-1]))\n",
    "        #print('주소(h[3]) : {}'.format(h[3]))\n",
    "        print(h)\n",
    "        break\n",
    "        pass\n",
    "    pass"
   ]
  },
  {
   "cell_type": "code",
   "execution_count": 127,
   "id": "3db83595",
   "metadata": {},
   "outputs": [
    {
     "name": "stdout",
     "output_type": "stream",
     "text": [
      "['경희 고성한의원', '한의원', '강원', '강원도 고성군 간성읍 간성로 62 일미향', '033-681-6260', '20190711', '1']\n",
      "['남대천한의원', '한의원', '강원', '강원도 강릉시 금성로31번길 5 1층 (성남동)', '033-642-0751', '20190115', '2']\n",
      "['남부한의원', '한의원', '강원', '강원도 원주시 남원로 667-1 1층 (명륜동)', '033-735-9000', '20190405', '2']\n",
      "['단주한의원', '한의원', '강원', '강원도 강릉시 운정길 15 2층 201호 (난곡동)', '033-648-7900', '20190624', '1']\n",
      "['대활한의원', '한의원', '강원', '강원도 속초시 영랑해안길 95 2층 (영랑동)', '033-632-6964', '20190510', '1']\n",
      "['맘드림한의원', '한의원', '강원', '강원도 강릉시 선수촌로 70 2층 (홍제동)', '033-647-1223', '20190322', '1']\n",
      "['백세한의원', '한의원', '강원', '강원도 동해시 오일장길 6 1층 (구미동)', '033-521-1921', '20190805', '1']\n",
      "['의함다래평생한의원', '한의원', '강원', '강원도 원주시 남산로 180 대성빌딩 101호 (학성동)', '033-766-8925', '20190220', '1']\n",
      "['제일편한 한의원', '한의원', '강원', '강원도 춘천시 퇴계농공로 22 2층 205-B동호 (석사동)', '033-262-1900', '20190705', '1']\n",
      "['주천동리한의원', '한의원', '강원', '강원도 영월군 주천면 주천로 93 1층', '-', '20190103', '1']\n",
      "['중앙한의원', '한의원', '강원', '강원도 양구군 양구읍 양구새싹로 27 ()', '033-482-5355', '20190227', '1']\n",
      "['청담한의원', '한의원', '강원', '강원도 강릉시 월대산로 60 (입암동)', '033-647-1497', '20190501', '1']\n",
      "['청운한의원', '한의원', '강원', '강원도 강릉시 하평길 31 우진빌딩 2층 204호 (포남동)', '033-651-5005', '20190624', '1']\n",
      "['춘천한방한의원', '한의원', '강원', '강원도 춘천시 동면 춘천로 527-34 ()', '033-260-7000', '20190529', '1']\n",
      "['팔팔한의원', '한의원', '강원', '강원도 춘천시 퇴계로105번길 5 203호 (퇴계동)', '033-264-1588', '20190527', '1']\n"
     ]
    }
   ],
   "source": [
    "for h in h_list:\n",
    "    if h[2]=='강원' and h[1]=='한의원' and h[-2][:4] == '2019':\n",
    "        print(h)\n",
    "        pass\n",
    "    pass"
   ]
  },
  {
   "cell_type": "code",
   "execution_count": 131,
   "id": "adcf54f1",
   "metadata": {},
   "outputs": [
    {
     "name": "stdout",
     "output_type": "stream",
     "text": [
      "1. 덕천삼성정형외과의원\n",
      "2. 르노삼성자동차부속의원\n",
      "3. 비에스(BS)삼성안과의원\n",
      "4. 삼성내과엠알영상의학과의원\n",
      "5. 삼성뉴방외과의원\n",
      "6. 삼성메디이비인후과의원\n",
      "7. 삼성메디칼의원\n",
      "8. 삼성메디칼의원\n",
      "9. 삼성메디칼의원\n",
      "10. 삼성서울내과의원\n",
      "11. 삼성스마트신경과의원\n",
      "12. 삼성안과의원\n",
      "13. 삼성안과의원\n",
      "14. 삼성연합의원\n",
      "15. 삼성의원\n",
      "16. 삼성의원\n",
      "17. 삼성의원\n",
      "18. 삼성이비인후과의원\n",
      "19. 삼성전기부속의원\n",
      "20. 삼성정형외과의원\n",
      "21. 삼성정형외과의원\n",
      "22. 삼성정형외과의원\n",
      "23. 삼성제일산부인과의원\n",
      "24. 삼성제일신경외과의원\n",
      "25. 삼성제일의원\n",
      "26. 삼성피부과의원\n",
      "27. 서울삼성내과의원\n",
      "28. 센텀삼성비뇨의학과의원\n",
      "29. 센텀삼성재활의학과의원\n",
      "30. 삼성메디컬치과의원\n",
      "31. 삼성치과의원\n",
      "32. 삼성치과의원\n",
      "33. 서울삼성치과의원\n",
      "34. 경주삼성한의원\n",
      "35. 삼성한의원\n",
      "36. 삼성한의원\n"
     ]
    }
   ],
   "source": [
    "count = 0\n",
    "for h in h_list:\n",
    "    if h[2]=='부산' and '삼성' in h[0]:\n",
    "        print('{}. {}'.format(count+1,h[0]))\n",
    "        count = count + 1\n",
    "        pass\n",
    "    pass\n"
   ]
  },
  {
   "cell_type": "code",
   "execution_count": 129,
   "id": "7ffc61db",
   "metadata": {},
   "outputs": [
    {
     "data": {
      "text/plain": [
       "'병원명,종류,지역,주소,전화번호,개설일자,총의사수\\n'"
      ]
     },
     "execution_count": 129,
     "metadata": {},
     "output_type": "execute_result"
    }
   ],
   "source": [
    "lines[0]"
   ]
  },
  {
   "cell_type": "code",
   "execution_count": 132,
   "id": "cef8a0fd",
   "metadata": {},
   "outputs": [],
   "source": [
    "import matplotlib.pyplot as plt"
   ]
  },
  {
   "cell_type": "code",
   "execution_count": 190,
   "id": "9d9470a6",
   "metadata": {},
   "outputs": [],
   "source": [
    "from matplotlib import rc\n",
    "%matplotlib inline"
   ]
  },
  {
   "cell_type": "code",
   "execution_count": 148,
   "id": "8a37187a",
   "metadata": {},
   "outputs": [
    {
     "data": {
      "image/png": "[encoded data removed]",
      "text/plain": [
       "<Figure size 640x480 with 1 Axes>"
      ]
     },
     "metadata": {},
     "output_type": "display_data"
    }
   ],
   "source": [
    "l = ['a','b','c','d']\n",
    "d = [18,3.4,3.1,75.5]\n",
    "plt.pie(d,labels=l,autopct='%.1f%%',startangle=45,explode=(0.2,0,0.1,0),shadow=True)\n",
    "plt.show()"
   ]
  },
  {
   "cell_type": "code",
   "execution_count": 149,
   "id": "8947956d",
   "metadata": {},
   "outputs": [],
   "source": [
    "file = open('./data/source/12/cafe_2year.csv','r',encoding='utf8')\n",
    "lines = file.readlines()\n",
    "file.close()"
   ]
  },
  {
   "cell_type": "code",
   "execution_count": 151,
   "id": "bd93252a",
   "metadata": {},
   "outputs": [],
   "source": [
    "cafe_list = []\n",
    "for line in lines[1:]:\n",
    "    temp = line[:-1].split(',')\n",
    "    cafe_list.append(temp)\n",
    "    pass"
   ]
  },
  {
   "cell_type": "code",
   "execution_count": 153,
   "id": "af7a8a3a",
   "metadata": {},
   "outputs": [
    {
     "data": {
      "text/plain": [
       "[['201710', '79296'],\n",
       " ['201711', '80738'],\n",
       " ['201712', '76923'],\n",
       " ['201801', '77942'],\n",
       " ['201802', '84967']]"
      ]
     },
     "execution_count": 153,
     "metadata": {},
     "output_type": "execute_result"
    }
   ],
   "source": [
    "cafe_list[:5]"
   ]
  },
  {
   "cell_type": "code",
   "execution_count": 156,
   "id": "1e096f78",
   "metadata": {},
   "outputs": [],
   "source": [
    "x=[]\n",
    "y=[]\n",
    "count = 0\n",
    "for cafe in cafe_list:\n",
    "    if count%3==0:\n",
    "        x.append(cafe[0])\n",
    "        y.append(cafe[1])\n",
    "        pass\n",
    "    count = count + 1\n",
    "    pass"
   ]
  },
  {
   "cell_type": "code",
   "execution_count": 160,
   "id": "36f58c36",
   "metadata": {},
   "outputs": [],
   "source": [
    "x=[]\n",
    "y=[]\n",
    "for idx,cafe in enumerate(cafe_list):\n",
    "    if idx%3==0:\n",
    "        x.append(cafe[0])\n",
    "        y.append(cafe[1])\n",
    "        pass\n",
    "    count = count + 1\n",
    "    pass"
   ]
  },
  {
   "cell_type": "code",
   "execution_count": 161,
   "id": "1823bcfd",
   "metadata": {},
   "outputs": [
    {
     "data": {
      "image/png": "[encoded data removed]",
      "text/plain": [
       "<Figure size 640x480 with 1 Axes>"
      ]
     },
     "metadata": {},
     "output_type": "display_data"
    }
   ],
   "source": [
    "plt.bar(x,y)\n",
    "plt.show()"
   ]
  },
  {
   "cell_type": "code",
   "execution_count": 159,
   "id": "9733755f",
   "metadata": {},
   "outputs": [
    {
     "name": "stdout",
     "output_type": "stream",
     "text": [
      "0 a\n",
      "1 b\n",
      "2 c\n"
     ]
    }
   ],
   "source": [
    "mlist = ['a','b','c']\n",
    "for idx,m in enumerate(mlist):\n",
    "    print(idx,m)"
   ]
  },
  {
   "cell_type": "code",
   "execution_count": 166,
   "id": "ecb19b12",
   "metadata": {},
   "outputs": [],
   "source": [
    "file = open('./data/source/12/doctor2.csv','r',encoding='utf8')\n",
    "lines = file.readlines()\n",
    "file.close()"
   ]
  },
  {
   "cell_type": "code",
   "execution_count": 178,
   "id": "b2022aae",
   "metadata": {},
   "outputs": [],
   "source": [
    "doc_list = []\n",
    "for line in lines[1:]:\n",
    "    temp = line[:-1].split(',')\n",
    "    for idx in range(1,len(temp)):\n",
    "        temp[idx] = int(temp[idx])\n",
    "    doc_list.append(temp)\n",
    "    pass"
   ]
  },
  {
   "cell_type": "code",
   "execution_count": 179,
   "id": "c36c499a",
   "metadata": {},
   "outputs": [
    {
     "data": {
      "text/plain": [
       "[['서울', 162, 1196, 4757, 9375],\n",
       " ['부산', 58, 197, 785, 2211],\n",
       " ['대구', 27, 215, 712, 1436],\n",
       " ['인천', 47, 138, 444, 1518],\n",
       " ['대전', 25, 142, 425, 1006],\n",
       " ['광주', 16, 102, 356, 1006],\n",
       " ['울산', 19, 23, 104, 467]]"
      ]
     },
     "execution_count": 179,
     "metadata": {},
     "output_type": "execute_result"
    }
   ],
   "source": [
    "doc_list[:]"
   ]
  },
  {
   "cell_type": "code",
   "execution_count": 182,
   "id": "0fdfb485",
   "metadata": {},
   "outputs": [],
   "source": [
    "header=lines[0][:-1].split(',')"
   ]
  },
  {
   "cell_type": "code",
   "execution_count": 183,
   "id": "9ffae66e",
   "metadata": {},
   "outputs": [
    {
     "data": {
      "text/plain": [
       "['지역', '일반의 수', '인턴 수', '레지던트 수', '전문의 수']"
      ]
     },
     "execution_count": 183,
     "metadata": {},
     "output_type": "execute_result"
    }
   ],
   "source": [
    "header"
   ]
  },
  {
   "cell_type": "code",
   "execution_count": 184,
   "id": "209b81ba",
   "metadata": {},
   "outputs": [],
   "source": [
    "seoul = doc_list[0]"
   ]
  },
  {
   "cell_type": "code",
   "execution_count": 185,
   "id": "c5af4fc8",
   "metadata": {},
   "outputs": [
    {
     "data": {
      "text/plain": [
       "15490"
      ]
     },
     "execution_count": 185,
     "metadata": {},
     "output_type": "execute_result"
    }
   ],
   "source": [
    "sum(seoul[1:])"
   ]
  },
  {
   "cell_type": "code",
   "execution_count": 186,
   "id": "17d6c161",
   "metadata": {},
   "outputs": [],
   "source": [
    "p = []\n",
    "for idx in range(1,len(seoul)):\n",
    "    total = sum(seoul[1:])\n",
    "    p.append(seoul[idx]/total)\n",
    "    pass"
   ]
  },
  {
   "cell_type": "code",
   "execution_count": 187,
   "id": "fe9ef50d",
   "metadata": {},
   "outputs": [
    {
     "data": {
      "text/plain": [
       "[0.010458360232408006,\n",
       " 0.07721110393802454,\n",
       " 0.30710135571336344,\n",
       " 0.605229180116204]"
      ]
     },
     "execution_count": 187,
     "metadata": {},
     "output_type": "execute_result"
    }
   ],
   "source": [
    "p"
   ]
  },
  {
   "cell_type": "code",
   "execution_count": 197,
   "id": "4b1325fc",
   "metadata": {},
   "outputs": [
    {
     "data": {
      "image/png": "[encoded data removed]",
      "text/plain": [
       "<Figure size 640x480 with 1 Axes>"
      ]
     },
     "metadata": {},
     "output_type": "display_data"
    }
   ],
   "source": [
    "plt.pie(p,labels=header[1:],autopct='%.1f%%',startangle=90,explode=(0,0.2,0,0),shadow=True)\n",
    "plt.show()"
   ]
  },
  {
   "cell_type": "code",
   "execution_count": 191,
   "id": "bc40aeba",
   "metadata": {},
   "outputs": [],
   "source": [
    "rc('font',family='malgun gothic')"
   ]
  },
  {
   "cell_type": "code",
   "execution_count": null,
   "id": "914d333a",
   "metadata": {},
   "outputs": [],
   "source": []
  }
 ],
 "metadata": {
  "kernelspec": {
   "display_name": "Python 3 (ipykernel)",
   "language": "python",
   "name": "python3"
  },
  "language_info": {
   "codemirror_mode": {
    "name": "ipython",
    "version": 3
   },
   "file_extension": ".py",
   "mimetype": "text/x-python",
   "name": "python",
   "nbconvert_exporter": "python",
   "pygments_lexer": "ipython3",
   "version": "3.9.13"
  }
 },
 "nbformat": 4,
 "nbformat_minor": 5
}
