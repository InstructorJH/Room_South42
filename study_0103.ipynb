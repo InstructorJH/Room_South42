{
 "cells": [
  {
   "cell_type": "code",
   "execution_count": 1,
   "id": "70fcfcef",
   "metadata": {},
   "outputs": [],
   "source": [
    "from datetime import datetime"
   ]
  },
  {
   "cell_type": "code",
   "execution_count": 2,
   "id": "d8223eb1",
   "metadata": {},
   "outputs": [],
   "source": [
    "today = datetime.now()"
   ]
  },
  {
   "cell_type": "code",
   "execution_count": 4,
   "id": "df0e3f22",
   "metadata": {},
   "outputs": [
    {
     "name": "stdout",
     "output_type": "stream",
     "text": [
      "<class 'datetime.datetime'>\n"
     ]
    }
   ],
   "source": [
    "print(type(today))"
   ]
  },
  {
   "cell_type": "code",
   "execution_count": 5,
   "id": "19552dc9",
   "metadata": {},
   "outputs": [
    {
     "data": {
      "text/plain": [
       "datetime.datetime(2023, 1, 3, 9, 13, 11, 678270)"
      ]
     },
     "execution_count": 5,
     "metadata": {},
     "output_type": "execute_result"
    }
   ],
   "source": [
    "today"
   ]
  },
  {
   "cell_type": "code",
   "execution_count": 6,
   "id": "cbae2f99",
   "metadata": {},
   "outputs": [
    {
     "name": "stdout",
     "output_type": "stream",
     "text": [
      "2023-1-3\n"
     ]
    }
   ],
   "source": [
    "print('{}-{}-{}'.format(today.year,today.month,today.day))"
   ]
  },
  {
   "cell_type": "code",
   "execution_count": 7,
   "id": "178cb19a",
   "metadata": {},
   "outputs": [
    {
     "name": "stdout",
     "output_type": "stream",
     "text": [
      "9:13:11\n"
     ]
    }
   ],
   "source": [
    "print('{}:{}:{}'.format(today.hour,today.minute,today.second))"
   ]
  },
  {
   "cell_type": "code",
   "execution_count": 10,
   "id": "4c7972a3",
   "metadata": {},
   "outputs": [],
   "source": [
    "result = today.strftime('%Y-%m-%d %H:%M:%S')"
   ]
  },
  {
   "cell_type": "code",
   "execution_count": 12,
   "id": "51dc1657",
   "metadata": {},
   "outputs": [
    {
     "data": {
      "text/plain": [
       "str"
      ]
     },
     "execution_count": 12,
     "metadata": {},
     "output_type": "execute_result"
    }
   ],
   "source": [
    "type(result)"
   ]
  },
  {
   "cell_type": "code",
   "execution_count": 13,
   "id": "6b4fd62a",
   "metadata": {},
   "outputs": [
    {
     "name": "stdout",
     "output_type": "stream",
     "text": [
      "Package                       Version\n",
      "----------------------------- --------------------\n",
      "alabaster                     0.7.12\n",
      "anaconda-client               1.11.0\n",
      "anaconda-navigator            2.3.1\n",
      "anaconda-project              0.11.1\n",
      "anyio                         3.5.0\n",
      "appdirs                       1.4.4\n",
      "argon2-cffi                   21.3.0\n",
      "argon2-cffi-bindings          21.2.0\n",
      "arrow                         1.2.2\n",
      "astroid                       2.11.7\n",
      "astropy                       5.1\n",
      "atomicwrites                  1.4.0\n",
      "attrs                         21.4.0\n",
      "Automat                       20.2.0\n",
      "autopep8                      1.6.0\n",
      "Babel                         2.9.1\n",
      "backcall                      0.2.0\n",
      "backports.functools-lru-cache 1.6.4\n",
      "backports.tempfile            1.0\n",
      "backports.weakref             1.0.post1\n",
      "bcrypt                        3.2.0\n",
      "beautifulsoup4                4.11.1\n",
      "binaryornot                   0.4.4\n",
      "bitarray                      2.5.1\n",
      "bkcharts                      0.2\n",
      "black                         22.6.0\n",
      "bleach                        4.1.0\n",
      "bokeh                         2.4.3\n",
      "boto3                         1.24.28\n",
      "botocore                      1.27.28\n",
      "Bottleneck                    1.3.5\n",
      "brotlipy                      0.7.0\n",
      "certifi                       2022.9.14\n",
      "cffi                          1.15.1\n",
      "chardet                       4.0.0\n",
      "charset-normalizer            2.0.4\n",
      "click                         8.0.4\n",
      "cloudpickle                   2.0.0\n",
      "clyent                        1.2.2\n",
      "colorama                      0.4.5\n",
      "colorcet                      3.0.0\n",
      "comtypes                      1.1.10\n",
      "conda                         22.9.0\n",
      "conda-build                   3.22.0\n",
      "conda-content-trust           0.1.3\n",
      "conda-pack                    0.6.0\n",
      "conda-package-handling        1.9.0\n",
      "conda-repo-cli                1.0.20\n",
      "conda-token                   0.4.0\n",
      "conda-verify                  3.4.2\n",
      "constantly                    15.1.0\n",
      "cookiecutter                  1.7.3\n",
      "cryptography                  37.0.1\n",
      "cssselect                     1.1.0\n",
      "cycler                        0.11.0\n",
      "Cython                        0.29.32\n",
      "cytoolz                       0.11.0\n",
      "daal4py                       2021.6.0\n",
      "dask                          2022.7.0\n",
      "datashader                    0.14.1\n",
      "datashape                     0.5.4\n",
      "debugpy                       1.5.1\n",
      "decorator                     5.1.1\n",
      "defusedxml                    0.7.1\n",
      "diff-match-patch              20200713\n",
      "dill                          0.3.4\n",
      "distributed                   2022.7.0\n",
      "docutils                      0.18.1\n",
      "entrypoints                   0.4\n",
      "et-xmlfile                    1.1.0\n",
      "fastjsonschema                2.16.2\n",
      "filelock                      3.6.0\n",
      "flake8                        4.0.1\n",
      "Flask                         1.1.2\n",
      "fonttools                     4.25.0\n",
      "fsspec                        2022.7.1\n",
      "future                        0.18.2\n",
      "gensim                        4.1.2\n",
      "glob2                         0.7\n",
      "greenlet                      1.1.1\n",
      "h5py                          3.7.0\n",
      "HeapDict                      1.0.1\n",
      "holoviews                     1.15.0\n",
      "hvplot                        0.8.0\n",
      "hyperlink                     21.0.0\n",
      "idna                          3.3\n",
      "imagecodecs                   2021.8.26\n",
      "imageio                       2.19.3\n",
      "imagesize                     1.4.1\n",
      "importlib-metadata            4.11.3\n",
      "incremental                   21.3.0\n",
      "inflection                    0.5.1\n",
      "iniconfig                     1.1.1\n",
      "intake                        0.6.5\n",
      "intervaltree                  3.1.0\n",
      "ipykernel                     6.15.2\n",
      "ipython                       7.31.1\n",
      "ipython-genutils              0.2.0\n",
      "ipywidgets                    7.6.5\n",
      "isort                         5.9.3\n",
      "itemadapter                   0.3.0\n",
      "itemloaders                   1.0.4\n",
      "itsdangerous                  2.0.1\n",
      "jdcal                         1.4.1\n",
      "jedi                          0.18.1\n",
      "jellyfish                     0.9.0\n",
      "Jinja2                        2.11.3\n",
      "jinja2-time                   0.2.0\n",
      "jmespath                      0.10.0\n",
      "joblib                        1.1.0\n",
      "json5                         0.9.6\n",
      "jsonschema                    4.16.0\n",
      "jupyter                       1.0.0\n",
      "jupyter_client                7.3.4\n",
      "jupyter-console               6.4.3\n",
      "jupyter_core                  4.11.1\n",
      "jupyter-server                1.18.1\n",
      "jupyterlab                    3.4.4\n",
      "jupyterlab-pygments           0.1.2\n",
      "jupyterlab-server             2.10.3\n",
      "jupyterlab-widgets            1.0.0\n",
      "keyring                       23.4.0\n",
      "kiwisolver                    1.4.2\n",
      "lazy-object-proxy             1.6.0\n",
      "libarchive-c                  2.9\n",
      "llvmlite                      0.38.0\n",
      "locket                        1.0.0\n",
      "lxml                          4.9.1\n",
      "lz4                           3.1.3\n",
      "Markdown                      3.3.4\n",
      "MarkupSafe                    2.0.1\n",
      "matplotlib                    3.5.2\n",
      "matplotlib-inline             0.1.6\n",
      "mccabe                        0.6.1\n",
      "menuinst                      1.4.19\n",
      "mistune                       0.8.4\n",
      "mkl-fft                       1.3.1\n",
      "mkl-random                    1.2.2\n",
      "mkl-service                   2.4.0\n",
      "mock                          4.0.3\n",
      "mpmath                        1.2.1\n",
      "msgpack                       1.0.3\n",
      "multipledispatch              0.6.0\n",
      "munkres                       1.1.4\n",
      "mypy-extensions               0.4.3\n",
      "navigator-updater             0.3.0\n",
      "nbclassic                     0.3.5\n",
      "nbclient                      0.5.13\n",
      "nbconvert                     6.4.4\n",
      "nbformat                      5.5.0\n",
      "nest-asyncio                  1.5.5\n",
      "networkx                      2.8.4\n",
      "nltk                          3.7\n",
      "nose                          1.3.7\n",
      "notebook                      6.4.12\n",
      "numba                         0.55.1\n",
      "numexpr                       2.8.3\n",
      "numpy                         1.21.5\n",
      "numpydoc                      1.4.0\n",
      "olefile                       0.46\n",
      "openpyxl                      3.0.10\n",
      "packaging                     21.3\n",
      "pandas                        1.4.4\n",
      "pandocfilters                 1.5.0\n",
      "panel                         0.13.1\n",
      "param                         1.12.0\n",
      "paramiko                      2.8.1\n",
      "parsel                        1.6.0\n",
      "parso                         0.8.3\n",
      "partd                         1.2.0\n",
      "pathlib                       1.0.1\n",
      "pathspec                      0.9.0\n",
      "patsy                         0.5.2\n",
      "pep8                          1.7.1\n",
      "pexpect                       4.8.0\n",
      "pickleshare                   0.7.5\n",
      "Pillow                        9.2.0\n",
      "pip                           22.2.2\n",
      "pkginfo                       1.8.2\n",
      "platformdirs                  2.5.2\n",
      "plotly                        5.9.0\n",
      "pluggy                        1.0.0\n",
      "poyo                          0.5.0\n",
      "prometheus-client             0.14.1\n",
      "prompt-toolkit                3.0.20\n",
      "Protego                       0.1.16\n",
      "psutil                        5.9.0\n",
      "ptyprocess                    0.7.0\n",
      "py                            1.11.0\n",
      "pyasn1                        0.4.8\n",
      "pyasn1-modules                0.2.8\n",
      "pycodestyle                   2.8.0\n",
      "pycosat                       0.6.3\n",
      "pycparser                     2.21\n",
      "pyct                          0.4.8\n",
      "pycurl                        7.45.1\n",
      "PyDispatcher                  2.0.5\n",
      "pydocstyle                    6.1.1\n",
      "pyerfa                        2.0.0\n",
      "pyflakes                      2.4.0\n",
      "Pygments                      2.11.2\n",
      "PyHamcrest                    2.0.2\n",
      "PyJWT                         2.4.0\n",
      "pylint                        2.14.5\n",
      "pyls-spyder                   0.4.0\n",
      "PyNaCl                        1.5.0\n",
      "pyodbc                        4.0.34\n",
      "pyOpenSSL                     22.0.0\n",
      "pyparsing                     3.0.9\n",
      "pyrsistent                    0.18.0\n",
      "PySocks                       1.7.1\n",
      "pytest                        7.1.2\n",
      "python-dateutil               2.8.2\n",
      "python-lsp-black              1.0.0\n",
      "python-lsp-jsonrpc            1.0.0\n",
      "python-lsp-server             1.3.3\n",
      "python-slugify                5.0.2\n",
      "python-snappy                 0.6.0\n",
      "pytz                          2022.1\n",
      "pyviz-comms                   2.0.2\n",
      "PyWavelets                    1.3.0\n",
      "pywin32                       302\n",
      "pywin32-ctypes                0.2.0\n",
      "pywinpty                      2.0.2\n",
      "PyYAML                        6.0\n",
      "pyzmq                         23.2.0\n",
      "QDarkStyle                    3.0.2\n",
      "qstylizer                     0.1.10\n",
      "QtAwesome                     1.0.3\n",
      "qtconsole                     5.2.2\n",
      "QtPy                          2.2.0\n",
      "queuelib                      1.5.0\n",
      "regex                         2022.7.9\n",
      "requests                      2.28.1\n",
      "requests-file                 1.5.1\n",
      "rope                          0.22.0\n",
      "Rtree                         0.9.7\n",
      "ruamel-yaml-conda             0.15.100\n",
      "s3transfer                    0.6.0\n",
      "scikit-image                  0.19.2\n",
      "scikit-learn                  1.0.2\n",
      "scikit-learn-intelex          2021.20221004.171935\n",
      "scipy                         1.9.1\n",
      "Scrapy                        2.6.2\n",
      "seaborn                       0.11.2\n",
      "Send2Trash                    1.8.0\n",
      "service-identity              18.1.0\n",
      "setuptools                    63.4.1\n",
      "sip                           4.19.13\n",
      "six                           1.16.0\n",
      "smart-open                    5.2.1\n",
      "sniffio                       1.2.0\n",
      "snowballstemmer               2.2.0\n",
      "sortedcollections             2.1.0\n",
      "sortedcontainers              2.4.0\n",
      "soupsieve                     2.3.1\n",
      "Sphinx                        5.0.2\n",
      "sphinxcontrib-applehelp       1.0.2\n",
      "sphinxcontrib-devhelp         1.0.2\n",
      "sphinxcontrib-htmlhelp        2.0.0\n",
      "sphinxcontrib-jsmath          1.0.1\n",
      "sphinxcontrib-qthelp          1.0.3\n",
      "sphinxcontrib-serializinghtml 1.1.5\n",
      "spyder                        5.2.2\n",
      "spyder-kernels                2.2.1\n",
      "SQLAlchemy                    1.4.39\n",
      "statsmodels                   0.13.2\n",
      "sympy                         1.10.1\n",
      "tables                        3.6.1\n",
      "tabulate                      0.8.10\n",
      "TBB                           0.2\n",
      "tblib                         1.7.0\n",
      "tenacity                      8.0.1\n",
      "terminado                     0.13.1\n",
      "testpath                      0.6.0\n",
      "text-unidecode                1.3\n",
      "textdistance                  4.2.1\n",
      "threadpoolctl                 2.2.0\n",
      "three-merge                   0.1.1\n",
      "tifffile                      2021.7.2\n",
      "tinycss                       0.4\n",
      "tldextract                    3.2.0\n",
      "toml                          0.10.2\n",
      "tomli                         2.0.1\n",
      "tomlkit                       0.11.1\n",
      "toolz                         0.11.2\n",
      "tornado                       6.1\n",
      "tqdm                          4.64.1\n",
      "traitlets                     5.1.1\n",
      "Twisted                       22.2.0\n",
      "twisted-iocpsupport           1.0.2\n",
      "typing_extensions             4.3.0\n",
      "ujson                         5.4.0\n",
      "Unidecode                     1.2.0\n",
      "urllib3                       1.26.11\n",
      "w3lib                         1.21.0\n",
      "watchdog                      2.1.6\n",
      "wcwidth                       0.2.5\n",
      "webencodings                  0.5.1\n",
      "websocket-client              0.58.0\n",
      "Werkzeug                      2.0.3\n",
      "wheel                         0.37.1\n",
      "widgetsnbextension            3.5.2\n",
      "win-inet-pton                 1.1.0\n",
      "win-unicode-console           0.5\n",
      "wincertstore                  0.2\n",
      "wrapt                         1.14.1\n",
      "xarray                        0.20.1\n",
      "xlrd                          2.0.1\n",
      "XlsxWriter                    3.0.3\n",
      "xlwings                       0.27.15\n",
      "yapf                          0.31.0\n",
      "zict                          2.1.0\n",
      "zipp                          3.8.0\n",
      "zope.interface                5.4.0\n",
      "Note: you may need to restart the kernel to use updated packages.\n"
     ]
    }
   ],
   "source": [
    "%pip list"
   ]
  },
  {
   "cell_type": "code",
   "execution_count": 26,
   "id": "318a9a4d",
   "metadata": {},
   "outputs": [],
   "source": [
    "import calendar\n",
    "def view_month(year,month):\n",
    "    a,b = calendar.monthrange(year,month)\n",
    "    lastday = b\n",
    "    space = (a + 1) % 7 #7이 될때 0으로 보정해야 한다.\n",
    "    print('{}년 {}월'.format(year,month))\n",
    "    print('일\\t월\\t화\\t수\\t목\\t금\\t토')\n",
    "    for _ in range(space):\n",
    "        print('\\t',end='')\n",
    "    for day in range(1,lastday+1):\n",
    "        print(day,end='\\t')\n",
    "        if (space+day)%7==0:\n",
    "            print()"
   ]
  },
  {
   "cell_type": "code",
   "execution_count": 27,
   "id": "f3b85357",
   "metadata": {},
   "outputs": [
    {
     "name": "stdout",
     "output_type": "stream",
     "text": [
      "2023년 1월\n",
      "일\t월\t화\t수\t목\t금\t토\n",
      "1\t2\t3\t4\t5\t6\t7\t\n",
      "8\t9\t10\t11\t12\t13\t14\t\n",
      "15\t16\t17\t18\t19\t20\t21\t\n",
      "22\t23\t24\t25\t26\t27\t28\t\n",
      "29\t30\t31\t"
     ]
    }
   ],
   "source": [
    "view_month(2023,1)"
   ]
  },
  {
   "cell_type": "code",
   "execution_count": 18,
   "id": "59624bbe",
   "metadata": {},
   "outputs": [],
   "source": [
    "import data.lib"
   ]
  },
  {
   "cell_type": "code",
   "execution_count": 19,
   "id": "2224f45e",
   "metadata": {},
   "outputs": [
    {
     "data": {
      "text/plain": [
       "3628800"
      ]
     },
     "execution_count": 19,
     "metadata": {},
     "output_type": "execute_result"
    }
   ],
   "source": [
    "data.lib.fact(1,10)"
   ]
  },
  {
   "cell_type": "code",
   "execution_count": 20,
   "id": "2a304c96",
   "metadata": {},
   "outputs": [],
   "source": [
    "from data.lib import inc_10"
   ]
  },
  {
   "cell_type": "code",
   "execution_count": 21,
   "id": "3e451c3b",
   "metadata": {},
   "outputs": [
    {
     "data": {
      "text/plain": [
       "15"
      ]
     },
     "execution_count": 21,
     "metadata": {},
     "output_type": "execute_result"
    }
   ],
   "source": [
    "inc_10(5)"
   ]
  },
  {
   "cell_type": "code",
   "execution_count": 22,
   "id": "4a3917ee",
   "metadata": {},
   "outputs": [],
   "source": [
    "import calendar"
   ]
  },
  {
   "cell_type": "code",
   "execution_count": 25,
   "id": "12ac2713",
   "metadata": {},
   "outputs": [
    {
     "name": "stdout",
     "output_type": "stream",
     "text": [
      "6 31\n",
      "2 28\n",
      "2 31\n",
      "5 30\n",
      "0 31\n",
      "3 30\n",
      "5 31\n",
      "1 31\n",
      "4 30\n",
      "6 31\n",
      "2 30\n",
      "4 31\n"
     ]
    }
   ],
   "source": [
    "for i in range(1,13):\n",
    "    a,b = calendar.monthrange(2023,i)\n",
    "    print(a,b)"
   ]
  },
  {
   "cell_type": "code",
   "execution_count": null,
   "id": "e816ee22",
   "metadata": {},
   "outputs": [],
   "source": [
    "[0,3,3,6,1,4,6,2,5,0,3,5]"
   ]
  },
  {
   "cell_type": "code",
   "execution_count": 24,
   "id": "badfe9da",
   "metadata": {},
   "outputs": [
    {
     "name": "stdout",
     "output_type": "stream",
     "text": [
      "6 31\n"
     ]
    }
   ],
   "source": [
    "print(a,b)"
   ]
  },
  {
   "cell_type": "code",
   "execution_count": 38,
   "id": "4ef19c3e",
   "metadata": {},
   "outputs": [],
   "source": [
    "class Calculator:\n",
    "   \n",
    "    def set(self,x,y):\n",
    "        self.first = x\n",
    "        self.second = y\n",
    "        print(self.first+self.second)\n",
    "        pass\n",
    "    \n",
    "    def add(self):\n",
    "        \n",
    "        return self.first+self.second\n",
    "    \n",
    "    pass"
   ]
  },
  {
   "cell_type": "code",
   "execution_count": 39,
   "id": "3838b1f1",
   "metadata": {},
   "outputs": [
    {
     "name": "stdout",
     "output_type": "stream",
     "text": [
      "30\n",
      "30\n"
     ]
    }
   ],
   "source": [
    "cal = Calculator()\n",
    "cal.set(10,20)\n",
    "result = cal.add()\n",
    "print(result)"
   ]
  },
  {
   "cell_type": "code",
   "execution_count": null,
   "id": "cd14fdbd",
   "metadata": {},
   "outputs": [],
   "source": [
    "#클래스와 객체 정리\n",
    "# 1. 클래스 작성 표기법 확인\n",
    "# 2. 클래스에서 인스턴스 속성과 메소드 표기법 확인\n",
    "# 3. 인스턴스 속성값 결정하는 위치 확인\n",
    "# 4. 인스턴스 생성 표기법 확인\n",
    "# 5. 생성한 인스턴스 사용법 확인\n"
   ]
  },
  {
   "cell_type": "code",
   "execution_count": 42,
   "id": "854a3b55",
   "metadata": {},
   "outputs": [],
   "source": [
    "#month_temp.csv 파일을 읽어와서 앞에서부터 5라인 출력하는 코드 작성\n",
    "file = open('./data/month_temp.csv','r',encoding='utf8')\n",
    "lines = file.readlines()\n",
    "file.close()"
   ]
  },
  {
   "cell_type": "code",
   "execution_count": 43,
   "id": "6a533a5b",
   "metadata": {},
   "outputs": [
    {
     "data": {
      "text/plain": [
       "['지점,일시,평균기온(°C),최저기온(°C),최고기온(°C)\\n',\n",
       " '119,2019-10-01,22,15.7,27.4\\n',\n",
       " '119,2019-10-02,21.9,20.4,23.8\\n',\n",
       " '119,2019-10-03,22.8,19.9,27.8\\n',\n",
       " '119,2019-10-04,21.9,17.8,26.9\\n']"
      ]
     },
     "execution_count": 43,
     "metadata": {},
     "output_type": "execute_result"
    }
   ],
   "source": [
    "lines[0:5]"
   ]
  },
  {
   "cell_type": "code",
   "execution_count": 44,
   "id": "1780a2e3",
   "metadata": {},
   "outputs": [],
   "source": [
    "weathers_info = []\n",
    "for line in lines:\n",
    "    temp = line[:-1].split(',')\n",
    "    weathers_info.append(temp)\n",
    "    pass"
   ]
  },
  {
   "cell_type": "code",
   "execution_count": 45,
   "id": "45250d40",
   "metadata": {},
   "outputs": [
    {
     "data": {
      "text/plain": [
       "32"
      ]
     },
     "execution_count": 45,
     "metadata": {},
     "output_type": "execute_result"
    }
   ],
   "source": [
    "len(weathers_info)"
   ]
  },
  {
   "cell_type": "code",
   "execution_count": 49,
   "id": "83b13e69",
   "metadata": {},
   "outputs": [
    {
     "data": {
      "text/plain": [
       "['지점', '일시', '평균기온(°C)', '최저기온(°C)', '최고기온(°C)']"
      ]
     },
     "execution_count": 49,
     "metadata": {},
     "output_type": "execute_result"
    }
   ],
   "source": [
    "weathers_info[0]"
   ]
  },
  {
   "cell_type": "code",
   "execution_count": 50,
   "id": "1f9f2154",
   "metadata": {},
   "outputs": [
    {
     "data": {
      "text/plain": [
       "[['119', '2019-10-01', '22', '15.7', '27.4'],\n",
       " ['119', '2019-10-02', '21.9', '20.4', '23.8'],\n",
       " ['119', '2019-10-03', '22.8', '19.9', '27.8'],\n",
       " ['119', '2019-10-04', '21.9', '17.8', '26.9'],\n",
       " ['119', '2019-10-05', '18.9', '15.7', '22'],\n",
       " ['119', '2019-10-06', '18', '14', '22'],\n",
       " ['119', '2019-10-07', '14.8', '13.4', '17.9'],\n",
       " ['119', '2019-10-08', '15', '10.7', '20.6'],\n",
       " ['119', '2019-10-09', '12.8', '6.4', '19.6'],\n",
       " ['119', '2019-10-10', '14.9', '9.5', '20.2'],\n",
       " ['119', '2019-10-11', '18.8', '12.1', '24.8'],\n",
       " ['119', '2019-10-12', '18.3', '14.1', '23.3'],\n",
       " ['119', '2019-10-13', '16.9', '12.5', '22.9'],\n",
       " ['119', '2019-10-14', '14', '8.5', '19.4'],\n",
       " ['119', '2019-10-15', '13.3', '7.3', '19.6'],\n",
       " ['119', '2019-10-16', '13.9', '7.9', '20'],\n",
       " ['119', '2019-10-17', '14.6', '9.1', '20.6'],\n",
       " ['119', '2019-10-18', '16.7', '10', '21.9'],\n",
       " ['119', '2019-10-19', '16', '10.4', '22.2'],\n",
       " ['119', '2019-10-20', '15.1', '10.8', '21.7'],\n",
       " ['119', '2019-10-21', '16.1', '9.5', '23.9'],\n",
       " ['119', '2019-10-22', '16.6', '11.1', '23'],\n",
       " ['119', '2019-10-23', '17', '12.4', '20'],\n",
       " ['119', '2019-10-24', '18.6', '14.1', '23.3'],\n",
       " ['119', '2019-10-25', '16.6', '10.7', '21.7'],\n",
       " ['119', '2019-10-26', '9.8', '6.4', '13.9'],\n",
       " ['119', '2019-10-27', '10.2', '3', '16.8'],\n",
       " ['119', '2019-10-28', '12.4', '6.3', '17.4'],\n",
       " ['119', '2019-10-29', '12.6', '8.2', '18.1'],\n",
       " ['119', '2019-10-30', '10.3', '3.3', '17.1'],\n",
       " ['119', '2019-10-31', '14.1', '7.3', '20.4']]"
      ]
     },
     "execution_count": 50,
     "metadata": {},
     "output_type": "execute_result"
    }
   ],
   "source": [
    "weathers_info[1:]"
   ]
  },
  {
   "cell_type": "code",
   "execution_count": 51,
   "id": "36569afc",
   "metadata": {},
   "outputs": [
    {
     "name": "stdout",
     "output_type": "stream",
     "text": [
      "지점\n",
      "일시\n",
      "평균기온(°C)\n",
      "최저기온(°C)\n",
      "최고기온(°C)\n",
      "119\n",
      "2019-10-01\n",
      "22\n",
      "15.7\n",
      "27.4\n",
      "119\n",
      "2019-10-02\n",
      "21.9\n",
      "20.4\n",
      "23.8\n",
      "119\n",
      "2019-10-03\n",
      "22.8\n",
      "19.9\n",
      "27.8\n",
      "119\n",
      "2019-10-04\n",
      "21.9\n",
      "17.8\n",
      "26.9\n",
      "119\n",
      "2019-10-05\n",
      "18.9\n",
      "15.7\n",
      "22\n",
      "119\n",
      "2019-10-06\n",
      "18\n",
      "14\n",
      "22\n",
      "119\n",
      "2019-10-07\n",
      "14.8\n",
      "13.4\n",
      "17.9\n",
      "119\n",
      "2019-10-08\n",
      "15\n",
      "10.7\n",
      "20.6\n",
      "119\n",
      "2019-10-09\n",
      "12.8\n",
      "6.4\n",
      "19.6\n",
      "119\n",
      "2019-10-10\n",
      "14.9\n",
      "9.5\n",
      "20.2\n",
      "119\n",
      "2019-10-11\n",
      "18.8\n",
      "12.1\n",
      "24.8\n",
      "119\n",
      "2019-10-12\n",
      "18.3\n",
      "14.1\n",
      "23.3\n",
      "119\n",
      "2019-10-13\n",
      "16.9\n",
      "12.5\n",
      "22.9\n",
      "119\n",
      "2019-10-14\n",
      "14\n",
      "8.5\n",
      "19.4\n",
      "119\n",
      "2019-10-15\n",
      "13.3\n",
      "7.3\n",
      "19.6\n",
      "119\n",
      "2019-10-16\n",
      "13.9\n",
      "7.9\n",
      "20\n",
      "119\n",
      "2019-10-17\n",
      "14.6\n",
      "9.1\n",
      "20.6\n",
      "119\n",
      "2019-10-18\n",
      "16.7\n",
      "10\n",
      "21.9\n",
      "119\n",
      "2019-10-19\n",
      "16\n",
      "10.4\n",
      "22.2\n",
      "119\n",
      "2019-10-20\n",
      "15.1\n",
      "10.8\n",
      "21.7\n",
      "119\n",
      "2019-10-21\n",
      "16.1\n",
      "9.5\n",
      "23.9\n",
      "119\n",
      "2019-10-22\n",
      "16.6\n",
      "11.1\n",
      "23\n",
      "119\n",
      "2019-10-23\n",
      "17\n",
      "12.4\n",
      "20\n",
      "119\n",
      "2019-10-24\n",
      "18.6\n",
      "14.1\n",
      "23.3\n",
      "119\n",
      "2019-10-25\n",
      "16.6\n",
      "10.7\n",
      "21.7\n",
      "119\n",
      "2019-10-26\n",
      "9.8\n",
      "6.4\n",
      "13.9\n",
      "119\n",
      "2019-10-27\n",
      "10.2\n",
      "3\n",
      "16.8\n",
      "119\n",
      "2019-10-28\n",
      "12.4\n",
      "6.3\n",
      "17.4\n",
      "119\n",
      "2019-10-29\n",
      "12.6\n",
      "8.2\n",
      "18.1\n",
      "119\n",
      "2019-10-30\n",
      "10.3\n",
      "3.3\n",
      "17.1\n",
      "119\n",
      "2019-10-31\n",
      "14.1\n",
      "7.3\n",
      "20.4\n"
     ]
    }
   ],
   "source": [
    "for weather in weathers_info:\n",
    "    for ele in weather:\n",
    "        print(ele)\n",
    "        pass\n",
    "    pass"
   ]
  },
  {
   "cell_type": "code",
   "execution_count": 56,
   "id": "5604500d",
   "metadata": {},
   "outputs": [
    {
     "name": "stdout",
     "output_type": "stream",
     "text": [
      "['119', '2019-10-20', '15.1', '10.8', '21.7']\n"
     ]
    }
   ],
   "source": [
    "for weather in weathers_info[1:]:\n",
    "    if  weather[1]=='2019-10-20'  :\n",
    "        print(weather[:])\n",
    "    pass"
   ]
  },
  {
   "cell_type": "code",
   "execution_count": 66,
   "id": "add27dcf",
   "metadata": {},
   "outputs": [
    {
     "name": "stdout",
     "output_type": "stream",
     "text": [
      "일자,최저기온,최고기온,일교차\n",
      "2019-10-01,15.7,27.4,11.70\n",
      "2019-10-02,20.4,23.8,3.40\n",
      "2019-10-03,19.9,27.8,7.90\n",
      "2019-10-04,17.8,26.9,9.10\n",
      "2019-10-05,15.7,22,6.30\n",
      "2019-10-06,14,22,8.00\n",
      "2019-10-07,13.4,17.9,4.50\n",
      "2019-10-08,10.7,20.6,9.90\n",
      "2019-10-09,6.4,19.6,13.20\n",
      "2019-10-10,9.5,20.2,10.70\n",
      "2019-10-11,12.1,24.8,12.70\n",
      "2019-10-12,14.1,23.3,9.20\n",
      "2019-10-13,12.5,22.9,10.40\n",
      "2019-10-14,8.5,19.4,10.90\n",
      "2019-10-15,7.3,19.6,12.30\n",
      "2019-10-16,7.9,20,12.10\n",
      "2019-10-17,9.1,20.6,11.50\n",
      "2019-10-18,10,21.9,11.90\n",
      "2019-10-19,10.4,22.2,11.80\n",
      "2019-10-20,10.8,21.7,10.90\n",
      "2019-10-21,9.5,23.9,14.40\n",
      "2019-10-22,11.1,23,11.90\n",
      "2019-10-23,12.4,20,7.60\n",
      "2019-10-24,14.1,23.3,9.20\n",
      "2019-10-25,10.7,21.7,11.00\n",
      "2019-10-26,6.4,13.9,7.50\n",
      "2019-10-27,3,16.8,13.80\n",
      "2019-10-28,6.3,17.4,11.10\n",
      "2019-10-29,8.2,18.1,9.90\n",
      "2019-10-30,3.3,17.1,13.80\n",
      "2019-10-31,7.3,20.4,13.10\n"
     ]
    }
   ],
   "source": [
    "print('일자,최저기온,최고기온,일교차')\n",
    "for weather in weathers_info[1:]:\n",
    "    temp = float(weather[-1]) - float(weather[-2])\n",
    "    print('{},{},{},{:.2f}'.format(weather[1],weather[-2],weather[-1],temp))"
   ]
  },
  {
   "cell_type": "code",
   "execution_count": 67,
   "id": "27a27150",
   "metadata": {},
   "outputs": [],
   "source": [
    "#파일에 저장하는 코드를 작성하시오\n",
    "file = open('./data/month_temp_result.csv','w')\n",
    "file.write('일자,최저기온,최고기온,일교차\\n')\n",
    "for weather in weathers_info[1:]:\n",
    "    temp = float(weather[-1]) - float(weather[-2])\n",
    "    file.write('{},{},{},{:.2f}\\n'.format(weather[1],weather[-2],weather[-1],temp))\n",
    "    pass\n",
    "file.close()"
   ]
  },
  {
   "cell_type": "code",
   "execution_count": 72,
   "id": "da2e70c3",
   "metadata": {},
   "outputs": [],
   "source": [
    "q11_1 = open('./data/month_temp.csv','r',encoding='utf8')\n",
    "lines = q11_1.readlines()\n",
    "q11_1.close()"
   ]
  },
  {
   "cell_type": "code",
   "execution_count": 88,
   "id": "a22012d6",
   "metadata": {},
   "outputs": [
    {
     "name": "stdout",
     "output_type": "stream",
     "text": [
      "119/2019-10-01/22/15.7/27.4\n"
     ]
    }
   ],
   "source": [
    "for line in lines[1:2]:\n",
    "    for letter in line[:-1]:\n",
    "        if letter==',':\n",
    "            print('/',end='')\n",
    "        else :\n",
    "            print(letter,end='')\n",
    "            pass\n",
    "    print()"
   ]
  },
  {
   "cell_type": "code",
   "execution_count": 87,
   "id": "22763a06",
   "metadata": {},
   "outputs": [
    {
     "name": "stdout",
     "output_type": "stream",
     "text": [
      "119/2019-10-01/22/15.7/27.4\n",
      "119/2019-10-02/21.9/20.4/23.8\n",
      "119/2019-10-03/22.8/19.9/27.8\n",
      "119/2019-10-04/21.9/17.8/26.9\n",
      "119/2019-10-05/18.9/15.7/22\n",
      "119/2019-10-06/18/14/22\n",
      "119/2019-10-07/14.8/13.4/17.9\n",
      "119/2019-10-08/15/10.7/20.6\n",
      "119/2019-10-09/12.8/6.4/19.6\n",
      "119/2019-10-10/14.9/9.5/20.2\n",
      "119/2019-10-11/18.8/12.1/24.8\n",
      "119/2019-10-12/18.3/14.1/23.3\n",
      "119/2019-10-13/16.9/12.5/22.9\n",
      "119/2019-10-14/14/8.5/19.4\n",
      "119/2019-10-15/13.3/7.3/19.6\n",
      "119/2019-10-16/13.9/7.9/20\n",
      "119/2019-10-17/14.6/9.1/20.6\n",
      "119/2019-10-18/16.7/10/21.9\n",
      "119/2019-10-19/16/10.4/22.2\n",
      "119/2019-10-20/15.1/10.8/21.7\n",
      "119/2019-10-21/16.1/9.5/23.9\n",
      "119/2019-10-22/16.6/11.1/23\n",
      "119/2019-10-23/17/12.4/20\n",
      "119/2019-10-24/18.6/14.1/23.3\n",
      "119/2019-10-25/16.6/10.7/21.7\n",
      "119/2019-10-26/9.8/6.4/13.9\n",
      "119/2019-10-27/10.2/3/16.8\n",
      "119/2019-10-28/12.4/6.3/17.4\n",
      "119/2019-10-29/12.6/8.2/18.1\n",
      "119/2019-10-30/10.3/3.3/17.1\n",
      "119/2019-10-31/14.1/7.3/20.4\n"
     ]
    }
   ],
   "source": [
    "for line in lines[1:]:\n",
    "    print(line[:-1].replace(',','/'))"
   ]
  },
  {
   "cell_type": "code",
   "execution_count": 89,
   "id": "a392ff17",
   "metadata": {},
   "outputs": [
    {
     "data": {
      "text/plain": [
       "'지점,일시,평균기온(°C),최저기온(°C),최고기온(°C)\\n'"
      ]
     },
     "execution_count": 89,
     "metadata": {},
     "output_type": "execute_result"
    }
   ],
   "source": [
    "lines[0]"
   ]
  },
  {
   "cell_type": "code",
   "execution_count": 90,
   "id": "1b0cfbf1",
   "metadata": {},
   "outputs": [],
   "source": [
    "def get_list(filepath):\n",
    "    file = open(filepath,'r',encoding='utf8')\n",
    "    lines = file.readlines()\n",
    "    file.close()\n",
    "    weathers_info = []\n",
    "    for line in lines:\n",
    "        temp = line[:-1].split(',')\n",
    "        weathers_info.append(temp)\n",
    "        pass\n",
    "    \n",
    "    return weathers_info"
   ]
  },
  {
   "cell_type": "code",
   "execution_count": 91,
   "id": "7c4f1440",
   "metadata": {},
   "outputs": [],
   "source": [
    "pharm_list = get_list('./data/pharm_2019.csv')"
   ]
  },
  {
   "cell_type": "code",
   "execution_count": 96,
   "id": "7f2b211a",
   "metadata": {},
   "outputs": [
    {
     "name": "stdout",
     "output_type": "stream",
     "text": [
      "[['약국명', '지역', '주소', '개설일자', '경도', '위도'], ['영미약국', '용인처인구', '경기도 용인시 처인구 금령로 73 (김량장동)', '20130701', '127.2043559', '37.2352302'], ['파랑새약국', '인천미추홀구', '인천광역시 미추홀구 장천로112번길 3 (숭의동)', '20130701', '126.6565669', '37.4629140'], ['새봄약국', '용인기흥구', '경기도 용인시 기흥구 서천로 121 원희캐슬 110호 (서천동)', '20130701', '127.0727467', '37.2371531'], ['헬스팜약국', '의정부시', '경기도 의정부시 태평로 110 1층 (의정부동)', '20170710', '127.0518480', '37.7423707']]\n"
     ]
    }
   ],
   "source": [
    "print(pharm_list[:5])"
   ]
  },
  {
   "cell_type": "code",
   "execution_count": 99,
   "id": "42d69c56",
   "metadata": {},
   "outputs": [],
   "source": [
    "my_numbers = [3,9,1,4,2,8]\n",
    "for i in range(len(my_numbers)-1):\n",
    "    for j in range(i+1,len(my_numbers)):\n",
    "        if my_numbers[i]<my_numbers[j]:\n",
    "            temp = my_numbers[i]\n",
    "            my_numbers[i] = my_numbers[j]\n",
    "            my_numbers[j] = temp\n",
    "        pass\n",
    "    pass"
   ]
  },
  {
   "cell_type": "code",
   "execution_count": 100,
   "id": "a83a7fc5",
   "metadata": {},
   "outputs": [
    {
     "data": {
      "text/plain": [
       "[9, 8, 4, 3, 2, 1]"
      ]
     },
     "execution_count": 100,
     "metadata": {},
     "output_type": "execute_result"
    }
   ],
   "source": [
    "my_numbers"
   ]
  },
  {
   "cell_type": "code",
   "execution_count": null,
   "id": "f629726a",
   "metadata": {},
   "outputs": [],
   "source": [
    "#gisa_list의 total컬럼을 기준으로 내림차순정렬 코드 작성하시오"
   ]
  },
  {
   "cell_type": "code",
   "execution_count": 103,
   "id": "1189d6d6",
   "metadata": {},
   "outputs": [],
   "source": [
    "def get_list2(filepath):\n",
    "    file = open(filepath,'r',encoding='utf8')\n",
    "    lines = file.readlines()\n",
    "    file.close()\n",
    "    weathers_info = []\n",
    "    for line in lines:\n",
    "        temp = line[:-1].split(',')\n",
    "        for i in range(8):\n",
    "            if i!=1:\n",
    "                temp[i] = int(temp[i])\n",
    "        weathers_info.append(temp)\n",
    "        pass\n",
    "    \n",
    "    return weathers_info"
   ]
  },
  {
   "cell_type": "code",
   "execution_count": 118,
   "id": "c1e51a5c",
   "metadata": {},
   "outputs": [],
   "source": [
    "gisa_list = get_list2('./data/Abc1115.csv')"
   ]
  },
  {
   "cell_type": "code",
   "execution_count": 119,
   "id": "c3023d66",
   "metadata": {},
   "outputs": [
    {
     "data": {
      "text/plain": [
       "[[990001, 'addx', 17, 29, 16, 49, 43, 154, 'C', 'A', 'C'],\n",
       " [990002, 'stch', 30, 9, 48, 25, 81, 193, 'C', 'A', 'A'],\n",
       " [990003, 'gali', 93, 60, 6, 84, 36, 279, 'A', 'C', 'A'],\n",
       " [990004, 'miat', 73, 22, 48, 24, 72, 239, 'B', 'C', 'C'],\n",
       " [990005, 'oran', 33, 38, 59, 58, 28, 216, 'C', 'B', 'A']]"
      ]
     },
     "execution_count": 119,
     "metadata": {},
     "output_type": "execute_result"
    }
   ],
   "source": [
    "gisa_list[0:5]"
   ]
  },
  {
   "cell_type": "code",
   "execution_count": 125,
   "id": "e45abab4",
   "metadata": {},
   "outputs": [],
   "source": [
    "for i in range(len(gisa_list)-1):\n",
    "    for j in range(i+1,len(gisa_list)):\n",
    "        if gisa_list[i][7]<gisa_list[j][7]:\n",
    "            temp = gisa_list[i]\n",
    "            gisa_list[i] = gisa_list[j]\n",
    "            gisa_list[j] = temp\n",
    "        elif gisa_list[i][7]==gisa_list[j][7]:\n",
    "            if gisa_list[i][0]>gisa_list[j][0]:\n",
    "                temp = gisa_list[i]\n",
    "                gisa_list[i] = gisa_list[j]\n",
    "                gisa_list[j] = temp\n",
    "        pass\n",
    "    pass"
   ]
  },
  {
   "cell_type": "code",
   "execution_count": 129,
   "id": "4c0239d2",
   "metadata": {},
   "outputs": [
    {
     "data": {
      "text/plain": [
       "[[990014, 'oldn', 83, 89, 67, 67, 87, 393, 'B', 'C', 'A'],\n",
       " [990440, 'gino', 59, 67, 91, 81, 95, 393, 'A', 'B', 'A'],\n",
       " [990622, 'happ', 63, 80, 82, 78, 90, 393, 'C', 'A', 'C'],\n",
       " [990588, 'soos', 60, 69, 68, 98, 94, 389, 'B', 'C', 'B'],\n",
       " [990967, 'ille', 66, 72, 68, 93, 85, 384, 'B', 'C', 'A'],\n",
       " [990565, 'amp1', 78, 100, 85, 96, 24, 383, 'A', 'C', 'A'],\n",
       " [990666, 'whoa', 76, 39, 86, 90, 92, 383, 'A', 'B', 'B']]"
      ]
     },
     "execution_count": 129,
     "metadata": {},
     "output_type": "execute_result"
    }
   ],
   "source": [
    "gisa_list[8:15]"
   ]
  },
  {
   "cell_type": "code",
   "execution_count": 130,
   "id": "4df73d85",
   "metadata": {},
   "outputs": [
    {
     "data": {
      "text/plain": [
       "['약국명', '지역', '주소', '개설일자', '경도', '위도']"
      ]
     },
     "execution_count": 130,
     "metadata": {},
     "output_type": "execute_result"
    }
   ],
   "source": [
    "pharm_list[0]"
   ]
  },
  {
   "cell_type": "code",
   "execution_count": 136,
   "id": "4a542198",
   "metadata": {},
   "outputs": [
    {
     "name": "stdout",
     "output_type": "stream",
     "text": [
      "['안녕약국', '화성시', '\"경기도 화성시 용주로 22 2층 (안녕동', ' 태안농협안녕지점)\"', '20150907', '127.0142547', '37.2054837']\n"
     ]
    }
   ],
   "source": [
    "for pharm in pharm_list[20:21]:\n",
    "    print(pharm)\n",
    "    if pharm[0]=='로얄약국':\n",
    "        print(pharm)"
   ]
  },
  {
   "cell_type": "code",
   "execution_count": null,
   "id": "54717b21",
   "metadata": {},
   "outputs": [],
   "source": [
    "pharm_list = get_list('./data/pharm_2019.csv')"
   ]
  },
  {
   "cell_type": "code",
   "execution_count": 146,
   "id": "607aa1f9",
   "metadata": {},
   "outputs": [
    {
     "name": "stdout",
     "output_type": "stream",
     "text": [
      "열린연세약국,인천미추홀구,'인천광역시 미추홀구 토금남로 53 (용현동, 한양프라자 105호)',20130801,126.6380949,37.4508199\n",
      "\n",
      "['열린연세약국', '인천미추홀구', \"'인천광역시 미추홀구 토금남로 53 (용현동\", \" 한양프라자 105호)'\", '20130801', '126.6380949', '37.4508199']\n"
     ]
    }
   ],
   "source": [
    "file = open('./data/pharm_2019.csv','r',encoding='utf8')\n",
    "lines = file.readlines()\n",
    "file.close()\n",
    "weathers_info = []\n",
    "for line in lines[17:18]:\n",
    "    print(line)\n",
    "    temp = line[:-1].split(',')\n",
    "    print(temp)\n",
    "    weathers_info.append(temp)\n",
    "    pass"
   ]
  },
  {
   "cell_type": "code",
   "execution_count": 144,
   "id": "54ae7e7b",
   "metadata": {},
   "outputs": [
    {
     "data": {
      "text/plain": [
       "['열린연세약국',\n",
       " '인천미추홀구',\n",
       " '\"인천광역시 미추홀구 토금남로 53 (용현동',\n",
       " ' 한양프라자 105호)\"',\n",
       " '20130801',\n",
       " '126.6380949',\n",
       " '37.4508199']"
      ]
     },
     "execution_count": 144,
     "metadata": {},
     "output_type": "execute_result"
    }
   ],
   "source": [
    "weathers_info[0]"
   ]
  },
  {
   "cell_type": "code",
   "execution_count": 147,
   "id": "7795cfe9",
   "metadata": {},
   "outputs": [],
   "source": [
    "import pandas as pd"
   ]
  },
  {
   "cell_type": "code",
   "execution_count": 153,
   "id": "e616eeb5",
   "metadata": {},
   "outputs": [],
   "source": [
    "df = pd.read_csv('./data/pharm_2019.csv')"
   ]
  },
  {
   "cell_type": "code",
   "execution_count": 155,
   "id": "029f1f10",
   "metadata": {},
   "outputs": [
    {
     "data": {
      "text/html": [
       "<div>\n",
       "<style scoped>\n",
       "    .dataframe tbody tr th:only-of-type {\n",
       "        vertical-align: middle;\n",
       "    }\n",
       "\n",
       "    .dataframe tbody tr th {\n",
       "        vertical-align: top;\n",
       "    }\n",
       "\n",
       "    .dataframe thead th {\n",
       "        text-align: right;\n",
       "    }\n",
       "</style>\n",
       "<table border=\"1\" class=\"dataframe\">\n",
       "  <thead>\n",
       "    <tr style=\"text-align: right;\">\n",
       "      <th></th>\n",
       "      <th>약국명</th>\n",
       "      <th>지역</th>\n",
       "      <th>주소</th>\n",
       "      <th>개설일자</th>\n",
       "      <th>경도</th>\n",
       "      <th>위도</th>\n",
       "    </tr>\n",
       "  </thead>\n",
       "  <tbody>\n",
       "    <tr>\n",
       "      <th>0</th>\n",
       "      <td>영미약국</td>\n",
       "      <td>용인처인구</td>\n",
       "      <td>경기도 용인시 처인구 금령로 73 (김량장동)</td>\n",
       "      <td>20130701</td>\n",
       "      <td>127.204356</td>\n",
       "      <td>37.235230</td>\n",
       "    </tr>\n",
       "    <tr>\n",
       "      <th>1</th>\n",
       "      <td>파랑새약국</td>\n",
       "      <td>인천미추홀구</td>\n",
       "      <td>인천광역시 미추홀구 장천로112번길 3 (숭의동)</td>\n",
       "      <td>20130701</td>\n",
       "      <td>126.656567</td>\n",
       "      <td>37.462914</td>\n",
       "    </tr>\n",
       "    <tr>\n",
       "      <th>2</th>\n",
       "      <td>새봄약국</td>\n",
       "      <td>용인기흥구</td>\n",
       "      <td>경기도 용인시 기흥구 서천로 121 원희캐슬 110호 (서천동)</td>\n",
       "      <td>20130701</td>\n",
       "      <td>127.072747</td>\n",
       "      <td>37.237153</td>\n",
       "    </tr>\n",
       "    <tr>\n",
       "      <th>3</th>\n",
       "      <td>헬스팜약국</td>\n",
       "      <td>의정부시</td>\n",
       "      <td>경기도 의정부시 태평로 110 1층 (의정부동)</td>\n",
       "      <td>20170710</td>\n",
       "      <td>127.051848</td>\n",
       "      <td>37.742371</td>\n",
       "    </tr>\n",
       "    <tr>\n",
       "      <th>4</th>\n",
       "      <td>플러스약국</td>\n",
       "      <td>부천시</td>\n",
       "      <td>경기도 부천시 상동로 90 313호 (상동, 메가플러스)</td>\n",
       "      <td>20130701</td>\n",
       "      <td>126.753705</td>\n",
       "      <td>37.505182</td>\n",
       "    </tr>\n",
       "    <tr>\n",
       "      <th>5</th>\n",
       "      <td>봄약국</td>\n",
       "      <td>인천서구</td>\n",
       "      <td>인천광역시 서구 중봉대로 588 302-1호 (연희동, 청라센트럴프라자)</td>\n",
       "      <td>20130701</td>\n",
       "      <td>126.650282</td>\n",
       "      <td>37.532080</td>\n",
       "    </tr>\n",
       "    <tr>\n",
       "      <th>6</th>\n",
       "      <td>시원약국</td>\n",
       "      <td>고양일산서구</td>\n",
       "      <td>경기도 고양시 일산서구 일산로 523 보성상가 103호 (일산동)</td>\n",
       "      <td>20180518</td>\n",
       "      <td>126.769454</td>\n",
       "      <td>37.676674</td>\n",
       "    </tr>\n",
       "    <tr>\n",
       "      <th>7</th>\n",
       "      <td>해밀온누리약국</td>\n",
       "      <td>인천남동구</td>\n",
       "      <td>인천광역시 남동구 서창남순환로 56 (서창동)</td>\n",
       "      <td>20180906</td>\n",
       "      <td>126.751115</td>\n",
       "      <td>37.429051</td>\n",
       "    </tr>\n",
       "    <tr>\n",
       "      <th>8</th>\n",
       "      <td>백화점약국</td>\n",
       "      <td>안산상록구</td>\n",
       "      <td>경기도 안산시 상록구 석호로 292 1층 (본오동)</td>\n",
       "      <td>20130701</td>\n",
       "      <td>126.863111</td>\n",
       "      <td>37.293349</td>\n",
       "    </tr>\n",
       "    <tr>\n",
       "      <th>9</th>\n",
       "      <td>혜민약국</td>\n",
       "      <td>양주시</td>\n",
       "      <td>경기도 양주시 백석읍 호명로 57 (백석읍)</td>\n",
       "      <td>20130715</td>\n",
       "      <td>126.992872</td>\n",
       "      <td>37.788316</td>\n",
       "    </tr>\n",
       "    <tr>\n",
       "      <th>10</th>\n",
       "      <td>다정약국</td>\n",
       "      <td>고양일산서구</td>\n",
       "      <td>경기도 고양시 일산서구 일청로 15-1 1층 (일산동)</td>\n",
       "      <td>20130712</td>\n",
       "      <td>126.770269</td>\n",
       "      <td>37.685942</td>\n",
       "    </tr>\n",
       "    <tr>\n",
       "      <th>11</th>\n",
       "      <td>중앙약국</td>\n",
       "      <td>의정부시</td>\n",
       "      <td>경기도 의정부시 민락로 210 3층 (민락동, 이마트)</td>\n",
       "      <td>20130715</td>\n",
       "      <td>127.102378</td>\n",
       "      <td>37.743194</td>\n",
       "    </tr>\n",
       "    <tr>\n",
       "      <th>12</th>\n",
       "      <td>새안양보룡약국</td>\n",
       "      <td>안양만안구</td>\n",
       "      <td>경기도 안양시 만안구 안양로 259 1층 (안양동)</td>\n",
       "      <td>20150701</td>\n",
       "      <td>126.923630</td>\n",
       "      <td>37.395726</td>\n",
       "    </tr>\n",
       "    <tr>\n",
       "      <th>13</th>\n",
       "      <td>일산선약국</td>\n",
       "      <td>고양일산서구</td>\n",
       "      <td>경기도 고양시 일산서구 가좌1로 53 110호 (가좌동, 샤르망프라자)</td>\n",
       "      <td>20130729</td>\n",
       "      <td>126.718958</td>\n",
       "      <td>37.687553</td>\n",
       "    </tr>\n",
       "    <tr>\n",
       "      <th>14</th>\n",
       "      <td>우리약국</td>\n",
       "      <td>수원영통구</td>\n",
       "      <td>경기도 수원시 영통구 센트럴타운로 15 111호 (이의동, 아이플렉스)</td>\n",
       "      <td>20130730</td>\n",
       "      <td>127.057287</td>\n",
       "      <td>37.288165</td>\n",
       "    </tr>\n",
       "    <tr>\n",
       "      <th>15</th>\n",
       "      <td>다원약국</td>\n",
       "      <td>성남수정구</td>\n",
       "      <td>경기도 성남시 수정구 산성대로 241 5층 (신흥동)</td>\n",
       "      <td>20181101</td>\n",
       "      <td>127.144090</td>\n",
       "      <td>37.439948</td>\n",
       "    </tr>\n",
       "    <tr>\n",
       "      <th>16</th>\n",
       "      <td>열린연세약국</td>\n",
       "      <td>인천미추홀구</td>\n",
       "      <td>인천광역시 미추홀구 토금남로 53 (용현동, 한양프라자 105호)</td>\n",
       "      <td>20130801</td>\n",
       "      <td>126.638095</td>\n",
       "      <td>37.450820</td>\n",
       "    </tr>\n",
       "  </tbody>\n",
       "</table>\n",
       "</div>"
      ],
      "text/plain": [
       "        약국명      지역                                        주소      개설일자  \\\n",
       "0      영미약국   용인처인구                 경기도 용인시 처인구 금령로 73 (김량장동)  20130701   \n",
       "1     파랑새약국  인천미추홀구               인천광역시 미추홀구 장천로112번길 3 (숭의동)  20130701   \n",
       "2      새봄약국   용인기흥구       경기도 용인시 기흥구 서천로 121 원희캐슬 110호 (서천동)  20130701   \n",
       "3     헬스팜약국    의정부시                경기도 의정부시 태평로 110 1층 (의정부동)  20170710   \n",
       "4     플러스약국     부천시           경기도 부천시 상동로 90 313호 (상동, 메가플러스)  20130701   \n",
       "5       봄약국    인천서구  인천광역시 서구 중봉대로 588 302-1호 (연희동, 청라센트럴프라자)  20130701   \n",
       "6      시원약국  고양일산서구      경기도 고양시 일산서구 일산로 523 보성상가 103호 (일산동)  20180518   \n",
       "7   해밀온누리약국   인천남동구                 인천광역시 남동구 서창남순환로 56 (서창동)  20180906   \n",
       "8     백화점약국   안산상록구              경기도 안산시 상록구 석호로 292 1층 (본오동)  20130701   \n",
       "9      혜민약국     양주시                  경기도 양주시 백석읍 호명로 57 (백석읍)  20130715   \n",
       "10     다정약국  고양일산서구            경기도 고양시 일산서구 일청로 15-1 1층 (일산동)  20130712   \n",
       "11     중앙약국    의정부시            경기도 의정부시 민락로 210 3층 (민락동, 이마트)  20130715   \n",
       "12  새안양보룡약국   안양만안구              경기도 안양시 만안구 안양로 259 1층 (안양동)  20150701   \n",
       "13    일산선약국  고양일산서구   경기도 고양시 일산서구 가좌1로 53 110호 (가좌동, 샤르망프라자)  20130729   \n",
       "14     우리약국   수원영통구   경기도 수원시 영통구 센트럴타운로 15 111호 (이의동, 아이플렉스)  20130730   \n",
       "15     다원약국   성남수정구             경기도 성남시 수정구 산성대로 241 5층 (신흥동)  20181101   \n",
       "16   열린연세약국  인천미추홀구      인천광역시 미추홀구 토금남로 53 (용현동, 한양프라자 105호)  20130801   \n",
       "\n",
       "            경도         위도  \n",
       "0   127.204356  37.235230  \n",
       "1   126.656567  37.462914  \n",
       "2   127.072747  37.237153  \n",
       "3   127.051848  37.742371  \n",
       "4   126.753705  37.505182  \n",
       "5   126.650282  37.532080  \n",
       "6   126.769454  37.676674  \n",
       "7   126.751115  37.429051  \n",
       "8   126.863111  37.293349  \n",
       "9   126.992872  37.788316  \n",
       "10  126.770269  37.685942  \n",
       "11  127.102378  37.743194  \n",
       "12  126.923630  37.395726  \n",
       "13  126.718958  37.687553  \n",
       "14  127.057287  37.288165  \n",
       "15  127.144090  37.439948  \n",
       "16  126.638095  37.450820  "
      ]
     },
     "execution_count": 155,
     "metadata": {},
     "output_type": "execute_result"
    }
   ],
   "source": [
    "df.head(17)"
   ]
  },
  {
   "cell_type": "code",
   "execution_count": 156,
   "id": "7a105155",
   "metadata": {},
   "outputs": [
    {
     "name": "stdout",
     "output_type": "stream",
     "text": [
      "<class 'pandas.core.frame.DataFrame'>\n",
      "RangeIndex: 22430 entries, 0 to 22429\n",
      "Data columns (total 6 columns):\n",
      " #   Column  Non-Null Count  Dtype  \n",
      "---  ------  --------------  -----  \n",
      " 0   약국명     22430 non-null  object \n",
      " 1   지역      22430 non-null  object \n",
      " 2   주소      22430 non-null  object \n",
      " 3   개설일자    22430 non-null  int64  \n",
      " 4   경도      22249 non-null  float64\n",
      " 5   위도      22249 non-null  float64\n",
      "dtypes: float64(2), int64(1), object(3)\n",
      "memory usage: 1.0+ MB\n"
     ]
    }
   ],
   "source": [
    "df.info()"
   ]
  },
  {
   "cell_type": "code",
   "execution_count": null,
   "id": "3660b90d",
   "metadata": {},
   "outputs": [],
   "source": []
  }
 ],
 "metadata": {
  "kernelspec": {
   "display_name": "Python 3 (ipykernel)",
   "language": "python",
   "name": "python3"
  },
  "language_info": {
   "codemirror_mode": {
    "name": "ipython",
    "version": 3
   },
   "file_extension": ".py",
   "mimetype": "text/x-python",
   "name": "python",
   "nbconvert_exporter": "python",
   "pygments_lexer": "ipython3",
   "version": "3.9.13"
  }
 },
 "nbformat": 4,
 "nbformat_minor": 5
}
