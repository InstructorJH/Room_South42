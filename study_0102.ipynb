{
 "cells": [
  {
   "cell_type": "code",
   "execution_count": 1,
   "id": "0ae06a73",
   "metadata": {},
   "outputs": [],
   "source": [
    "file = open('./data/Abc1115.csv','r')\n",
    "lines = file.readlines()\n",
    "file.close()"
   ]
  },
  {
   "cell_type": "code",
   "execution_count": 3,
   "id": "cccba403",
   "metadata": {},
   "outputs": [
    {
     "data": {
      "text/plain": [
       "1000"
      ]
     },
     "execution_count": 3,
     "metadata": {},
     "output_type": "execute_result"
    }
   ],
   "source": [
    "len(lines)"
   ]
  },
  {
   "cell_type": "code",
   "execution_count": 8,
   "id": "6a04c62c",
   "metadata": {},
   "outputs": [
    {
     "data": {
      "text/plain": [
       "['990001,addx, 17, 29, 16, 49, 43,154,C,A,C\\n',\n",
       " '990002,stch, 30,  9, 48, 25, 81,193,C,A,A\\n']"
      ]
     },
     "execution_count": 8,
     "metadata": {},
     "output_type": "execute_result"
    }
   ],
   "source": [
    "lines[0:2]"
   ]
  },
  {
   "cell_type": "code",
   "execution_count": 11,
   "id": "8afbe629",
   "metadata": {},
   "outputs": [],
   "source": [
    "students = []\n",
    "for line in lines:\n",
    "    temp = line[:-1].split(',')\n",
    "    for idx in range(8):\n",
    "        if idx!=1:\n",
    "            temp[idx] = int(temp[idx])\n",
    "    #print(temp)\n",
    "    students.append(temp)\n",
    "    pass"
   ]
  },
  {
   "cell_type": "code",
   "execution_count": 13,
   "id": "1a2b75aa",
   "metadata": {},
   "outputs": [
    {
     "data": {
      "text/plain": [
       "[[990996, 'seok', 43, 35, 77, 34, 39, 228, 'A', 'B', 'B'],\n",
       " [990997, 'smj2', 3, 59, 28, 53, 23, 166, 'A', 'C', 'B'],\n",
       " [990998, 'kcdp', 34, 46, 95, 37, 11, 223, 'B', 'A', 'A'],\n",
       " [990999, 'banj', 12, 36, 10, 62, 28, 148, 'C', 'A', 'C'],\n",
       " [991000, 'ccor', 64, 53, 22, 36, 54, 229, 'B', 'C', 'C']]"
      ]
     },
     "execution_count": 13,
     "metadata": {},
     "output_type": "execute_result"
    }
   ],
   "source": [
    "students[-5:]"
   ]
  },
  {
   "cell_type": "code",
   "execution_count": 14,
   "id": "8e4e1f30",
   "metadata": {},
   "outputs": [],
   "source": [
    "quiz1 = []\n",
    "for student in students:\n",
    "    score = student[3]+student[4]\n",
    "    if score>=120:\n",
    "        quiz1.append(student)\n",
    "        pass\n",
    "    pass"
   ]
  },
  {
   "cell_type": "code",
   "execution_count": 16,
   "id": "2d7965b2",
   "metadata": {},
   "outputs": [
    {
     "data": {
      "text/plain": [
       "316"
      ]
     },
     "execution_count": 16,
     "metadata": {},
     "output_type": "execute_result"
    }
   ],
   "source": [
    "len(quiz1)"
   ]
  },
  {
   "cell_type": "code",
   "execution_count": 19,
   "id": "3df49b79",
   "metadata": {},
   "outputs": [],
   "source": [
    "total = 0\n",
    "for student in quiz1:\n",
    "    point = 0\n",
    "    if student[-2]=='A':\n",
    "        point = 5\n",
    "    elif student[-2]=='B':\n",
    "        point = 15\n",
    "    else :\n",
    "        point = 20\n",
    "        pass\n",
    "    #합계로직\n",
    "    total = total + point\n",
    "    pass"
   ]
  },
  {
   "cell_type": "code",
   "execution_count": 23,
   "id": "9d09788e",
   "metadata": {},
   "outputs": [
    {
     "name": "stdout",
     "output_type": "stream",
     "text": [
      "4165\n"
     ]
    }
   ],
   "source": [
    "print(total)\n",
    "file = open('Ans3.txt','w')\n",
    "file.write(str(total))\n",
    "file.close()"
   ]
  },
  {
   "cell_type": "code",
   "execution_count": 24,
   "id": "5b93954f",
   "metadata": {},
   "outputs": [],
   "source": [
    "quiz2 = []\n",
    "for student in students:\n",
    "    if student[-2]=='A' or student[-2]=='B':\n",
    "        quiz2.append(student)\n",
    "        pass\n",
    "    pass"
   ]
  },
  {
   "cell_type": "code",
   "execution_count": 25,
   "id": "85a361d9",
   "metadata": {},
   "outputs": [
    {
     "data": {
      "text/plain": [
       "667"
      ]
     },
     "execution_count": 25,
     "metadata": {},
     "output_type": "execute_result"
    }
   ],
   "source": [
    "len(quiz2)"
   ]
  },
  {
   "cell_type": "code",
   "execution_count": 26,
   "id": "b3d5ab88",
   "metadata": {},
   "outputs": [],
   "source": [
    "count = 0\n",
    "for student in quiz2:\n",
    "    point = 0\n",
    "    if student[-1]=='A':\n",
    "        point = 5\n",
    "    elif student[-1]=='B':\n",
    "        point = 10\n",
    "    else :\n",
    "        point = 15\n",
    "        pass\n",
    "    score = student[2]+point\n",
    "    if score >= 50:\n",
    "        count = count + 1\n",
    "        pass\n",
    "    pass"
   ]
  },
  {
   "cell_type": "code",
   "execution_count": 30,
   "id": "35ee6fd8",
   "metadata": {},
   "outputs": [
    {
     "name": "stdout",
     "output_type": "stream",
     "text": [
      "397\n"
     ]
    }
   ],
   "source": [
    "file = open('./data/Ans4.txt','w')\n",
    "file.write('{}'.format(count))\n",
    "file.close()\n",
    "print(count)"
   ]
  },
  {
   "cell_type": "code",
   "execution_count": 29,
   "id": "8e188990",
   "metadata": {},
   "outputs": [
    {
     "data": {
      "text/plain": [
       "'C:\\\\Users\\\\BIT\\\\source'"
      ]
     },
     "execution_count": 29,
     "metadata": {},
     "output_type": "execute_result"
    }
   ],
   "source": [
    "%pwd"
   ]
  },
  {
   "cell_type": "code",
   "execution_count": 31,
   "id": "d9e8e0aa",
   "metadata": {},
   "outputs": [],
   "source": [
    "quiz2 = []\n",
    "for student in students:\n",
    "    if student[-2]=='B':\n",
    "        quiz2.append(student)\n",
    "        pass\n",
    "    pass"
   ]
  },
  {
   "cell_type": "code",
   "execution_count": 34,
   "id": "a01e25e0",
   "metadata": {},
   "outputs": [
    {
     "data": {
      "text/plain": [
       "[990005, 'oran', 33, 38, 59, 58, 28, 216, 'C', 'B', 'A']"
      ]
     },
     "execution_count": 34,
     "metadata": {},
     "output_type": "execute_result"
    }
   ],
   "source": [
    "len(quiz2)\n",
    "quiz2[0]"
   ]
  },
  {
   "cell_type": "code",
   "execution_count": 40,
   "id": "ce145913",
   "metadata": {},
   "outputs": [
    {
     "name": "stdout",
     "output_type": "stream",
     "text": [
      "71\n"
     ]
    }
   ],
   "source": [
    "quiz_max = quiz2[0][2]+quiz2[0][3]\n",
    "print(quiz_max)\n",
    "for student in quiz2[1:]:\n",
    "    temp = student[2]+student[3]\n",
    "    #print(temp)\n",
    "    if temp > quiz_max:\n",
    "        quiz_max = temp\n",
    "        pass\n",
    "        \n",
    "    pass"
   ]
  },
  {
   "cell_type": "code",
   "execution_count": 42,
   "id": "43903d69",
   "metadata": {},
   "outputs": [
    {
     "name": "stdout",
     "output_type": "stream",
     "text": [
      "198\n"
     ]
    }
   ],
   "source": [
    "print(quiz_max)"
   ]
  },
  {
   "cell_type": "code",
   "execution_count": 43,
   "id": "071b6043",
   "metadata": {},
   "outputs": [
    {
     "data": {
      "text/plain": [
       "198"
      ]
     },
     "execution_count": 43,
     "metadata": {},
     "output_type": "execute_result"
    }
   ],
   "source": [
    "quiz_max"
   ]
  },
  {
   "cell_type": "code",
   "execution_count": 44,
   "id": "6c821026",
   "metadata": {},
   "outputs": [],
   "source": [
    "import my_module"
   ]
  },
  {
   "cell_type": "code",
   "execution_count": 45,
   "id": "30bf8ea5",
   "metadata": {},
   "outputs": [
    {
     "name": "stdout",
     "output_type": "stream",
     "text": [
      "Hello World! python\n"
     ]
    }
   ],
   "source": [
    "print(my_module.welcome)"
   ]
  },
  {
   "cell_type": "code",
   "execution_count": 46,
   "id": "963c06a6",
   "metadata": {},
   "outputs": [
    {
     "name": "stdout",
     "output_type": "stream",
     "text": [
      "30\n"
     ]
    }
   ],
   "source": [
    "result = my_module.plus(10,20)\n",
    "print(result)"
   ]
  },
  {
   "cell_type": "code",
   "execution_count": 47,
   "id": "54c716fe",
   "metadata": {},
   "outputs": [],
   "source": [
    "import my_module as mm"
   ]
  },
  {
   "cell_type": "code",
   "execution_count": 51,
   "id": "46f63ec1",
   "metadata": {},
   "outputs": [
    {
     "name": "stdout",
     "output_type": "stream",
     "text": [
      "2023년 5월\n",
      "일\t월\t화\t수\t목\t금\t토\n",
      "\t1\t2\t3\t4\t5\t6\t\n",
      "7\t8\t9\t10\t11\t12\t13\t\n",
      "14\t15\t16\t17\t18\t19\t20\t\n",
      "21\t22\t23\t24\t25\t26\t27\t\n",
      "28\t29\t30\t31\t"
     ]
    }
   ],
   "source": [
    "mm.view_month(5)"
   ]
  },
  {
   "cell_type": "code",
   "execution_count": 49,
   "id": "704908bf",
   "metadata": {},
   "outputs": [],
   "source": [
    "from my_module import view_month"
   ]
  },
  {
   "cell_type": "code",
   "execution_count": 50,
   "id": "ce6f256b",
   "metadata": {},
   "outputs": [
    {
     "name": "stdout",
     "output_type": "stream",
     "text": [
      "2023년 5월\n",
      "일\t월\t화\t수\t목\t금\t토\n",
      "\t1\t2\t3\t4\t5\t6\t\n",
      "7\t8\t9\t10\t11\t12\t13\t\n",
      "14\t15\t16\t17\t18\t19\t20\t\n",
      "21\t22\t23\t24\t25\t26\t27\t\n",
      "28\t29\t30\t31\t"
     ]
    }
   ],
   "source": [
    "view_month(5)"
   ]
  },
  {
   "cell_type": "code",
   "execution_count": 52,
   "id": "5fe6602a",
   "metadata": {},
   "outputs": [],
   "source": [
    "import random"
   ]
  },
  {
   "cell_type": "code",
   "execution_count": 56,
   "id": "df7f75ba",
   "metadata": {},
   "outputs": [],
   "source": [
    "#0.0<=r<1.0\n",
    "rnd = random.random()"
   ]
  },
  {
   "cell_type": "code",
   "execution_count": 57,
   "id": "50909939",
   "metadata": {},
   "outputs": [
    {
     "name": "stdout",
     "output_type": "stream",
     "text": [
      "0.14375332086088344\n"
     ]
    }
   ],
   "source": [
    "print(rnd)"
   ]
  },
  {
   "cell_type": "code",
   "execution_count": 59,
   "id": "088de779",
   "metadata": {},
   "outputs": [
    {
     "name": "stdout",
     "output_type": "stream",
     "text": [
      "0.3983390946645158\n",
      "0.37564093602419\n",
      "0.4549144484319204\n",
      "0.9511209365821446\n",
      "0.9316643368726634\n",
      "0.16926297719076377\n",
      "0.6072571979684661\n",
      "0.4542808629476788\n",
      "0.1566301140185542\n",
      "0.36818241054465195\n"
     ]
    }
   ],
   "source": [
    "for _ in range(10):\n",
    "    print(random.random(), end='\\n')"
   ]
  },
  {
   "cell_type": "code",
   "execution_count": 61,
   "id": "33f83c17",
   "metadata": {},
   "outputs": [],
   "source": [
    "number = random.randint(1,10)"
   ]
  },
  {
   "cell_type": "code",
   "execution_count": 62,
   "id": "91bfcd5a",
   "metadata": {},
   "outputs": [
    {
     "data": {
      "text/plain": [
       "6"
      ]
     },
     "execution_count": 62,
     "metadata": {},
     "output_type": "execute_result"
    }
   ],
   "source": [
    "number"
   ]
  },
  {
   "cell_type": "code",
   "execution_count": 63,
   "id": "6ca52f33",
   "metadata": {},
   "outputs": [
    {
     "name": "stdout",
     "output_type": "stream",
     "text": [
      "4\n",
      "8\n",
      "6\n",
      "7\n",
      "3\n",
      "2\n",
      "2\n",
      "10\n",
      "3\n",
      "4\n"
     ]
    }
   ],
   "source": [
    "for _ in range(10):\n",
    "    print(random.randint(1,10))"
   ]
  },
  {
   "cell_type": "code",
   "execution_count": 65,
   "id": "ed4f5b05",
   "metadata": {},
   "outputs": [
    {
     "name": "stdout",
     "output_type": "stream",
     "text": [
      "1\n",
      "4\n",
      "1\n",
      "1\n",
      "4\n",
      "1\n",
      "3\n",
      "3\n",
      "2\n",
      "2\n"
     ]
    }
   ],
   "source": [
    "for _ in range(10):\n",
    "    print(random.randrange(1,5))"
   ]
  },
  {
   "cell_type": "code",
   "execution_count": 74,
   "id": "75aa97f3",
   "metadata": {},
   "outputs": [],
   "source": [
    "def play_game():\n",
    "    player1 = random.randrange(1,7)\n",
    "    player2 = random.randrange(1,7)\n",
    "    \n",
    "    print('player1 수 : {}'.format(player1))\n",
    "    print('player2 수 : {}'.format(player2))\n",
    "    \n",
    "    if player1>player2:\n",
    "        print('player1 승리')\n",
    "    elif player1<player2:\n",
    "        print('player2 승리')\n",
    "    else :\n",
    "        print(\"비김\")\n",
    "        pass\n",
    "    pass"
   ]
  },
  {
   "cell_type": "code",
   "execution_count": 75,
   "id": "30bc31e5",
   "metadata": {},
   "outputs": [
    {
     "name": "stdout",
     "output_type": "stream",
     "text": [
      "주사위 게임 1번째\n",
      "player1 수 : 3\n",
      "player2 수 : 6\n",
      "player2 승리\n",
      "continue? [YES:y, NO:n] >>> y\n",
      "주사위 게임 2번째\n",
      "player1 수 : 1\n",
      "player2 수 : 2\n",
      "player2 승리\n",
      "continue? [YES:y, NO:n] >>> y\n",
      "주사위 게임 3번째\n",
      "player1 수 : 3\n",
      "player2 수 : 5\n",
      "player2 승리\n",
      "continue? [YES:y, NO:n] >>> n\n",
      "게임을 종료합니다.\n"
     ]
    }
   ],
   "source": [
    "import random\n",
    "is_stop = False\n",
    "count = 0\n",
    "while not is_stop:\n",
    "\n",
    "    print('주사위 게임 {}번째'.format(count+1))\n",
    "    \n",
    "    play_game()\n",
    "    \n",
    "    command = input('continue? [YES:y, NO:n] >>> ')\n",
    "    if command!='y' :\n",
    "        is_stop = True\n",
    "        print('게임을 종료합니다.')\n",
    "        pass\n",
    "    else :\n",
    "        count = count + 1\n",
    "    pass\n"
   ]
  },
  {
   "cell_type": "code",
   "execution_count": 79,
   "id": "0681c409",
   "metadata": {},
   "outputs": [
    {
     "name": "stdout",
     "output_type": "stream",
     "text": [
      "1번째 게임을 시작합니다\n",
      "1번째 시도입니다.\n",
      "정답입니다.\n",
      "one more Game? [Yes:y , No: n] >>> n\n",
      "Game을 종료합니다.\n"
     ]
    }
   ],
   "source": [
    "is_stop = False\n",
    "count = 0\n",
    "while not is_stop:\n",
    "    print('{}번째 게임을 시작합니다'.format(count+1))\n",
    "    \n",
    "    #-------------- 게임로직 start------------------------\n",
    "    #시스템이 중복없는 4자리 수 만들기\n",
    "    #반복시작: \n",
    "        #사용자가 중복없는 4자리 수 입력하기 \n",
    "        #시스템이 사용자의 입력값 판별하기\n",
    "        #판별값으로 게임종료조건 확인하기\n",
    "        #게임진행의사 확인하기\n",
    "        #반복끝\n",
    "    #--------------게임로직 end--------------------------\n",
    "    #hidden_numbers = generate_numbers()\n",
    "    try_count = 0\n",
    "    is_answer = False\n",
    "    while not is_answer:\n",
    "        print('{}번째 시도입니다.'.format(try_count+1))\n",
    "        #사용자입력\n",
    "        #try_numbers = input('please, 4자리수를 입력하세요! >>> ')\n",
    "        #판별결과\n",
    "        (balls,strikes) = (0,4)#check_judge(hidden_numbers,try_numbers)\n",
    "        #게임종료조건 확인\n",
    "        if strikes==4:\n",
    "            is_answer = True\n",
    "            print(\"정답입니다.\")\n",
    "            continue\n",
    "            pass\n",
    "        else:\n",
    "            try_count += 1\n",
    "        #게임의사 확인\n",
    "        give_up = input('게임을 중단하겠습니까?[Yes:y, No:n] >>> ')\n",
    "        if give_up == 'y':\n",
    "            is_answer = True\n",
    "            print(\"게임을 중단했습니다.\")\n",
    "            pass\n",
    "        pass\n",
    "    \n",
    "    # 게임이 종료된 후 한게임 더 할것인지\n",
    "    command = input(\"one more Game? [Yes:y , No: n] >>> \")\n",
    "    if  command == 'n'   :\n",
    "        is_stop = True\n",
    "        print('Game을 종료합니다.')\n",
    "        pass\n",
    "    else :\n",
    "        count = count + 1\n",
    "    \n",
    "    pass"
   ]
  },
  {
   "cell_type": "code",
   "execution_count": null,
   "id": "5643cd9f",
   "metadata": {},
   "outputs": [],
   "source": []
  }
 ],
 "metadata": {
  "kernelspec": {
   "display_name": "Python 3 (ipykernel)",
   "language": "python",
   "name": "python3"
  },
  "language_info": {
   "codemirror_mode": {
    "name": "ipython",
    "version": 3
   },
   "file_extension": ".py",
   "mimetype": "text/x-python",
   "name": "python",
   "nbconvert_exporter": "python",
   "pygments_lexer": "ipython3",
   "version": "3.9.13"
  }
 },
 "nbformat": 4,
 "nbformat_minor": 5
}
