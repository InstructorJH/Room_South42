{
 "cells": [
  {
   "cell_type": "code",
   "execution_count": 1,
   "id": "b0890930",
   "metadata": {},
   "outputs": [],
   "source": [
    "file = open('./data/Abc1115.csv','r')\n",
    "lines = file.readlines()\n",
    "file.close()"
   ]
  },
  {
   "cell_type": "code",
   "execution_count": 3,
   "id": "850519a2",
   "metadata": {},
   "outputs": [
    {
     "data": {
      "text/plain": [
       "1000"
      ]
     },
     "execution_count": 3,
     "metadata": {},
     "output_type": "execute_result"
    }
   ],
   "source": [
    "len(lines)"
   ]
  },
  {
   "cell_type": "code",
   "execution_count": 8,
   "id": "d941cf6d",
   "metadata": {},
   "outputs": [
    {
     "data": {
      "text/plain": [
       "['990001,addx, 17, 29, 16, 49, 43,154,C,A,C\\n',\n",
       " '990002,stch, 30,  9, 48, 25, 81,193,C,A,A\\n']"
      ]
     },
     "execution_count": 8,
     "metadata": {},
     "output_type": "execute_result"
    }
   ],
   "source": [
    "lines[0:2]"
   ]
  },
  {
   "cell_type": "code",
   "execution_count": 11,
   "id": "b5ea4b60",
   "metadata": {},
   "outputs": [],
   "source": [
    "students = []\n",
    "for line in lines:\n",
    "    temp = line[:-1].split(',')\n",
    "    for idx in range(8):\n",
    "        if idx!=1:\n",
    "            temp[idx] = int(temp[idx])\n",
    "    #print(temp)\n",
    "    students.append(temp)\n",
    "    pass"
   ]
  },
  {
   "cell_type": "code",
   "execution_count": 13,
   "id": "7090d736",
   "metadata": {},
   "outputs": [
    {
     "data": {
      "text/plain": [
       "[[990996, 'seok', 43, 35, 77, 34, 39, 228, 'A', 'B', 'B'],\n",
       " [990997, 'smj2', 3, 59, 28, 53, 23, 166, 'A', 'C', 'B'],\n",
       " [990998, 'kcdp', 34, 46, 95, 37, 11, 223, 'B', 'A', 'A'],\n",
       " [990999, 'banj', 12, 36, 10, 62, 28, 148, 'C', 'A', 'C'],\n",
       " [991000, 'ccor', 64, 53, 22, 36, 54, 229, 'B', 'C', 'C']]"
      ]
     },
     "execution_count": 13,
     "metadata": {},
     "output_type": "execute_result"
    }
   ],
   "source": [
    "students[-5:]"
   ]
  },
  {
   "cell_type": "code",
   "execution_count": 14,
   "id": "d8c32711",
   "metadata": {},
   "outputs": [],
   "source": [
    "quiz1 = []\n",
    "for student in students:\n",
    "    score = student[3]+student[4]\n",
    "    if score>=120:\n",
    "        quiz1.append(student)\n",
    "        pass\n",
    "    pass"
   ]
  },
  {
   "cell_type": "code",
   "execution_count": 16,
   "id": "f075a2a9",
   "metadata": {},
   "outputs": [
    {
     "data": {
      "text/plain": [
       "316"
      ]
     },
     "execution_count": 16,
     "metadata": {},
     "output_type": "execute_result"
    }
   ],
   "source": [
    "len(quiz1)"
   ]
  },
  {
   "cell_type": "code",
   "execution_count": 19,
   "id": "9f0f31c9",
   "metadata": {},
   "outputs": [],
   "source": [
    "total = 0\n",
    "for student in quiz1:\n",
    "    point = 0\n",
    "    if student[-2]=='A':\n",
    "        point = 5\n",
    "    elif student[-2]=='B':\n",
    "        point = 15\n",
    "    else :\n",
    "        point = 20\n",
    "        pass\n",
    "    #합계로직\n",
    "    total = total + point\n",
    "    pass"
   ]
  },
  {
   "cell_type": "code",
   "execution_count": 23,
   "id": "fd5de282",
   "metadata": {},
   "outputs": [
    {
     "name": "stdout",
     "output_type": "stream",
     "text": [
      "4165\n"
     ]
    }
   ],
   "source": [
    "print(total)\n",
    "file = open('Ans3.txt','w')\n",
    "file.write(str(total))\n",
    "file.close()"
   ]
  },
  {
   "cell_type": "code",
   "execution_count": 24,
   "id": "8efc380e",
   "metadata": {},
   "outputs": [],
   "source": [
    "quiz2 = []\n",
    "for student in students:\n",
    "    if student[-2]=='A' or student[-2]=='B':\n",
    "        quiz2.append(student)\n",
    "        pass\n",
    "    pass"
   ]
  },
  {
   "cell_type": "code",
   "execution_count": 25,
   "id": "3c526ba3",
   "metadata": {},
   "outputs": [
    {
     "data": {
      "text/plain": [
       "667"
      ]
     },
     "execution_count": 25,
     "metadata": {},
     "output_type": "execute_result"
    }
   ],
   "source": [
    "len(quiz2)"
   ]
  },
  {
   "cell_type": "code",
   "execution_count": 26,
   "id": "bf2d7a6a",
   "metadata": {},
   "outputs": [],
   "source": [
    "count = 0\n",
    "for student in quiz2:\n",
    "    point = 0\n",
    "    if student[-1]=='A':\n",
    "        point = 5\n",
    "    elif student[-1]=='B':\n",
    "        point = 10\n",
    "    else :\n",
    "        point = 15\n",
    "        pass\n",
    "    score = student[2]+point\n",
    "    if score >= 50:\n",
    "        count = count + 1\n",
    "        pass\n",
    "    pass"
   ]
  },
  {
   "cell_type": "code",
   "execution_count": 30,
   "id": "9c14acd3",
   "metadata": {},
   "outputs": [
    {
     "name": "stdout",
     "output_type": "stream",
     "text": [
      "397\n"
     ]
    }
   ],
   "source": [
    "file = open('./data/Ans4.txt','w')\n",
    "file.write('{}'.format(count))\n",
    "file.close()\n",
    "print(count)"
   ]
  },
  {
   "cell_type": "code",
   "execution_count": 29,
   "id": "a39339a6",
   "metadata": {},
   "outputs": [
    {
     "data": {
      "text/plain": [
       "'C:\\\\Users\\\\BIT\\\\source'"
      ]
     },
     "execution_count": 29,
     "metadata": {},
     "output_type": "execute_result"
    }
   ],
   "source": [
    "%pwd"
   ]
  },
  {
   "cell_type": "code",
   "execution_count": 31,
   "id": "c0848712",
   "metadata": {},
   "outputs": [],
   "source": [
    "quiz2 = []\n",
    "for student in students:\n",
    "    if student[-2]=='B':\n",
    "        quiz2.append(student)\n",
    "        pass\n",
    "    pass"
   ]
  },
  {
   "cell_type": "code",
   "execution_count": 34,
   "id": "e85e71fe",
   "metadata": {},
   "outputs": [
    {
     "data": {
      "text/plain": [
       "[990005, 'oran', 33, 38, 59, 58, 28, 216, 'C', 'B', 'A']"
      ]
     },
     "execution_count": 34,
     "metadata": {},
     "output_type": "execute_result"
    }
   ],
   "source": [
    "len(quiz2)\n",
    "quiz2[0]"
   ]
  },
  {
   "cell_type": "code",
   "execution_count": 40,
   "id": "c61e3e5c",
   "metadata": {},
   "outputs": [
    {
     "name": "stdout",
     "output_type": "stream",
     "text": [
      "71\n"
     ]
    }
   ],
   "source": [
    "quiz_max = quiz2[0][2]+quiz2[0][3]\n",
    "print(quiz_max)\n",
    "for student in quiz2[1:]:\n",
    "    temp = student[2]+student[3]\n",
    "    #print(temp)\n",
    "    if temp > quiz_max:\n",
    "        quiz_max = temp\n",
    "        pass\n",
    "        \n",
    "    pass"
   ]
  },
  {
   "cell_type": "code",
   "execution_count": 42,
   "id": "a694cab9",
   "metadata": {},
   "outputs": [
    {
     "name": "stdout",
     "output_type": "stream",
     "text": [
      "198\n"
     ]
    }
   ],
   "source": [
    "print(quiz_max)"
   ]
  },
  {
   "cell_type": "code",
   "execution_count": 43,
   "id": "2fbd8f96",
   "metadata": {},
   "outputs": [
    {
     "data": {
      "text/plain": [
       "198"
      ]
     },
     "execution_count": 43,
     "metadata": {},
     "output_type": "execute_result"
    }
   ],
   "source": [
    "quiz_max"
   ]
  },
  {
   "cell_type": "code",
   "execution_count": 44,
   "id": "4ebf4d35",
   "metadata": {},
   "outputs": [],
   "source": [
    "import my_module"
   ]
  },
  {
   "cell_type": "code",
   "execution_count": 45,
   "id": "28abe3fd",
   "metadata": {},
   "outputs": [
    {
     "name": "stdout",
     "output_type": "stream",
     "text": [
      "Hello World! python\n"
     ]
    }
   ],
   "source": [
    "print(my_module.welcome)"
   ]
  },
  {
   "cell_type": "code",
   "execution_count": 46,
   "id": "fd9aec05",
   "metadata": {},
   "outputs": [
    {
     "name": "stdout",
     "output_type": "stream",
     "text": [
      "30\n"
     ]
    }
   ],
   "source": [
    "result = my_module.plus(10,20)\n",
    "print(result)"
   ]
  },
  {
   "cell_type": "code",
   "execution_count": 47,
   "id": "4ffec47f",
   "metadata": {},
   "outputs": [],
   "source": [
    "import my_module as mm"
   ]
  },
  {
   "cell_type": "code",
   "execution_count": 51,
   "id": "a0365efe",
   "metadata": {},
   "outputs": [
    {
     "name": "stdout",
     "output_type": "stream",
     "text": [
      "2023년 5월\n",
      "일\t월\t화\t수\t목\t금\t토\n",
      "\t1\t2\t3\t4\t5\t6\t\n",
      "7\t8\t9\t10\t11\t12\t13\t\n",
      "14\t15\t16\t17\t18\t19\t20\t\n",
      "21\t22\t23\t24\t25\t26\t27\t\n",
      "28\t29\t30\t31\t"
     ]
    }
   ],
   "source": [
    "mm.view_month(5)"
   ]
  },
  {
   "cell_type": "code",
   "execution_count": 49,
   "id": "76ea3fdb",
   "metadata": {},
   "outputs": [],
   "source": [
    "from my_module import view_month"
   ]
  },
  {
   "cell_type": "code",
   "execution_count": 50,
   "id": "8e3539e7",
   "metadata": {},
   "outputs": [
    {
     "name": "stdout",
     "output_type": "stream",
     "text": [
      "2023년 5월\n",
      "일\t월\t화\t수\t목\t금\t토\n",
      "\t1\t2\t3\t4\t5\t6\t\n",
      "7\t8\t9\t10\t11\t12\t13\t\n",
      "14\t15\t16\t17\t18\t19\t20\t\n",
      "21\t22\t23\t24\t25\t26\t27\t\n",
      "28\t29\t30\t31\t"
     ]
    }
   ],
   "source": [
    "view_month(5)"
   ]
  },
  {
   "cell_type": "code",
   "execution_count": 52,
   "id": "2385d88f",
   "metadata": {},
   "outputs": [],
   "source": [
    "import random"
   ]
  },
  {
   "cell_type": "code",
   "execution_count": 56,
   "id": "fba99ada",
   "metadata": {},
   "outputs": [],
   "source": [
    "#0.0<=r<1.0\n",
    "rnd = random.random()"
   ]
  },
  {
   "cell_type": "code",
   "execution_count": 57,
   "id": "ca43407d",
   "metadata": {},
   "outputs": [
    {
     "name": "stdout",
     "output_type": "stream",
     "text": [
      "0.14375332086088344\n"
     ]
    }
   ],
   "source": [
    "print(rnd)"
   ]
  },
  {
   "cell_type": "code",
   "execution_count": 59,
   "id": "806abeda",
   "metadata": {},
   "outputs": [
    {
     "name": "stdout",
     "output_type": "stream",
     "text": [
      "0.3983390946645158\n",
      "0.37564093602419\n",
      "0.4549144484319204\n",
      "0.9511209365821446\n",
      "0.9316643368726634\n",
      "0.16926297719076377\n",
      "0.6072571979684661\n",
      "0.4542808629476788\n",
      "0.1566301140185542\n",
      "0.36818241054465195\n"
     ]
    }
   ],
   "source": [
    "for _ in range(10):\n",
    "    print(random.random(), end='\\n')"
   ]
  },
  {
   "cell_type": "code",
   "execution_count": 61,
   "id": "6572379e",
   "metadata": {},
   "outputs": [],
   "source": [
    "number = random.randint(1,10)"
   ]
  },
  {
   "cell_type": "code",
   "execution_count": 62,
   "id": "42f8a847",
   "metadata": {},
   "outputs": [
    {
     "data": {
      "text/plain": [
       "6"
      ]
     },
     "execution_count": 62,
     "metadata": {},
     "output_type": "execute_result"
    }
   ],
   "source": [
    "number"
   ]
  },
  {
   "cell_type": "code",
   "execution_count": 63,
   "id": "e70d3b13",
   "metadata": {},
   "outputs": [
    {
     "name": "stdout",
     "output_type": "stream",
     "text": [
      "4\n",
      "8\n",
      "6\n",
      "7\n",
      "3\n",
      "2\n",
      "2\n",
      "10\n",
      "3\n",
      "4\n"
     ]
    }
   ],
   "source": [
    "for _ in range(10):\n",
    "    print(random.randint(1,10))"
   ]
  },
  {
   "cell_type": "code",
   "execution_count": 65,
   "id": "3709cf3f",
   "metadata": {},
   "outputs": [
    {
     "name": "stdout",
     "output_type": "stream",
     "text": [
      "1\n",
      "4\n",
      "1\n",
      "1\n",
      "4\n",
      "1\n",
      "3\n",
      "3\n",
      "2\n",
      "2\n"
     ]
    }
   ],
   "source": [
    "for _ in range(10):\n",
    "    print(random.randrange(1,5))"
   ]
  },
  {
   "cell_type": "code",
   "execution_count": 74,
   "id": "aa86108c",
   "metadata": {},
   "outputs": [],
   "source": [
    "def play_game():\n",
    "    player1 = random.randrange(1,7)\n",
    "    player2 = random.randrange(1,7)\n",
    "    \n",
    "    print('player1 수 : {}'.format(player1))\n",
    "    print('player2 수 : {}'.format(player2))\n",
    "    \n",
    "    if player1>player2:\n",
    "        print('player1 승리')\n",
    "    elif player1<player2:\n",
    "        print('player2 승리')\n",
    "    else :\n",
    "        print(\"비김\")\n",
    "        pass\n",
    "    pass"
   ]
  },
  {
   "cell_type": "code",
   "execution_count": 75,
   "id": "9a661ba7",
   "metadata": {},
   "outputs": [
    {
     "name": "stdout",
     "output_type": "stream",
     "text": [
      "주사위 게임 1번째\n",
      "player1 수 : 3\n",
      "player2 수 : 6\n",
      "player2 승리\n",
      "continue? [YES:y, NO:n] >>> y\n",
      "주사위 게임 2번째\n",
      "player1 수 : 1\n",
      "player2 수 : 2\n",
      "player2 승리\n",
      "continue? [YES:y, NO:n] >>> y\n",
      "주사위 게임 3번째\n",
      "player1 수 : 3\n",
      "player2 수 : 5\n",
      "player2 승리\n",
      "continue? [YES:y, NO:n] >>> n\n",
      "게임을 종료합니다.\n"
     ]
    }
   ],
   "source": [
    "import random\n",
    "is_stop = False\n",
    "count = 0\n",
    "while not is_stop:\n",
    "\n",
    "    print('주사위 게임 {}번째'.format(count+1))\n",
    "    \n",
    "    play_game()\n",
    "    \n",
    "    command = input('continue? [YES:y, NO:n] >>> ')\n",
    "    if command!='y' :\n",
    "        is_stop = True\n",
    "        print('게임을 종료합니다.')\n",
    "        pass\n",
    "    else :\n",
    "        count = count + 1\n",
    "    pass\n"
   ]
  },
  {
   "cell_type": "code",
   "execution_count": 79,
   "id": "a6031058",
   "metadata": {},
   "outputs": [
    {
     "name": "stdout",
     "output_type": "stream",
     "text": [
      "1번째 게임을 시작합니다\n",
      "1번째 시도입니다.\n",
      "정답입니다.\n",
      "one more Game? [Yes:y , No: n] >>> n\n",
      "Game을 종료합니다.\n"
     ]
    }
   ],
   "source": [
    "is_stop = False\n",
    "count = 0\n",
    "while not is_stop:\n",
    "    print('{}번째 게임을 시작합니다'.format(count+1))\n",
    "    \n",
    "    #-------------- 게임로직 start------------------------\n",
    "    #시스템이 중복없는 4자리 수 만들기\n",
    "    #반복시작: \n",
    "        #사용자가 중복없는 4자리 수 입력하기 \n",
    "        #시스템이 사용자의 입력값 판별하기\n",
    "        #판별값으로 게임종료조건 확인하기\n",
    "        #게임진행의사 확인하기\n",
    "        #반복끝\n",
    "    #--------------게임로직 end--------------------------\n",
    "    hidden_numbers = generate_numbers()\n",
    "    try_count = 0\n",
    "    is_answer = False\n",
    "    while not is_answer:\n",
    "        print('{}번째 시도입니다.'.format(try_count+1))\n",
    "        #사용자입력\n",
    "        is_correct = False;\n",
    "        while not is_correct:\n",
    "            try_numbers = input('please, 4자리수를 입력하세요! >>> ')\n",
    "            flag = is_samenumber(try_numbers)\n",
    "            if not flag:\n",
    "                is_correct = True\n",
    "                pass\n",
    "            pass\n",
    "        #판별결과\n",
    "        (balls,strikes) = check_judge(hidden_numbers,try_numbers)\n",
    "        #게임종료조건 확인\n",
    "        if strikes==4:\n",
    "            is_answer = True\n",
    "            print(\"정답입니다.\")\n",
    "            continue\n",
    "            pass\n",
    "        else:\n",
    "            try_count += 1\n",
    "        #게임의사 확인\n",
    "        give_up = input('게임을 중단하겠습니까?[Yes:y, No:n] >>> ')\n",
    "        if give_up == 'y':\n",
    "            is_answer = True\n",
    "            print(\"게임을 중단했습니다.\")\n",
    "            pass\n",
    "        pass\n",
    "    \n",
    "    # 게임이 종료된 후 한게임 더 할것인지\n",
    "    command = input(\"one more Game? [Yes:y , No: n] >>> \")\n",
    "    if  command == 'n'   :\n",
    "        is_stop = True\n",
    "        print('Game을 종료합니다.')\n",
    "        pass\n",
    "    else :\n",
    "        count = count + 1\n",
    "    \n",
    "    pass"
   ]
  },
  {
   "cell_type": "code",
   "execution_count": null,
   "id": "7427175a",
   "metadata": {},
   "outputs": [],
   "source": [
    "https://github.com/InstructorJH/Room_South42"
   ]
  },
  {
   "cell_type": "code",
   "execution_count": 80,
   "id": "4a0a54ba",
   "metadata": {},
   "outputs": [],
   "source": [
    "#1000~9999사이의 숫자중 중복없는 4자리 숫자 만들기\n",
    "import random\n",
    "def generate_numbers():\n",
    "    hidden_numbers = 0\n",
    "    is_stop = Fasle\n",
    "    while not is_stop:\n",
    "        hidden_numbers = random.randrange(1000,10000)\n",
    "        flag = is_samenumber(str(hidden_numbers))\n",
    "        if not flag:\n",
    "            is_stop = True\n",
    "            pass\n",
    "        pass\n",
    "    \n",
    "    return hidden_numbers"
   ]
  },
  {
   "cell_type": "code",
   "execution_count": 87,
   "id": "7b2d7424",
   "metadata": {},
   "outputs": [],
   "source": [
    "def is_samenumber(number): #number는 문자열이 들어옴\n",
    "    flag = False\n",
    "    for i in range(4):\n",
    "        temp = number.count(number[i])\n",
    "        if temp==2:\n",
    "            flag = True\n",
    "            print(temp,flag,number[i])\n",
    "            break\n",
    "            pass\n",
    "        pass\n",
    "    \n",
    "    return flag\n",
    "    "
   ]
  },
  {
   "cell_type": "code",
   "execution_count": 89,
   "id": "07008026",
   "metadata": {},
   "outputs": [
    {
     "data": {
      "text/plain": [
       "False"
      ]
     },
     "execution_count": 89,
     "metadata": {},
     "output_type": "execute_result"
    }
   ],
   "source": [
    "num = '1234'\n",
    "is_samenumber(num)"
   ]
  },
  {
   "cell_type": "code",
   "execution_count": 91,
   "id": "53df9a84",
   "metadata": {},
   "outputs": [
    {
     "data": {
      "text/plain": [
       "(2, 1)"
      ]
     },
     "execution_count": 91,
     "metadata": {},
     "output_type": "execute_result"
    }
   ],
   "source": []
  },
  {
   "cell_type": "code",
   "execution_count": 90,
   "id": "0b0df4cd",
   "metadata": {},
   "outputs": [],
   "source": [
    "def check_judge(hidden_numbers,try_numbers): #매개변수는 문자열\n",
    "    balls = 0\n",
    "    strikes = 0\n",
    "    for i in range(4):\n",
    "        for j in range(4):\n",
    "            if hidden_numbers[i] == try_numbers[j]:\n",
    "                if i==j:\n",
    "                    strikes += 1\n",
    "                else :\n",
    "                    balls += 1\n",
    "                    pass\n",
    "                pass\n",
    "            pass\n",
    "        pass       \n",
    "    return (balls,strikes)"
   ]
  },
  {
   "cell_type": "code",
   "execution_count": 92,
   "id": "6dd90495",
   "metadata": {},
   "outputs": [
    {
     "data": {
      "text/plain": [
       "(2, 1)"
      ]
     },
     "execution_count": 92,
     "metadata": {},
     "output_type": "execute_result"
    }
   ],
   "source": [
    "check_judge('1234','2831')"
   ]
  },
  {
   "cell_type": "code",
   "execution_count": null,
   "id": "525e0877",
   "metadata": {},
   "outputs": [],
   "source": []
  }
 ],
 "metadata": {
  "kernelspec": {
   "display_name": "Python 3 (ipykernel)",
   "language": "python",
   "name": "python3"
  },
  "language_info": {
   "codemirror_mode": {
    "name": "ipython",
    "version": 3
   },
   "file_extension": ".py",
   "mimetype": "text/x-python",
   "name": "python",
   "nbconvert_exporter": "python",
   "pygments_lexer": "ipython3",
   "version": "3.9.13"
  }
 },
 "nbformat": 4,
 "nbformat_minor": 5
}
