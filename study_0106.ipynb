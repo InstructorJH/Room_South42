{
 "cells": [
  {
   "cell_type": "code",
   "execution_count": 4,
   "id": "90349270",
   "metadata": {},
   "outputs": [],
   "source": [
    "import pandas as pd\n",
    "#정보처리기사 1번 문제 판다스를 이용하여 해결하시오\n",
    "gisa_df = pd.read_csv('./data/Abc1115.csv',header=None)"
   ]
  },
  {
   "cell_type": "code",
   "execution_count": 5,
   "id": "3866965e",
   "metadata": {},
   "outputs": [
    {
     "data": {
      "text/html": [
       "<div>\n",
       "<style scoped>\n",
       "    .dataframe tbody tr th:only-of-type {\n",
       "        vertical-align: middle;\n",
       "    }\n",
       "\n",
       "    .dataframe tbody tr th {\n",
       "        vertical-align: top;\n",
       "    }\n",
       "\n",
       "    .dataframe thead th {\n",
       "        text-align: right;\n",
       "    }\n",
       "</style>\n",
       "<table border=\"1\" class=\"dataframe\">\n",
       "  <thead>\n",
       "    <tr style=\"text-align: right;\">\n",
       "      <th></th>\n",
       "      <th>0</th>\n",
       "      <th>1</th>\n",
       "      <th>2</th>\n",
       "      <th>3</th>\n",
       "      <th>4</th>\n",
       "      <th>5</th>\n",
       "      <th>6</th>\n",
       "      <th>7</th>\n",
       "      <th>8</th>\n",
       "      <th>9</th>\n",
       "      <th>10</th>\n",
       "    </tr>\n",
       "  </thead>\n",
       "  <tbody>\n",
       "    <tr>\n",
       "      <th>0</th>\n",
       "      <td>990001</td>\n",
       "      <td>addx</td>\n",
       "      <td>17</td>\n",
       "      <td>29</td>\n",
       "      <td>16</td>\n",
       "      <td>49</td>\n",
       "      <td>43</td>\n",
       "      <td>154</td>\n",
       "      <td>C</td>\n",
       "      <td>A</td>\n",
       "      <td>C</td>\n",
       "    </tr>\n",
       "    <tr>\n",
       "      <th>1</th>\n",
       "      <td>990002</td>\n",
       "      <td>stch</td>\n",
       "      <td>30</td>\n",
       "      <td>9</td>\n",
       "      <td>48</td>\n",
       "      <td>25</td>\n",
       "      <td>81</td>\n",
       "      <td>193</td>\n",
       "      <td>C</td>\n",
       "      <td>A</td>\n",
       "      <td>A</td>\n",
       "    </tr>\n",
       "    <tr>\n",
       "      <th>2</th>\n",
       "      <td>990003</td>\n",
       "      <td>gali</td>\n",
       "      <td>93</td>\n",
       "      <td>60</td>\n",
       "      <td>6</td>\n",
       "      <td>84</td>\n",
       "      <td>36</td>\n",
       "      <td>279</td>\n",
       "      <td>A</td>\n",
       "      <td>C</td>\n",
       "      <td>A</td>\n",
       "    </tr>\n",
       "    <tr>\n",
       "      <th>3</th>\n",
       "      <td>990004</td>\n",
       "      <td>miat</td>\n",
       "      <td>73</td>\n",
       "      <td>22</td>\n",
       "      <td>48</td>\n",
       "      <td>24</td>\n",
       "      <td>72</td>\n",
       "      <td>239</td>\n",
       "      <td>B</td>\n",
       "      <td>C</td>\n",
       "      <td>C</td>\n",
       "    </tr>\n",
       "    <tr>\n",
       "      <th>4</th>\n",
       "      <td>990005</td>\n",
       "      <td>oran</td>\n",
       "      <td>33</td>\n",
       "      <td>38</td>\n",
       "      <td>59</td>\n",
       "      <td>58</td>\n",
       "      <td>28</td>\n",
       "      <td>216</td>\n",
       "      <td>C</td>\n",
       "      <td>B</td>\n",
       "      <td>A</td>\n",
       "    </tr>\n",
       "  </tbody>\n",
       "</table>\n",
       "</div>"
      ],
      "text/plain": [
       "       0     1   2   3   4   5   6    7  8  9  10\n",
       "0  990001  addx  17  29  16  49  43  154  C  A  C\n",
       "1  990002  stch  30   9  48  25  81  193  C  A  A\n",
       "2  990003  gali  93  60   6  84  36  279  A  C  A\n",
       "3  990004  miat  73  22  48  24  72  239  B  C  C\n",
       "4  990005  oran  33  38  59  58  28  216  C  B  A"
      ]
     },
     "execution_count": 5,
     "metadata": {},
     "output_type": "execute_result"
    }
   ],
   "source": [
    "gisa_df.head()"
   ]
  },
  {
   "cell_type": "code",
   "execution_count": 6,
   "id": "1ce5a20c",
   "metadata": {},
   "outputs": [
    {
     "data": {
      "text/plain": [
       "(1000, 11)"
      ]
     },
     "execution_count": 6,
     "metadata": {},
     "output_type": "execute_result"
    }
   ],
   "source": [
    "gisa_df.shape"
   ]
  },
  {
   "cell_type": "code",
   "execution_count": 7,
   "id": "124d53ff",
   "metadata": {},
   "outputs": [
    {
     "data": {
      "text/plain": [
       "Int64Index([0, 1, 2, 3, 4, 5, 6, 7, 8, 9, 10], dtype='int64')"
      ]
     },
     "execution_count": 7,
     "metadata": {},
     "output_type": "execute_result"
    }
   ],
   "source": [
    "gisa_df.columns"
   ]
  },
  {
   "cell_type": "code",
   "execution_count": 8,
   "id": "2a81f79e",
   "metadata": {},
   "outputs": [],
   "source": [
    "gisa_df.columns = ['std','email','kor','eng','math','sci','hist','total','mgr_code','acc_code','loc_code']"
   ]
  },
  {
   "cell_type": "code",
   "execution_count": 9,
   "id": "27b63155",
   "metadata": {},
   "outputs": [
    {
     "data": {
      "text/plain": [
       "Index(['std', 'email', 'kor', 'eng', 'math', 'sci', 'hist', 'total',\n",
       "       'mgr_code', 'acc_code', 'loc_code'],\n",
       "      dtype='object')"
      ]
     },
     "execution_count": 9,
     "metadata": {},
     "output_type": "execute_result"
    }
   ],
   "source": [
    "gisa_df.columns"
   ]
  },
  {
   "cell_type": "code",
   "execution_count": 10,
   "id": "96d0b2e4",
   "metadata": {},
   "outputs": [
    {
     "name": "stdout",
     "output_type": "stream",
     "text": [
      "<class 'pandas.core.frame.DataFrame'>\n",
      "RangeIndex: 1000 entries, 0 to 999\n",
      "Data columns (total 11 columns):\n",
      " #   Column    Non-Null Count  Dtype \n",
      "---  ------    --------------  ----- \n",
      " 0   std       1000 non-null   int64 \n",
      " 1   email     1000 non-null   object\n",
      " 2   kor       1000 non-null   int64 \n",
      " 3   eng       1000 non-null   int64 \n",
      " 4   math      1000 non-null   int64 \n",
      " 5   sci       1000 non-null   int64 \n",
      " 6   hist      1000 non-null   int64 \n",
      " 7   total     1000 non-null   int64 \n",
      " 8   mgr_code  1000 non-null   object\n",
      " 9   acc_code  1000 non-null   object\n",
      " 10  loc_code  1000 non-null   object\n",
      "dtypes: int64(7), object(4)\n",
      "memory usage: 86.1+ KB\n"
     ]
    }
   ],
   "source": [
    "gisa_df.info()"
   ]
  },
  {
   "cell_type": "code",
   "execution_count": 11,
   "id": "0069a3cc",
   "metadata": {},
   "outputs": [
    {
     "data": {
      "text/html": [
       "<div>\n",
       "<style scoped>\n",
       "    .dataframe tbody tr th:only-of-type {\n",
       "        vertical-align: middle;\n",
       "    }\n",
       "\n",
       "    .dataframe tbody tr th {\n",
       "        vertical-align: top;\n",
       "    }\n",
       "\n",
       "    .dataframe thead th {\n",
       "        text-align: right;\n",
       "    }\n",
       "</style>\n",
       "<table border=\"1\" class=\"dataframe\">\n",
       "  <thead>\n",
       "    <tr style=\"text-align: right;\">\n",
       "      <th></th>\n",
       "      <th>std</th>\n",
       "      <th>kor</th>\n",
       "      <th>eng</th>\n",
       "      <th>math</th>\n",
       "      <th>sci</th>\n",
       "      <th>hist</th>\n",
       "      <th>total</th>\n",
       "    </tr>\n",
       "  </thead>\n",
       "  <tbody>\n",
       "    <tr>\n",
       "      <th>count</th>\n",
       "      <td>1000.000000</td>\n",
       "      <td>1000.000000</td>\n",
       "      <td>1000.000000</td>\n",
       "      <td>1000.000000</td>\n",
       "      <td>1000.000000</td>\n",
       "      <td>1000.000000</td>\n",
       "      <td>1000.000000</td>\n",
       "    </tr>\n",
       "    <tr>\n",
       "      <th>mean</th>\n",
       "      <td>990500.500000</td>\n",
       "      <td>50.026000</td>\n",
       "      <td>49.543000</td>\n",
       "      <td>50.920000</td>\n",
       "      <td>51.275000</td>\n",
       "      <td>50.915000</td>\n",
       "      <td>252.679000</td>\n",
       "    </tr>\n",
       "    <tr>\n",
       "      <th>std</th>\n",
       "      <td>288.819436</td>\n",
       "      <td>28.498904</td>\n",
       "      <td>29.046684</td>\n",
       "      <td>29.288178</td>\n",
       "      <td>28.770664</td>\n",
       "      <td>28.434456</td>\n",
       "      <td>65.199179</td>\n",
       "    </tr>\n",
       "    <tr>\n",
       "      <th>min</th>\n",
       "      <td>990001.000000</td>\n",
       "      <td>1.000000</td>\n",
       "      <td>1.000000</td>\n",
       "      <td>1.000000</td>\n",
       "      <td>1.000000</td>\n",
       "      <td>1.000000</td>\n",
       "      <td>67.000000</td>\n",
       "    </tr>\n",
       "    <tr>\n",
       "      <th>25%</th>\n",
       "      <td>990250.750000</td>\n",
       "      <td>26.000000</td>\n",
       "      <td>25.000000</td>\n",
       "      <td>25.000000</td>\n",
       "      <td>26.000000</td>\n",
       "      <td>25.000000</td>\n",
       "      <td>207.000000</td>\n",
       "    </tr>\n",
       "    <tr>\n",
       "      <th>50%</th>\n",
       "      <td>990500.500000</td>\n",
       "      <td>48.000000</td>\n",
       "      <td>49.000000</td>\n",
       "      <td>50.000000</td>\n",
       "      <td>52.000000</td>\n",
       "      <td>52.000000</td>\n",
       "      <td>251.000000</td>\n",
       "    </tr>\n",
       "    <tr>\n",
       "      <th>75%</th>\n",
       "      <td>990750.250000</td>\n",
       "      <td>75.000000</td>\n",
       "      <td>74.000000</td>\n",
       "      <td>76.000000</td>\n",
       "      <td>76.000000</td>\n",
       "      <td>75.000000</td>\n",
       "      <td>298.000000</td>\n",
       "    </tr>\n",
       "    <tr>\n",
       "      <th>max</th>\n",
       "      <td>991000.000000</td>\n",
       "      <td>100.000000</td>\n",
       "      <td>100.000000</td>\n",
       "      <td>100.000000</td>\n",
       "      <td>100.000000</td>\n",
       "      <td>100.000000</td>\n",
       "      <td>434.000000</td>\n",
       "    </tr>\n",
       "  </tbody>\n",
       "</table>\n",
       "</div>"
      ],
      "text/plain": [
       "                 std          kor          eng         math          sci  \\\n",
       "count    1000.000000  1000.000000  1000.000000  1000.000000  1000.000000   \n",
       "mean   990500.500000    50.026000    49.543000    50.920000    51.275000   \n",
       "std       288.819436    28.498904    29.046684    29.288178    28.770664   \n",
       "min    990001.000000     1.000000     1.000000     1.000000     1.000000   \n",
       "25%    990250.750000    26.000000    25.000000    25.000000    26.000000   \n",
       "50%    990500.500000    48.000000    49.000000    50.000000    52.000000   \n",
       "75%    990750.250000    75.000000    74.000000    76.000000    76.000000   \n",
       "max    991000.000000   100.000000   100.000000   100.000000   100.000000   \n",
       "\n",
       "              hist        total  \n",
       "count  1000.000000  1000.000000  \n",
       "mean     50.915000   252.679000  \n",
       "std      28.434456    65.199179  \n",
       "min       1.000000    67.000000  \n",
       "25%      25.000000   207.000000  \n",
       "50%      52.000000   251.000000  \n",
       "75%      75.000000   298.000000  \n",
       "max     100.000000   434.000000  "
      ]
     },
     "execution_count": 11,
     "metadata": {},
     "output_type": "execute_result"
    }
   ],
   "source": [
    "gisa_df.describe()"
   ]
  },
  {
   "cell_type": "code",
   "execution_count": 12,
   "id": "f38377c2",
   "metadata": {},
   "outputs": [
    {
     "data": {
      "text/html": [
       "<div>\n",
       "<style scoped>\n",
       "    .dataframe tbody tr th:only-of-type {\n",
       "        vertical-align: middle;\n",
       "    }\n",
       "\n",
       "    .dataframe tbody tr th {\n",
       "        vertical-align: top;\n",
       "    }\n",
       "\n",
       "    .dataframe thead th {\n",
       "        text-align: right;\n",
       "    }\n",
       "</style>\n",
       "<table border=\"1\" class=\"dataframe\">\n",
       "  <thead>\n",
       "    <tr style=\"text-align: right;\">\n",
       "      <th></th>\n",
       "      <th>std</th>\n",
       "      <th>email</th>\n",
       "      <th>kor</th>\n",
       "      <th>eng</th>\n",
       "      <th>math</th>\n",
       "      <th>sci</th>\n",
       "      <th>hist</th>\n",
       "      <th>total</th>\n",
       "      <th>mgr_code</th>\n",
       "      <th>acc_code</th>\n",
       "      <th>loc_code</th>\n",
       "    </tr>\n",
       "  </thead>\n",
       "  <tbody>\n",
       "    <tr>\n",
       "      <th>0</th>\n",
       "      <td>990001</td>\n",
       "      <td>addx</td>\n",
       "      <td>17</td>\n",
       "      <td>29</td>\n",
       "      <td>16</td>\n",
       "      <td>49</td>\n",
       "      <td>43</td>\n",
       "      <td>154</td>\n",
       "      <td>C</td>\n",
       "      <td>A</td>\n",
       "      <td>C</td>\n",
       "    </tr>\n",
       "    <tr>\n",
       "      <th>1</th>\n",
       "      <td>990002</td>\n",
       "      <td>stch</td>\n",
       "      <td>30</td>\n",
       "      <td>9</td>\n",
       "      <td>48</td>\n",
       "      <td>25</td>\n",
       "      <td>81</td>\n",
       "      <td>193</td>\n",
       "      <td>C</td>\n",
       "      <td>A</td>\n",
       "      <td>A</td>\n",
       "    </tr>\n",
       "    <tr>\n",
       "      <th>2</th>\n",
       "      <td>990003</td>\n",
       "      <td>gali</td>\n",
       "      <td>93</td>\n",
       "      <td>60</td>\n",
       "      <td>6</td>\n",
       "      <td>84</td>\n",
       "      <td>36</td>\n",
       "      <td>279</td>\n",
       "      <td>A</td>\n",
       "      <td>C</td>\n",
       "      <td>A</td>\n",
       "    </tr>\n",
       "    <tr>\n",
       "      <th>3</th>\n",
       "      <td>990004</td>\n",
       "      <td>miat</td>\n",
       "      <td>73</td>\n",
       "      <td>22</td>\n",
       "      <td>48</td>\n",
       "      <td>24</td>\n",
       "      <td>72</td>\n",
       "      <td>239</td>\n",
       "      <td>B</td>\n",
       "      <td>C</td>\n",
       "      <td>C</td>\n",
       "    </tr>\n",
       "    <tr>\n",
       "      <th>4</th>\n",
       "      <td>990005</td>\n",
       "      <td>oran</td>\n",
       "      <td>33</td>\n",
       "      <td>38</td>\n",
       "      <td>59</td>\n",
       "      <td>58</td>\n",
       "      <td>28</td>\n",
       "      <td>216</td>\n",
       "      <td>C</td>\n",
       "      <td>B</td>\n",
       "      <td>A</td>\n",
       "    </tr>\n",
       "  </tbody>\n",
       "</table>\n",
       "</div>"
      ],
      "text/plain": [
       "      std email  kor  eng  math  sci  hist  total mgr_code acc_code loc_code\n",
       "0  990001  addx   17   29    16   49    43    154        C        A        C\n",
       "1  990002  stch   30    9    48   25    81    193        C        A        A\n",
       "2  990003  gali   93   60     6   84    36    279        A        C        A\n",
       "3  990004  miat   73   22    48   24    72    239        B        C        C\n",
       "4  990005  oran   33   38    59   58    28    216        C        B        A"
      ]
     },
     "execution_count": 12,
     "metadata": {},
     "output_type": "execute_result"
    }
   ],
   "source": [
    "gisa_df.head()"
   ]
  },
  {
   "cell_type": "code",
   "execution_count": 16,
   "id": "c44feaf4",
   "metadata": {},
   "outputs": [],
   "source": [
    "quiz1_df = gisa_df[gisa_df['loc_code'] == 'B']"
   ]
  },
  {
   "cell_type": "code",
   "execution_count": 17,
   "id": "79d6ae50",
   "metadata": {},
   "outputs": [
    {
     "data": {
      "text/html": [
       "<div>\n",
       "<style scoped>\n",
       "    .dataframe tbody tr th:only-of-type {\n",
       "        vertical-align: middle;\n",
       "    }\n",
       "\n",
       "    .dataframe tbody tr th {\n",
       "        vertical-align: top;\n",
       "    }\n",
       "\n",
       "    .dataframe thead th {\n",
       "        text-align: right;\n",
       "    }\n",
       "</style>\n",
       "<table border=\"1\" class=\"dataframe\">\n",
       "  <thead>\n",
       "    <tr style=\"text-align: right;\">\n",
       "      <th></th>\n",
       "      <th>std</th>\n",
       "      <th>email</th>\n",
       "      <th>kor</th>\n",
       "      <th>eng</th>\n",
       "      <th>math</th>\n",
       "      <th>sci</th>\n",
       "      <th>hist</th>\n",
       "      <th>total</th>\n",
       "      <th>mgr_code</th>\n",
       "      <th>acc_code</th>\n",
       "      <th>loc_code</th>\n",
       "    </tr>\n",
       "  </thead>\n",
       "  <tbody>\n",
       "    <tr>\n",
       "      <th>20</th>\n",
       "      <td>990021</td>\n",
       "      <td>equi</td>\n",
       "      <td>13</td>\n",
       "      <td>95</td>\n",
       "      <td>56</td>\n",
       "      <td>93</td>\n",
       "      <td>88</td>\n",
       "      <td>345</td>\n",
       "      <td>B</td>\n",
       "      <td>C</td>\n",
       "      <td>B</td>\n",
       "    </tr>\n",
       "    <tr>\n",
       "      <th>22</th>\n",
       "      <td>990023</td>\n",
       "      <td>tess</td>\n",
       "      <td>86</td>\n",
       "      <td>71</td>\n",
       "      <td>87</td>\n",
       "      <td>6</td>\n",
       "      <td>15</td>\n",
       "      <td>265</td>\n",
       "      <td>B</td>\n",
       "      <td>C</td>\n",
       "      <td>B</td>\n",
       "    </tr>\n",
       "    <tr>\n",
       "      <th>24</th>\n",
       "      <td>990025</td>\n",
       "      <td>lyj2</td>\n",
       "      <td>24</td>\n",
       "      <td>90</td>\n",
       "      <td>72</td>\n",
       "      <td>29</td>\n",
       "      <td>52</td>\n",
       "      <td>267</td>\n",
       "      <td>B</td>\n",
       "      <td>A</td>\n",
       "      <td>B</td>\n",
       "    </tr>\n",
       "    <tr>\n",
       "      <th>25</th>\n",
       "      <td>990026</td>\n",
       "      <td>netm</td>\n",
       "      <td>65</td>\n",
       "      <td>4</td>\n",
       "      <td>4</td>\n",
       "      <td>23</td>\n",
       "      <td>45</td>\n",
       "      <td>141</td>\n",
       "      <td>B</td>\n",
       "      <td>C</td>\n",
       "      <td>B</td>\n",
       "    </tr>\n",
       "    <tr>\n",
       "      <th>28</th>\n",
       "      <td>990029</td>\n",
       "      <td>minh</td>\n",
       "      <td>3</td>\n",
       "      <td>11</td>\n",
       "      <td>89</td>\n",
       "      <td>71</td>\n",
       "      <td>88</td>\n",
       "      <td>262</td>\n",
       "      <td>B</td>\n",
       "      <td>C</td>\n",
       "      <td>B</td>\n",
       "    </tr>\n",
       "  </tbody>\n",
       "</table>\n",
       "</div>"
      ],
      "text/plain": [
       "       std email  kor  eng  math  sci  hist  total mgr_code acc_code loc_code\n",
       "20  990021  equi   13   95    56   93    88    345        B        C        B\n",
       "22  990023  tess   86   71    87    6    15    265        B        C        B\n",
       "24  990025  lyj2   24   90    72   29    52    267        B        A        B\n",
       "25  990026  netm   65    4     4   23    45    141        B        C        B\n",
       "28  990029  minh    3   11    89   71    88    262        B        C        B"
      ]
     },
     "execution_count": 17,
     "metadata": {},
     "output_type": "execute_result"
    }
   ],
   "source": [
    "quiz1_df.head()"
   ]
  },
  {
   "cell_type": "code",
   "execution_count": 19,
   "id": "458eebfe",
   "metadata": {},
   "outputs": [
    {
     "name": "stderr",
     "output_type": "stream",
     "text": [
      "C:\\Users\\BIT\\AppData\\Local\\Temp\\ipykernel_5848\\1314690204.py:1: SettingWithCopyWarning: \n",
      "A value is trying to be set on a copy of a slice from a DataFrame.\n",
      "Try using .loc[row_indexer,col_indexer] = value instead\n",
      "\n",
      "See the caveats in the documentation: https://pandas.pydata.org/pandas-docs/stable/user_guide/indexing.html#returning-a-view-versus-a-copy\n",
      "  quiz1_df['data_1']=quiz1_df['kor']+quiz1_df['eng']\n"
     ]
    }
   ],
   "source": [
    "quiz1_df['data_1']=quiz1_df['kor']+quiz1_df['eng']"
   ]
  },
  {
   "cell_type": "code",
   "execution_count": 20,
   "id": "b558b8f5",
   "metadata": {},
   "outputs": [
    {
     "data": {
      "text/html": [
       "<div>\n",
       "<style scoped>\n",
       "    .dataframe tbody tr th:only-of-type {\n",
       "        vertical-align: middle;\n",
       "    }\n",
       "\n",
       "    .dataframe tbody tr th {\n",
       "        vertical-align: top;\n",
       "    }\n",
       "\n",
       "    .dataframe thead th {\n",
       "        text-align: right;\n",
       "    }\n",
       "</style>\n",
       "<table border=\"1\" class=\"dataframe\">\n",
       "  <thead>\n",
       "    <tr style=\"text-align: right;\">\n",
       "      <th></th>\n",
       "      <th>std</th>\n",
       "      <th>email</th>\n",
       "      <th>kor</th>\n",
       "      <th>eng</th>\n",
       "      <th>math</th>\n",
       "      <th>sci</th>\n",
       "      <th>hist</th>\n",
       "      <th>total</th>\n",
       "      <th>mgr_code</th>\n",
       "      <th>acc_code</th>\n",
       "      <th>loc_code</th>\n",
       "      <th>data_1</th>\n",
       "    </tr>\n",
       "  </thead>\n",
       "  <tbody>\n",
       "    <tr>\n",
       "      <th>20</th>\n",
       "      <td>990021</td>\n",
       "      <td>equi</td>\n",
       "      <td>13</td>\n",
       "      <td>95</td>\n",
       "      <td>56</td>\n",
       "      <td>93</td>\n",
       "      <td>88</td>\n",
       "      <td>345</td>\n",
       "      <td>B</td>\n",
       "      <td>C</td>\n",
       "      <td>B</td>\n",
       "      <td>108</td>\n",
       "    </tr>\n",
       "    <tr>\n",
       "      <th>22</th>\n",
       "      <td>990023</td>\n",
       "      <td>tess</td>\n",
       "      <td>86</td>\n",
       "      <td>71</td>\n",
       "      <td>87</td>\n",
       "      <td>6</td>\n",
       "      <td>15</td>\n",
       "      <td>265</td>\n",
       "      <td>B</td>\n",
       "      <td>C</td>\n",
       "      <td>B</td>\n",
       "      <td>157</td>\n",
       "    </tr>\n",
       "    <tr>\n",
       "      <th>24</th>\n",
       "      <td>990025</td>\n",
       "      <td>lyj2</td>\n",
       "      <td>24</td>\n",
       "      <td>90</td>\n",
       "      <td>72</td>\n",
       "      <td>29</td>\n",
       "      <td>52</td>\n",
       "      <td>267</td>\n",
       "      <td>B</td>\n",
       "      <td>A</td>\n",
       "      <td>B</td>\n",
       "      <td>114</td>\n",
       "    </tr>\n",
       "    <tr>\n",
       "      <th>25</th>\n",
       "      <td>990026</td>\n",
       "      <td>netm</td>\n",
       "      <td>65</td>\n",
       "      <td>4</td>\n",
       "      <td>4</td>\n",
       "      <td>23</td>\n",
       "      <td>45</td>\n",
       "      <td>141</td>\n",
       "      <td>B</td>\n",
       "      <td>C</td>\n",
       "      <td>B</td>\n",
       "      <td>69</td>\n",
       "    </tr>\n",
       "    <tr>\n",
       "      <th>28</th>\n",
       "      <td>990029</td>\n",
       "      <td>minh</td>\n",
       "      <td>3</td>\n",
       "      <td>11</td>\n",
       "      <td>89</td>\n",
       "      <td>71</td>\n",
       "      <td>88</td>\n",
       "      <td>262</td>\n",
       "      <td>B</td>\n",
       "      <td>C</td>\n",
       "      <td>B</td>\n",
       "      <td>14</td>\n",
       "    </tr>\n",
       "  </tbody>\n",
       "</table>\n",
       "</div>"
      ],
      "text/plain": [
       "       std email  kor  eng  math  sci  hist  total mgr_code acc_code loc_code  \\\n",
       "20  990021  equi   13   95    56   93    88    345        B        C        B   \n",
       "22  990023  tess   86   71    87    6    15    265        B        C        B   \n",
       "24  990025  lyj2   24   90    72   29    52    267        B        A        B   \n",
       "25  990026  netm   65    4     4   23    45    141        B        C        B   \n",
       "28  990029  minh    3   11    89   71    88    262        B        C        B   \n",
       "\n",
       "    data_1  \n",
       "20     108  \n",
       "22     157  \n",
       "24     114  \n",
       "25      69  \n",
       "28      14  "
      ]
     },
     "execution_count": 20,
     "metadata": {},
     "output_type": "execute_result"
    }
   ],
   "source": [
    "quiz1_df.head()"
   ]
  },
  {
   "cell_type": "code",
   "execution_count": 23,
   "id": "c924ad06",
   "metadata": {},
   "outputs": [],
   "source": [
    "quiz1_ans = quiz1_df.sort_values(by='data_1',ascending=False)"
   ]
  },
  {
   "cell_type": "code",
   "execution_count": 26,
   "id": "e5b7faef",
   "metadata": {},
   "outputs": [
    {
     "data": {
      "text/plain": [
       "990490"
      ]
     },
     "execution_count": 26,
     "metadata": {},
     "output_type": "execute_result"
    }
   ],
   "source": [
    "quiz1_ans.iloc[4,0]"
   ]
  },
  {
   "cell_type": "code",
   "execution_count": 27,
   "id": "27e58afe",
   "metadata": {},
   "outputs": [],
   "source": [
    "doctor_df = pd.read_csv('./data/source/12/doctor2.csv')"
   ]
  },
  {
   "cell_type": "code",
   "execution_count": 29,
   "id": "8b128345",
   "metadata": {},
   "outputs": [
    {
     "data": {
      "text/html": [
       "<div>\n",
       "<style scoped>\n",
       "    .dataframe tbody tr th:only-of-type {\n",
       "        vertical-align: middle;\n",
       "    }\n",
       "\n",
       "    .dataframe tbody tr th {\n",
       "        vertical-align: top;\n",
       "    }\n",
       "\n",
       "    .dataframe thead th {\n",
       "        text-align: right;\n",
       "    }\n",
       "</style>\n",
       "<table border=\"1\" class=\"dataframe\">\n",
       "  <thead>\n",
       "    <tr style=\"text-align: right;\">\n",
       "      <th></th>\n",
       "      <th>지역</th>\n",
       "      <th>일반의 수</th>\n",
       "      <th>인턴 수</th>\n",
       "      <th>레지던트 수</th>\n",
       "      <th>전문의 수</th>\n",
       "    </tr>\n",
       "  </thead>\n",
       "  <tbody>\n",
       "    <tr>\n",
       "      <th>0</th>\n",
       "      <td>서울</td>\n",
       "      <td>162</td>\n",
       "      <td>1196</td>\n",
       "      <td>4757</td>\n",
       "      <td>9375</td>\n",
       "    </tr>\n",
       "    <tr>\n",
       "      <th>1</th>\n",
       "      <td>부산</td>\n",
       "      <td>58</td>\n",
       "      <td>197</td>\n",
       "      <td>785</td>\n",
       "      <td>2211</td>\n",
       "    </tr>\n",
       "    <tr>\n",
       "      <th>2</th>\n",
       "      <td>대구</td>\n",
       "      <td>27</td>\n",
       "      <td>215</td>\n",
       "      <td>712</td>\n",
       "      <td>1436</td>\n",
       "    </tr>\n",
       "    <tr>\n",
       "      <th>3</th>\n",
       "      <td>인천</td>\n",
       "      <td>47</td>\n",
       "      <td>138</td>\n",
       "      <td>444</td>\n",
       "      <td>1518</td>\n",
       "    </tr>\n",
       "    <tr>\n",
       "      <th>4</th>\n",
       "      <td>대전</td>\n",
       "      <td>25</td>\n",
       "      <td>142</td>\n",
       "      <td>425</td>\n",
       "      <td>1006</td>\n",
       "    </tr>\n",
       "    <tr>\n",
       "      <th>5</th>\n",
       "      <td>광주</td>\n",
       "      <td>16</td>\n",
       "      <td>102</td>\n",
       "      <td>356</td>\n",
       "      <td>1006</td>\n",
       "    </tr>\n",
       "    <tr>\n",
       "      <th>6</th>\n",
       "      <td>울산</td>\n",
       "      <td>19</td>\n",
       "      <td>23</td>\n",
       "      <td>104</td>\n",
       "      <td>467</td>\n",
       "    </tr>\n",
       "  </tbody>\n",
       "</table>\n",
       "</div>"
      ],
      "text/plain": [
       "   지역  일반의 수  인턴 수  레지던트 수  전문의 수\n",
       "0  서울    162  1196    4757   9375\n",
       "1  부산     58   197     785   2211\n",
       "2  대구     27   215     712   1436\n",
       "3  인천     47   138     444   1518\n",
       "4  대전     25   142     425   1006\n",
       "5  광주     16   102     356   1006\n",
       "6  울산     19    23     104    467"
      ]
     },
     "execution_count": 29,
     "metadata": {},
     "output_type": "execute_result"
    }
   ],
   "source": [
    "doctor_df"
   ]
  },
  {
   "cell_type": "code",
   "execution_count": 30,
   "id": "badd7432",
   "metadata": {},
   "outputs": [
    {
     "name": "stdout",
     "output_type": "stream",
     "text": [
      "<class 'pandas.core.frame.DataFrame'>\n",
      "RangeIndex: 7 entries, 0 to 6\n",
      "Data columns (total 5 columns):\n",
      " #   Column  Non-Null Count  Dtype \n",
      "---  ------  --------------  ----- \n",
      " 0   지역      7 non-null      object\n",
      " 1   일반의 수   7 non-null      int64 \n",
      " 2   인턴 수    7 non-null      int64 \n",
      " 3   레지던트 수  7 non-null      int64 \n",
      " 4   전문의 수   7 non-null      int64 \n",
      "dtypes: int64(4), object(1)\n",
      "memory usage: 408.0+ bytes\n"
     ]
    }
   ],
   "source": [
    "doctor_df.info()"
   ]
  },
  {
   "cell_type": "code",
   "execution_count": 31,
   "id": "d86454f4",
   "metadata": {},
   "outputs": [],
   "source": [
    "import matplotlib.pyplot as plt\n",
    "from matplotlib import rc\n",
    "rc('font',family='Malgun Gothic')"
   ]
  },
  {
   "cell_type": "code",
   "execution_count": 64,
   "id": "643a0027",
   "metadata": {},
   "outputs": [],
   "source": [
    "a = doctor_df['지역']"
   ]
  },
  {
   "cell_type": "code",
   "execution_count": 66,
   "id": "e854043b",
   "metadata": {},
   "outputs": [
    {
     "data": {
      "text/plain": [
       "0    서울\n",
       "1    부산\n",
       "2    대구\n",
       "3    인천\n",
       "4    대전\n",
       "5    광주\n",
       "6    울산\n",
       "Name: 지역, dtype: object"
      ]
     },
     "execution_count": 66,
     "metadata": {},
     "output_type": "execute_result"
    }
   ],
   "source": [
    "a"
   ]
  },
  {
   "cell_type": "code",
   "execution_count": 67,
   "id": "e7706bbc",
   "metadata": {},
   "outputs": [],
   "source": [
    "area = doctor_df['지역'].values\n",
    "special = doctor_df['전문의 수'].values"
   ]
  },
  {
   "cell_type": "code",
   "execution_count": 39,
   "id": "eea915e3",
   "metadata": {},
   "outputs": [
    {
     "name": "stdout",
     "output_type": "stream",
     "text": [
      "['서울', '부산', '대구', '인천', '대전', '광주', '울산']\n",
      "[9375, 2211, 1436, 1518, 1006, 1006, 467]\n"
     ]
    }
   ],
   "source": [
    "print(list(area))\n",
    "print(list(special))"
   ]
  },
  {
   "cell_type": "code",
   "execution_count": 40,
   "id": "df830d22",
   "metadata": {},
   "outputs": [
    {
     "data": {
      "image/png": "[encoded data removed]",
      "text/plain": [
       "<Figure size 640x480 with 1 Axes>"
      ]
     },
     "metadata": {},
     "output_type": "display_data"
    }
   ],
   "source": [
    "x = list(area)\n",
    "y = list(special)\n",
    "plt.plot(x,y)\n",
    "plt.show()"
   ]
  },
  {
   "cell_type": "code",
   "execution_count": 45,
   "id": "055db2b6",
   "metadata": {},
   "outputs": [],
   "source": [
    "#비어있는 문자열에 0~9사이의 수를 임의로 생성한다.\n",
    "#생성된 수가 문자열에 있으면 다시 생성하고 없으면\n",
    "#문자열에 추가한다.\n",
    "#문자열의 갯수가 4이면 종료한다.\n",
    "import random\n",
    "def generate_numbers(num_length): #문자열로 리턴\n",
    "    numbers = ''\n",
    "    temp = random.randrange(1,10)\n",
    "    numbers = str(temp)\n",
    "    is_stop = False;\n",
    "    while not is_stop:\n",
    "        temp = random.randrange(0,10)\n",
    "        if str(temp) not in numbers:\n",
    "            numbers = numbers + str(temp)\n",
    "        else:\n",
    "            print('중복숫자 {}'.format(temp))\n",
    "        if len(numbers)==num_length:\n",
    "            is_stop = True\n",
    "            pass\n",
    "        \n",
    "    return numbers"
   ]
  },
  {
   "cell_type": "code",
   "execution_count": 50,
   "id": "2f391a2b",
   "metadata": {},
   "outputs": [
    {
     "data": {
      "text/plain": [
       "'105'"
      ]
     },
     "execution_count": 50,
     "metadata": {},
     "output_type": "execute_result"
    }
   ],
   "source": [
    "generate_numbers(3)"
   ]
  },
  {
   "cell_type": "code",
   "execution_count": 57,
   "id": "113a27de",
   "metadata": {},
   "outputs": [],
   "source": [
    "import random\n",
    "def is_samenumber(numbers):\n",
    "    flag = False\n",
    "    str_num = str(numbers)\n",
    "    result = set(str_num)\n",
    "    if len(result)==4:\n",
    "        flag = True\n",
    "        \n",
    "    return not flag"
   ]
  },
  {
   "cell_type": "code",
   "execution_count": 59,
   "id": "fc90694b",
   "metadata": {},
   "outputs": [
    {
     "name": "stdout",
     "output_type": "stream",
     "text": [
      "1616 True\n"
     ]
    }
   ],
   "source": [
    "numbers = random.randrange(1000,10000)\n",
    "result = is_samenumber(numbers)\n",
    "print(numbers,result)"
   ]
  },
  {
   "cell_type": "code",
   "execution_count": 60,
   "id": "9cec0d18",
   "metadata": {},
   "outputs": [],
   "source": [
    "a = set('1231')"
   ]
  },
  {
   "cell_type": "code",
   "execution_count": 61,
   "id": "69493643",
   "metadata": {},
   "outputs": [
    {
     "name": "stdout",
     "output_type": "stream",
     "text": [
      "{'3', '2', '1'}\n"
     ]
    }
   ],
   "source": [
    "print(a)"
   ]
  },
  {
   "cell_type": "code",
   "execution_count": 62,
   "id": "6bb0157b",
   "metadata": {},
   "outputs": [
    {
     "data": {
      "text/plain": [
       "3"
      ]
     },
     "execution_count": 62,
     "metadata": {},
     "output_type": "execute_result"
    }
   ],
   "source": [
    "len(a)"
   ]
  },
  {
   "cell_type": "code",
   "execution_count": null,
   "id": "6795aac0",
   "metadata": {},
   "outputs": [],
   "source": []
  }
 ],
 "metadata": {
  "kernelspec": {
   "display_name": "Python 3 (ipykernel)",
   "language": "python",
   "name": "python3"
  },
  "language_info": {
   "codemirror_mode": {
    "name": "ipython",
    "version": 3
   },
   "file_extension": ".py",
   "mimetype": "text/x-python",
   "name": "python",
   "nbconvert_exporter": "python",
   "pygments_lexer": "ipython3",
   "version": "3.9.13"
  }
 },
 "nbformat": 4,
 "nbformat_minor": 5
}
